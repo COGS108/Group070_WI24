{
 "cells": [
  {
   "cell_type": "markdown",
   "metadata": {},
   "source": [
    "**If you lost points on the last checkpoint you can get them back by responding to TA/IA feedback**  \n",
    "\n",
    "Update/change the relevant sections where you lost those points, make sure you respond on GitHub Issues to your TA/IA to call their attention to the changes you made here.\n",
    "\n",
    "Please update your Timeline... no battle plan survives contact with the enemy, so make sure we understand how your plans have changed."
   ]
  },
  {
   "cell_type": "markdown",
   "metadata": {},
   "source": [
    "# COGS 108 - EDA Checkpoint"
   ]
  },
  {
   "cell_type": "markdown",
   "metadata": {},
   "source": [
    "# Names\n",
    "\n",
    "- Deena Pederson\n",
    "- Vedika Harnathka\n",
    "- Paola Sanchez\n",
    "- Anne Pham\n",
    "- Zoe Ludena"
   ]
  },
  {
   "cell_type": "markdown",
   "metadata": {},
   "source": [
    "# Research Question"
   ]
  },
  {
   "cell_type": "markdown",
   "metadata": {},
   "source": [
    "How have abortion rates changed in response to changes in various factors - such as the representation of female politicians, access to obstetric and gynecological (OB/GYN) care, and income levels - in the USA from 2014-2017? How will these factors help us predict future abortion rates in the foreseeable future?"
   ]
  },
  {
   "cell_type": "markdown",
   "metadata": {},
   "source": [
    "## Background and Prior Work"
   ]
  },
  {
   "cell_type": "markdown",
   "metadata": {},
   "source": [
    "\n",
    "To be more specific in our research, the definition in which we are abiding by the term “women in governing bodies” are women who are in the respective current state legislature. Throughout our data we will look at all U.S. territories excluding Guam, U.S. Virgin Islands, and the District of Columbia. However, we will be using 3 states as markers and general comparisons to the data: 1) having the highest percentage of women in their state legislature, 2) having the lowest percentage of women in their state legislature, and 3) having the median percentage of women in their state legislature. While proceeding with our research, if we have the time and data to do so, we would love to delve deeper into any possible outliers within the states.\n",
    "\n",
    "One of the first considerations to be made is which states have higher female representation and which have less. We can note that in all 50 states males are over represented while females are underrepresented.[^1] This data splits the measures into two separate categories; state legislatures. Overall Vermont, Maine, and Rhode Island notably have the smallest disparities, while North Dakota, South Dakota, and Nebraska have the highest.\n",
    "\n",
    "A study done by the National Partnership for Women & Families[^2] states with a higher representation of female legislators are more likely to adopt abortion protection policies. This study considers 2 categories of representation in legislation: states where women make up more than a third of the members, and states where women make up less than a third of members. They found that of the prior, 84% of these states have policies that support abortion access while the former only has 15%. They also consider how the ethnic diversity in these women may also correlate.\n",
    "\n",
    "Subsequently, female health is a very general statement, therefore we decided to focus on OB/GYN access. We believe that this may yield some type of correlation between abortion rates. We believe that there will be some type of existing correlation between this accessibility and abortion rates. Additionally, another factor that we must consider are average income rates. In the article, *Rural-urban differences in access to hospital obstetric and neonatal care: how far is the closest one?*, their general conclusion is that: “Women in communities that are already socioeconomically disadvantaged face increasing and substantial travel distances to access perinatal care.[^3] (Hung et al.)\n",
    "\n",
    "[^1]: Wolf, C. (2022, August 25). [Best States for Gender Equality: Representation and Power](https://www.usnews.com/news/best-states/articles/best-states-for-gender-equality-representation-power#:~:text=Vermont%2C%20Maine%20and%20Maryland%20have,women%20compared%20to%2038.1%25%20men)\n",
    "\n",
    "[^2]: Lack of Representation by Women in State Legislatures Threatens Abortion Access. (n.d.). National Partnership for Women & Families. Retrieved February 12, 2024, from [source](https://nationalpartnership.org/news_post/lack-of-representation-women-state-legislatures-threatens-abortion-access/#:~:text=Of%20the%2024%20states%20and)\n",
    "\n",
    "[^3]: Hung, P., Casey, M. M., Kozhimannil, K. B., Karaca-Mandic, P., & Moscovice, I. S. (2018). [Rural-urban differences in access to hospital obstetric and neonatal care: how far is the closest one?](https://doi.org/10.1038/s41372-018-0063-5)"
   ]
  },
  {
   "cell_type": "markdown",
   "metadata": {},
   "source": [
    "# Hypothesis\n"
   ]
  },
  {
   "cell_type": "markdown",
   "metadata": {},
   "source": [
    "\n",
    "Proportionately higher representation of females in state government, lower income level, and higher concentration of OBGYN  correlates to states with higher rates of abortion.\n",
    "We think that with higher representation and advocacy from women in governmental positions of power, this will be reflected through policies allowing for increased access to abortion. \n",
    "Additionally, areas with lower income may have financial burdens not suitable for raising a child, as well as limited access to affordable healthcare and contraceptives. Finally, a higher concentration of OBGYN will correlate to higher access to abortion services and healthcare professionals. "
   ]
  },
  {
   "cell_type": "markdown",
   "metadata": {},
   "source": [
    "# Data"
   ]
  },
  {
   "cell_type": "markdown",
   "metadata": {},
   "source": [
    "## Data overview"
   ]
  },
  {
   "cell_type": "markdown",
   "metadata": {},
   "source": [
    "**Dataset #1: Abortion Incidence**\n",
    "\n",
    "\n",
    "Link: https://www.guttmacher.org/report/abortion-incidence-service-availability-us-2017 \n",
    "\n",
    "\n",
    "Table 1 contains the number of reported abortions, abortion rate, and abortion ratio in the United States from the years 2000-2017. To clean this table we removed the brackets and commas so that the No. of abortions (in 000’s), Rate, and Ratio could be converted to floats. \n",
    "- `aisau1` Number of Observations: 18\n",
    "- `aisau1` Number of Variables: 4\n",
    "\n",
    "Table 2 contains the number of reported abortions and abortion rate in 2014, 2016, and 2017 by region and state. There is also a percentage change from 2014 to 2017. The only cleaning required for this dataset was removing the commas in the data. \n",
    "- `aisau2` Number of Observations: 56\n",
    "- `aisau2` Number of Variables: 8\n",
    "\n",
    "Table 3 provides information about the number and percentage of abortion providers by type and caseload for the years 2014 and 2017. We cleaned this data by removing the commas from the 'Facilities No. 2014', 'Facilities No. 2017', 'Abortions No. 2014',  and 'Abortions No. 2017' columns.\n",
    "- `aisau3` Number of Observations: 10\n",
    "- `aisau3` Number of Variables: 9\n",
    "\n",
    "Table 4 holds the total number of abortion clinics, the percentage of counties without a clinic, and percentage of women living in these counties, by state and region in the years 2014 and 2017. This dataset did not require any further cleaning since all the values were integers.\n",
    "- `aisau4` Number of Observations: 56\n",
    "- `aisau4` Number of Variables: 6\n",
    "\n",
    "Table 5 provides information about the number of abortion clinics in 2014 and 2017 and the percentage change between these years. Additionally, it contains the abortion rate in 2014 and 2017 and the change between these years. It is focused on the states with the proportionately largest decrease in number of clinics and increase in number of clinics. 'Abortion rate 2014', 'Abortion rate 2017' were cleaned by removing commas. \n",
    "- `aisau5` Number of Observations: 21\n",
    "- `aisau5` Number of Variables: 9\n",
    "\n",
    "Table 6 contains the number of medication abortions, among facilities offering only early medication abortions. We removed the commas and switched the objects to floats.  \n",
    "- `aisau6` Number of Observations: 8\n",
    "- `aisau6` Number of Variables: 4\n",
    "\n",
    "Some of the notable variables in this dataset include the abortion rate by state and region, as well as the number of abortion providers by time and region."
   ]
  },
  {
   "cell_type": "markdown",
   "metadata": {},
   "source": [
    "**Dataset #2: Median Household Income by State**\n",
    "- Link: https://nces.ed.gov/programs/digest/d16/tables/dt16_102.30.asp\n",
    "- Number of Observations: 52\n",
    "- `mhis` (1990-2015) Number of Variables: 17\n",
    "- `mhis2`  (2015-2021) Number of Variables: 19\n",
    "\n",
    "This dataset contains information about the median household income in the United States as a whole, as well as broken down by individual states. It contains data for the years 1990- 2015, and 2015-2021 (excluding 2020) with the median for each year as well as the standard error for each year. To clean this dataset, we needed to remove the dollar signs (present in doubles $$) as well as the parentheses to convert appropriate variables to floats. Some of the key information we will utilize from this dataset is from the years 2014-2017 since that is when our first dataset is focused on."
   ]
  },
  {
   "cell_type": "markdown",
   "metadata": {},
   "source": [
    "**Dataset #3: History of Women in the US Congress**\n",
    "\n",
    "- Link: https://cawp.rutgers.edu/facts/levels-office/congress/history-women-us-congress\n",
    "- `congress` Number of Observations: 54\n",
    "- `congress` Number of Variables: 6\n",
    "\n",
    "This dataset provides information on the number of women in the senate, women in the house, and total women in congress over 2 year terms. The information provided was an object with the number of women in each of these categories and then in parentheses specified if these were made up of democrats or republicans. We cleaned this data by splitting each of these 3 data points into 3 more subcategories to identify the number of democrat, republican, and total women in the Senate, House, and Congress."
   ]
  },
  {
   "cell_type": "markdown",
   "metadata": {},
   "source": [
    "**Dataset #4: OB/GYN Rate Per State, 2019-2021**\n",
    "\n",
    "- Link: https://data.hrsa.gov/topics/health-workforce/ahrf\n",
    "- `obgyn1` Number of Observations: 60\n",
    "- `obgyn1` Number of Variables: 5\n",
    "- `obgyn2` Number of Observations: 60\n",
    "- `obgyn2` Number of Variables: 5\n",
    "- `obgyn3` Number of Observations: 60\n",
    "- `obgyn3` Number of Variables: 5\n",
    "\n",
    "This dataset provides information on the rate of OB/GYNs per state from 2019 to 2021. This rate is per 100,000 population, from the HRSA (Health Resources and Services Organization). The data from each year was downloaded as a separate csv file, cleaned to include only the state name and the rate for that year, and then merged into one dataset with all three years.\n",
    "\n",
    "*Note*: The years are not consistent with the rest of the data currently, but we have requested the source for data for years 2014-2017. The data will look very similar so the cleaning/merging should look exactly the same as it does right now."
   ]
  },
  {
   "cell_type": "markdown",
   "metadata": {},
   "source": [
    "**How we will combine the data:**\n",
    "\n",
    "We plan on combining the data by using `.merge()`. We will isolate the years we want to use (which will be 2014-2017 because we have consistent data for those years) and format them in a way that allows for `.merge()` to happen. This means we will expect to have repeating datapoints for the smaller tables. We might have to `.transpose()` DataFrames. This is because some of our columns are years and some of our rows are years. Another way we could work around this issue is by saving the Series or rows into arrays and re-assigning them via `.iloc()` or `.assign()`."
   ]
  },
  {
   "cell_type": "code",
   "execution_count": 1,
   "metadata": {},
   "outputs": [],
   "source": [
    "import pandas as pd\n",
    "import numpy as np\n",
    "import os"
   ]
  },
  {
   "cell_type": "code",
   "execution_count": 2,
   "metadata": {},
   "outputs": [],
   "source": [
    "# Get the current working directory (allows for everyone to pull it without formatting issues)\n",
    "current_dir = os.getcwd()\n",
    "data_folder = os.path.join(current_dir, 'data')\n",
    "\n",
    "# The different CSV files we will be using file paths\n",
    "aisau1 = \"abortion-incidence-service-availability-us-2017-table_1.csv\"\n",
    "aisau2 = \"abortion-incidence-service-availability-us-2017-table_2.csv\"\n",
    "aisau3 = \"abortion-incidence-service-availability-us-2017-table_3.csv\"\n",
    "aisau4 = \"abortion-incidence-service-availability-us-2017-table_4.csv\"\n",
    "aisau5 = \"abortion-incidence-service-availability-us-2017-table_5.csv\"\n",
    "aisau6 = \"abortion-incidence-service-availability-us-2017-table_6.csv\"\n",
    "mhis = \"median-household-income-by-state.csv\"\n",
    "mhis2 = \"tabn102.30.csv\"\n",
    "congress = \"paragraph_1009_field_table_und_0.csv\"\n",
    "obgyn1 = \"AHRFDashboard_2019.csv\"\n",
    "obgyn2 = \"AHRFDashboard_2020.csv\"\n",
    "obgyn3 = \"AHRFDashboard_2021.csv\"\n",
    "\n",
    "# Using os to make the file path\n",
    "\n",
    "#These are from the Abortion Rates link\n",
    "aisau1_fp = os.path.join(data_folder, aisau1)\n",
    "aisau2_fp = os.path.join(data_folder, aisau2)\n",
    "aisau3_fp = os.path.join(data_folder, aisau3)\n",
    "aisau4_fp = os.path.join(data_folder, aisau4)\n",
    "aisau5_fp = os.path.join(data_folder, aisau5)\n",
    "aisau6_fp = os.path.join(data_folder, aisau6)\n",
    "\n",
    "#This is from the Median Household Income by State link\n",
    "mhis_fp = os.path.join(data_folder, mhis)\n",
    "mhis_fp2 = os.path.join(data_folder, mhis2)\n",
    "\n",
    "#This is from https://cawp.rutgers.edu/facts/levels-office/congress/history-women-us-congress\n",
    "congress_fp = os.path.join(data_folder, congress)\n",
    "\n",
    "#We still need more congress data and the OBGYN data\n",
    "obgyn1_fp = os.path.join(data_folder, obgyn1)\n",
    "obgyn2_fp = os.path.join(data_folder, obgyn2)\n",
    "obgyn3_fp = os.path.join(data_folder, obgyn3)\n",
    "\n",
    "# Making DataFrames\n",
    "aisau1 = pd.read_csv(aisau1_fp, sep = \"|\")\n",
    "aisau2 = pd.read_csv(aisau2_fp, sep = \"|\")\n",
    "aisau3 = pd.read_csv(aisau3_fp, sep = \"|\")\n",
    "aisau4 = pd.read_csv(aisau4_fp, sep = \"|\")\n",
    "aisau5 = pd.read_csv(aisau5_fp, sep = \"|\")\n",
    "aisau6 = pd.read_csv(aisau6_fp, sep = \"|\")\n",
    "mhis = pd.read_csv(mhis_fp, sep = \"|\")\n",
    "mhis2 = pd.read_csv(mhis_fp2, sep = \"|\")\n",
    "congress = pd.read_csv(congress_fp)\n",
    "obgyn1 = pd.read_csv(obgyn1_fp)\n",
    "obgyn2 = pd.read_csv(obgyn2_fp)\n",
    "obgyn3 = pd.read_csv(obgyn3_fp)"
   ]
  },
  {
   "cell_type": "markdown",
   "metadata": {},
   "source": [
    "### Cleaning Functions:"
   ]
  },
  {
   "cell_type": "code",
   "execution_count": 3,
   "metadata": {},
   "outputs": [],
   "source": [
    "def remove_commas(df, columns): \n",
    "    #removes commas from specified columns in a df & converts them to float\n",
    "    for column in columns: \n",
    "        df[column] = df[column].replace(',', '', regex = True).astype(float)\n",
    "        \n",
    "#use as such: remove_commas(df, ['column1', 'column2'])\n",
    "\n",
    "def remove_dollar_sign(df, columns): \n",
    "    #removes dollar signs ('$') from specified columns in a df \n",
    "    for column in columns: \n",
    "        df[column] = df[column].replace('[\\$,]', '', regex = True)\n",
    "\n",
    "#use as such: remove_dollar_sign(df, ['column1', 'column2'])\n",
    "\n",
    "def remove_parentheses(df, columns): \n",
    "    #removes parantheses from specified columns in a df\n",
    "    for column in columns: \n",
    "        df[column] = df[column].replace('[\\(\\)]', '', regex=True)\n",
    "        \n",
    "#use as such: remove_parentheses(df, ['column1', 'column2'])\n",
    "\n",
    "def remove_brackets(df, columns): \n",
    "    #removes brackets from specified columns in df \n",
    "    for column in columns: \n",
    "        df[column] = df[column].replace('[\\[\\]]', '', regex = True)\n",
    "        \n",
    "#use as such: remove_brackets(df, ['column1', 'column2'])"
   ]
  },
  {
   "cell_type": "markdown",
   "metadata": {},
   "source": [
    "## Dataset #1 Abortion Incidence"
   ]
  },
  {
   "cell_type": "markdown",
   "metadata": {},
   "source": [
    "### Table 1"
   ]
  },
  {
   "cell_type": "code",
   "execution_count": 4,
   "metadata": {},
   "outputs": [],
   "source": [
    "remove_brackets(aisau1, ['No. (in 000s)', 'Rate', 'Ratio'])\n",
    "remove_commas(aisau1, ['No. (in 000s)', 'Rate', 'Ratio'])"
   ]
  },
  {
   "cell_type": "code",
   "execution_count": 5,
   "metadata": {},
   "outputs": [
    {
     "data": {
      "text/html": [
       "<div>\n",
       "<style scoped>\n",
       "    .dataframe tbody tr th:only-of-type {\n",
       "        vertical-align: middle;\n",
       "    }\n",
       "\n",
       "    .dataframe tbody tr th {\n",
       "        vertical-align: top;\n",
       "    }\n",
       "\n",
       "    .dataframe thead th {\n",
       "        text-align: right;\n",
       "    }\n",
       "</style>\n",
       "<table border=\"1\" class=\"dataframe\">\n",
       "  <thead>\n",
       "    <tr style=\"text-align: right;\">\n",
       "      <th></th>\n",
       "      <th>Year</th>\n",
       "      <th>No. (in 000s)</th>\n",
       "      <th>Rate</th>\n",
       "      <th>Ratio</th>\n",
       "    </tr>\n",
       "  </thead>\n",
       "  <tbody>\n",
       "    <tr>\n",
       "      <th>0</th>\n",
       "      <td>2000</td>\n",
       "      <td>1313.0</td>\n",
       "      <td>21.3</td>\n",
       "      <td>24.5</td>\n",
       "    </tr>\n",
       "    <tr>\n",
       "      <th>1</th>\n",
       "      <td>2001</td>\n",
       "      <td>1291.0</td>\n",
       "      <td>20.9</td>\n",
       "      <td>24.4</td>\n",
       "    </tr>\n",
       "    <tr>\n",
       "      <th>2</th>\n",
       "      <td>2002</td>\n",
       "      <td>1269.0</td>\n",
       "      <td>20.5</td>\n",
       "      <td>23.8</td>\n",
       "    </tr>\n",
       "    <tr>\n",
       "      <th>3</th>\n",
       "      <td>2003</td>\n",
       "      <td>1250.0</td>\n",
       "      <td>20.2</td>\n",
       "      <td>23.3</td>\n",
       "    </tr>\n",
       "    <tr>\n",
       "      <th>4</th>\n",
       "      <td>2004</td>\n",
       "      <td>1222.1</td>\n",
       "      <td>19.7</td>\n",
       "      <td>22.9</td>\n",
       "    </tr>\n",
       "  </tbody>\n",
       "</table>\n",
       "</div>"
      ],
      "text/plain": [
       "   Year  No. (in 000s)  Rate  Ratio\n",
       "0  2000         1313.0  21.3   24.5\n",
       "1  2001         1291.0  20.9   24.4\n",
       "2  2002         1269.0  20.5   23.8\n",
       "3  2003         1250.0  20.2   23.3\n",
       "4  2004         1222.1  19.7   22.9"
      ]
     },
     "execution_count": 5,
     "metadata": {},
     "output_type": "execute_result"
    }
   ],
   "source": [
    "aisau1.head()"
   ]
  },
  {
   "cell_type": "markdown",
   "metadata": {},
   "source": [
    "### Table 2"
   ]
  },
  {
   "cell_type": "code",
   "execution_count": 6,
   "metadata": {},
   "outputs": [],
   "source": [
    "remove_commas(aisau2, [\"No. 2014\", \"No. 2016\", \"No. 2017\"])"
   ]
  },
  {
   "cell_type": "code",
   "execution_count": 7,
   "metadata": {},
   "outputs": [
    {
     "data": {
      "text/html": [
       "<div>\n",
       "<style scoped>\n",
       "    .dataframe tbody tr th:only-of-type {\n",
       "        vertical-align: middle;\n",
       "    }\n",
       "\n",
       "    .dataframe tbody tr th {\n",
       "        vertical-align: top;\n",
       "    }\n",
       "\n",
       "    .dataframe thead th {\n",
       "        text-align: right;\n",
       "    }\n",
       "</style>\n",
       "<table border=\"1\" class=\"dataframe\">\n",
       "  <thead>\n",
       "    <tr style=\"text-align: right;\">\n",
       "      <th></th>\n",
       "      <th>Region and State</th>\n",
       "      <th>No. 2014</th>\n",
       "      <th>No. 2016</th>\n",
       "      <th>No. 2017</th>\n",
       "      <th>Rate 2014</th>\n",
       "      <th>Rate 2016</th>\n",
       "      <th>Rate 2017</th>\n",
       "      <th>% change 2014-2017</th>\n",
       "    </tr>\n",
       "  </thead>\n",
       "  <tbody>\n",
       "    <tr>\n",
       "      <th>0</th>\n",
       "      <td>U.S. total</td>\n",
       "      <td>926190.0</td>\n",
       "      <td>874080.0</td>\n",
       "      <td>862320.0</td>\n",
       "      <td>14.6</td>\n",
       "      <td>13.7</td>\n",
       "      <td>13.5</td>\n",
       "      <td>-8</td>\n",
       "    </tr>\n",
       "    <tr>\n",
       "      <th>1</th>\n",
       "      <td>Northeast</td>\n",
       "      <td>240320.0</td>\n",
       "      <td>232040.0</td>\n",
       "      <td>224310.0</td>\n",
       "      <td>21.8</td>\n",
       "      <td>21.2</td>\n",
       "      <td>20.5</td>\n",
       "      <td>-6</td>\n",
       "    </tr>\n",
       "    <tr>\n",
       "      <th>2</th>\n",
       "      <td>Connecticut</td>\n",
       "      <td>13140.0</td>\n",
       "      <td>12210.0</td>\n",
       "      <td>11910.0</td>\n",
       "      <td>19.2</td>\n",
       "      <td>18.1</td>\n",
       "      <td>17.7</td>\n",
       "      <td>-8</td>\n",
       "    </tr>\n",
       "    <tr>\n",
       "      <th>3</th>\n",
       "      <td>Maine</td>\n",
       "      <td>2220.0</td>\n",
       "      <td>2060.0</td>\n",
       "      <td>2040.0</td>\n",
       "      <td>9.5</td>\n",
       "      <td>8.9</td>\n",
       "      <td>8.8</td>\n",
       "      <td>-7</td>\n",
       "    </tr>\n",
       "    <tr>\n",
       "      <th>4</th>\n",
       "      <td>Massachusetts</td>\n",
       "      <td>21020.0</td>\n",
       "      <td>19200.0</td>\n",
       "      <td>18590.0</td>\n",
       "      <td>15.3</td>\n",
       "      <td>14.0</td>\n",
       "      <td>13.5</td>\n",
       "      <td>-12</td>\n",
       "    </tr>\n",
       "  </tbody>\n",
       "</table>\n",
       "</div>"
      ],
      "text/plain": [
       "  Region and State  No. 2014  No. 2016  No. 2017  Rate 2014  Rate 2016  \\\n",
       "0       U.S. total  926190.0  874080.0  862320.0       14.6       13.7   \n",
       "1        Northeast  240320.0  232040.0  224310.0       21.8       21.2   \n",
       "2      Connecticut   13140.0   12210.0   11910.0       19.2       18.1   \n",
       "3            Maine    2220.0    2060.0    2040.0        9.5        8.9   \n",
       "4    Massachusetts   21020.0   19200.0   18590.0       15.3       14.0   \n",
       "\n",
       "   Rate 2017  % change 2014-2017  \n",
       "0       13.5                  -8  \n",
       "1       20.5                  -6  \n",
       "2       17.7                  -8  \n",
       "3        8.8                  -7  \n",
       "4       13.5                 -12  "
      ]
     },
     "execution_count": 7,
     "metadata": {},
     "output_type": "execute_result"
    }
   ],
   "source": [
    "aisau2.head()"
   ]
  },
  {
   "cell_type": "markdown",
   "metadata": {},
   "source": [
    "### Table 3"
   ]
  },
  {
   "cell_type": "code",
   "execution_count": 8,
   "metadata": {},
   "outputs": [],
   "source": [
    "remove_commas(aisau3, ['Facilities No. 2014', 'Facilities No. 2017', \n",
    "                       'Abortions No. 2014', 'Abortions No. 2017'])"
   ]
  },
  {
   "cell_type": "code",
   "execution_count": 9,
   "metadata": {},
   "outputs": [
    {
     "data": {
      "text/html": [
       "<div>\n",
       "<style scoped>\n",
       "    .dataframe tbody tr th:only-of-type {\n",
       "        vertical-align: middle;\n",
       "    }\n",
       "\n",
       "    .dataframe tbody tr th {\n",
       "        vertical-align: top;\n",
       "    }\n",
       "\n",
       "    .dataframe thead th {\n",
       "        text-align: right;\n",
       "    }\n",
       "</style>\n",
       "<table border=\"1\" class=\"dataframe\">\n",
       "  <thead>\n",
       "    <tr style=\"text-align: right;\">\n",
       "      <th></th>\n",
       "      <th>Unnamed</th>\n",
       "      <th>Facilities No. 2014</th>\n",
       "      <th>Facilities No. 2017</th>\n",
       "      <th>Facilities % 2014</th>\n",
       "      <th>Facilities % 2017</th>\n",
       "      <th>Abortions No. 2014</th>\n",
       "      <th>Abortions No. 2017</th>\n",
       "      <th>Abortions % 2014</th>\n",
       "      <th>Abortions % 2017</th>\n",
       "    </tr>\n",
       "  </thead>\n",
       "  <tbody>\n",
       "    <tr>\n",
       "      <th>Facility type</th>\n",
       "      <td>Total</td>\n",
       "      <td>1671.0</td>\n",
       "      <td>1587.0</td>\n",
       "      <td>100</td>\n",
       "      <td>100</td>\n",
       "      <td>926190.0</td>\n",
       "      <td>862320.0</td>\n",
       "      <td>100</td>\n",
       "      <td>100</td>\n",
       "    </tr>\n",
       "    <tr>\n",
       "      <th>Facility type</th>\n",
       "      <td>Hospital</td>\n",
       "      <td>638.0</td>\n",
       "      <td>518.0</td>\n",
       "      <td>38</td>\n",
       "      <td>33</td>\n",
       "      <td>34410.0</td>\n",
       "      <td>28760.0</td>\n",
       "      <td>4</td>\n",
       "      <td>3</td>\n",
       "    </tr>\n",
       "    <tr>\n",
       "      <th>Facility type</th>\n",
       "      <td>Abortion clinic</td>\n",
       "      <td>272.0</td>\n",
       "      <td>253.0</td>\n",
       "      <td>16</td>\n",
       "      <td>16</td>\n",
       "      <td>547130.0</td>\n",
       "      <td>519180.0</td>\n",
       "      <td>59</td>\n",
       "      <td>60</td>\n",
       "    </tr>\n",
       "    <tr>\n",
       "      <th>Facility type</th>\n",
       "      <td>Nonspecialized clinic</td>\n",
       "      <td>517.0</td>\n",
       "      <td>555.0</td>\n",
       "      <td>31</td>\n",
       "      <td>35</td>\n",
       "      <td>331790.0</td>\n",
       "      <td>302860.0</td>\n",
       "      <td>36</td>\n",
       "      <td>35</td>\n",
       "    </tr>\n",
       "    <tr>\n",
       "      <th>Facility type</th>\n",
       "      <td>Physicians' office</td>\n",
       "      <td>244.0</td>\n",
       "      <td>261.0</td>\n",
       "      <td>15</td>\n",
       "      <td>16</td>\n",
       "      <td>12870.0</td>\n",
       "      <td>11510.0</td>\n",
       "      <td>1</td>\n",
       "      <td>1</td>\n",
       "    </tr>\n",
       "  </tbody>\n",
       "</table>\n",
       "</div>"
      ],
      "text/plain": [
       "                             Unnamed  Facilities No. 2014  \\\n",
       "Facility type                  Total               1671.0   \n",
       "Facility type               Hospital                638.0   \n",
       "Facility type        Abortion clinic                272.0   \n",
       "Facility type  Nonspecialized clinic                517.0   \n",
       "Facility type     Physicians' office                244.0   \n",
       "\n",
       "               Facilities No. 2017  Facilities % 2014  Facilities % 2017  \\\n",
       "Facility type               1587.0                100                100   \n",
       "Facility type                518.0                 38                 33   \n",
       "Facility type                253.0                 16                 16   \n",
       "Facility type                555.0                 31                 35   \n",
       "Facility type                261.0                 15                 16   \n",
       "\n",
       "               Abortions No. 2014  Abortions No. 2017  Abortions % 2014  \\\n",
       "Facility type            926190.0            862320.0               100   \n",
       "Facility type             34410.0             28760.0                 4   \n",
       "Facility type            547130.0            519180.0                59   \n",
       "Facility type            331790.0            302860.0                36   \n",
       "Facility type             12870.0             11510.0                 1   \n",
       "\n",
       "               Abortions % 2017  \n",
       "Facility type               100  \n",
       "Facility type                 3  \n",
       "Facility type                60  \n",
       "Facility type                35  \n",
       "Facility type                 1  "
      ]
     },
     "execution_count": 9,
     "metadata": {},
     "output_type": "execute_result"
    }
   ],
   "source": [
    "aisau3.head()"
   ]
  },
  {
   "cell_type": "markdown",
   "metadata": {},
   "source": [
    "### Table 4"
   ]
  },
  {
   "cell_type": "code",
   "execution_count": 10,
   "metadata": {},
   "outputs": [
    {
     "data": {
      "text/html": [
       "<div>\n",
       "<style scoped>\n",
       "    .dataframe tbody tr th:only-of-type {\n",
       "        vertical-align: middle;\n",
       "    }\n",
       "\n",
       "    .dataframe tbody tr th {\n",
       "        vertical-align: top;\n",
       "    }\n",
       "\n",
       "    .dataframe thead th {\n",
       "        text-align: right;\n",
       "    }\n",
       "</style>\n",
       "<table border=\"1\" class=\"dataframe\">\n",
       "  <thead>\n",
       "    <tr style=\"text-align: right;\">\n",
       "      <th></th>\n",
       "      <th>Region and state</th>\n",
       "      <th>No. of clinics 2014</th>\n",
       "      <th>No. of clinics 2017</th>\n",
       "      <th>% change 2014-2017</th>\n",
       "      <th>% of counties without a clinic, 2017</th>\n",
       "      <th>% of women in counties with no clinic, 2017</th>\n",
       "    </tr>\n",
       "  </thead>\n",
       "  <tbody>\n",
       "    <tr>\n",
       "      <th>0</th>\n",
       "      <td>U.S. total</td>\n",
       "      <td>789</td>\n",
       "      <td>808</td>\n",
       "      <td>2</td>\n",
       "      <td>89</td>\n",
       "      <td>38</td>\n",
       "    </tr>\n",
       "    <tr>\n",
       "      <th>1</th>\n",
       "      <td>Northeast</td>\n",
       "      <td>212</td>\n",
       "      <td>245</td>\n",
       "      <td>16</td>\n",
       "      <td>54</td>\n",
       "      <td>21</td>\n",
       "    </tr>\n",
       "    <tr>\n",
       "      <th>2</th>\n",
       "      <td>Connecticut</td>\n",
       "      <td>25</td>\n",
       "      <td>26</td>\n",
       "      <td>4</td>\n",
       "      <td>13</td>\n",
       "      <td>5</td>\n",
       "    </tr>\n",
       "    <tr>\n",
       "      <th>3</th>\n",
       "      <td>Maine</td>\n",
       "      <td>4</td>\n",
       "      <td>16</td>\n",
       "      <td>300</td>\n",
       "      <td>31</td>\n",
       "      <td>24</td>\n",
       "    </tr>\n",
       "    <tr>\n",
       "      <th>4</th>\n",
       "      <td>Massachusetts</td>\n",
       "      <td>14</td>\n",
       "      <td>19</td>\n",
       "      <td>36</td>\n",
       "      <td>43</td>\n",
       "      <td>13</td>\n",
       "    </tr>\n",
       "  </tbody>\n",
       "</table>\n",
       "</div>"
      ],
      "text/plain": [
       "  Region and state  No. of clinics 2014  No. of clinics 2017  \\\n",
       "0       U.S. total                  789                  808   \n",
       "1        Northeast                  212                  245   \n",
       "2      Connecticut                   25                   26   \n",
       "3            Maine                    4                   16   \n",
       "4    Massachusetts                   14                   19   \n",
       "\n",
       "   % change 2014-2017  % of counties without a clinic, 2017  \\\n",
       "0                   2                                    89   \n",
       "1                  16                                    54   \n",
       "2                   4                                    13   \n",
       "3                 300                                    31   \n",
       "4                  36                                    43   \n",
       "\n",
       "   % of women in counties with no clinic, 2017  \n",
       "0                                           38  \n",
       "1                                           21  \n",
       "2                                            5  \n",
       "3                                           24  \n",
       "4                                           13  "
      ]
     },
     "execution_count": 10,
     "metadata": {},
     "output_type": "execute_result"
    }
   ],
   "source": [
    "aisau4.head() #no cleaning necessary"
   ]
  },
  {
   "cell_type": "markdown",
   "metadata": {},
   "source": [
    "### Table 5"
   ]
  },
  {
   "cell_type": "code",
   "execution_count": 11,
   "metadata": {},
   "outputs": [],
   "source": [
    "remove_commas(aisau5, ['Abortion rate 2014', 'Abortion rate 2017'])"
   ]
  },
  {
   "cell_type": "code",
   "execution_count": 12,
   "metadata": {},
   "outputs": [
    {
     "data": {
      "text/html": [
       "<div>\n",
       "<style scoped>\n",
       "    .dataframe tbody tr th:only-of-type {\n",
       "        vertical-align: middle;\n",
       "    }\n",
       "\n",
       "    .dataframe tbody tr th {\n",
       "        vertical-align: top;\n",
       "    }\n",
       "\n",
       "    .dataframe thead th {\n",
       "        text-align: right;\n",
       "    }\n",
       "</style>\n",
       "<table border=\"1\" class=\"dataframe\">\n",
       "  <thead>\n",
       "    <tr style=\"text-align: right;\">\n",
       "      <th></th>\n",
       "      <th>Prop Num of Clinics Decline/Increase</th>\n",
       "      <th>Location</th>\n",
       "      <th>No. of clinics 2014</th>\n",
       "      <th>No. of clinics 2017</th>\n",
       "      <th>No. of clinics % change</th>\n",
       "      <th>Abortion rate 2014</th>\n",
       "      <th>Abortion rate 2017</th>\n",
       "      <th>Abortion rate % change</th>\n",
       "      <th>Total no. of new restrictions in effect 2014–2017</th>\n",
       "    </tr>\n",
       "  </thead>\n",
       "  <tbody>\n",
       "    <tr>\n",
       "      <th>0</th>\n",
       "      <td>NaN</td>\n",
       "      <td>U.S. total</td>\n",
       "      <td>789</td>\n",
       "      <td>808</td>\n",
       "      <td>2</td>\n",
       "      <td>14.6</td>\n",
       "      <td>13.5</td>\n",
       "      <td>-8</td>\n",
       "      <td>196</td>\n",
       "    </tr>\n",
       "    <tr>\n",
       "      <th>1</th>\n",
       "      <td>10 states with proportionately largest decline...</td>\n",
       "      <td>Kentucky</td>\n",
       "      <td>2</td>\n",
       "      <td>1</td>\n",
       "      <td>-50</td>\n",
       "      <td>4.1</td>\n",
       "      <td>3.8</td>\n",
       "      <td>-9</td>\n",
       "      <td>3</td>\n",
       "    </tr>\n",
       "    <tr>\n",
       "      <th>2</th>\n",
       "      <td>10 states with proportionately largest decline...</td>\n",
       "      <td>West Virginia</td>\n",
       "      <td>2</td>\n",
       "      <td>1</td>\n",
       "      <td>-50</td>\n",
       "      <td>6.0</td>\n",
       "      <td>4.4</td>\n",
       "      <td>-26</td>\n",
       "      <td>6</td>\n",
       "    </tr>\n",
       "    <tr>\n",
       "      <th>3</th>\n",
       "      <td>10 states with proportionately largest decline...</td>\n",
       "      <td>Indiana</td>\n",
       "      <td>9</td>\n",
       "      <td>6</td>\n",
       "      <td>-33</td>\n",
       "      <td>6.3</td>\n",
       "      <td>5.9</td>\n",
       "      <td>-6</td>\n",
       "      <td>20</td>\n",
       "    </tr>\n",
       "    <tr>\n",
       "      <th>4</th>\n",
       "      <td>10 states with proportionately largest decline...</td>\n",
       "      <td>Iowa</td>\n",
       "      <td>12</td>\n",
       "      <td>8</td>\n",
       "      <td>-33</td>\n",
       "      <td>7.5</td>\n",
       "      <td>6.3</td>\n",
       "      <td>-15</td>\n",
       "      <td>9</td>\n",
       "    </tr>\n",
       "  </tbody>\n",
       "</table>\n",
       "</div>"
      ],
      "text/plain": [
       "                Prop Num of Clinics Decline/Increase       Location  \\\n",
       "0                                                NaN     U.S. total   \n",
       "1  10 states with proportionately largest decline...       Kentucky   \n",
       "2  10 states with proportionately largest decline...  West Virginia   \n",
       "3  10 states with proportionately largest decline...        Indiana   \n",
       "4  10 states with proportionately largest decline...           Iowa   \n",
       "\n",
       "   No. of clinics 2014  No. of clinics 2017  No. of clinics % change  \\\n",
       "0                  789                  808                        2   \n",
       "1                    2                    1                      -50   \n",
       "2                    2                    1                      -50   \n",
       "3                    9                    6                      -33   \n",
       "4                   12                    8                      -33   \n",
       "\n",
       "   Abortion rate 2014  Abortion rate 2017  Abortion rate % change  \\\n",
       "0                14.6                13.5                      -8   \n",
       "1                 4.1                 3.8                      -9   \n",
       "2                 6.0                 4.4                     -26   \n",
       "3                 6.3                 5.9                      -6   \n",
       "4                 7.5                 6.3                     -15   \n",
       "\n",
       "   Total no. of new restrictions in effect 2014–2017  \n",
       "0                                                196  \n",
       "1                                                  3  \n",
       "2                                                  6  \n",
       "3                                                 20  \n",
       "4                                                  9  "
      ]
     },
     "execution_count": 12,
     "metadata": {},
     "output_type": "execute_result"
    }
   ],
   "source": [
    "aisau5.head()"
   ]
  },
  {
   "cell_type": "code",
   "execution_count": 13,
   "metadata": {},
   "outputs": [],
   "source": [
    "descriptor_decrease = '10 states with proportionately largest declines in number of clinics'\n",
    "descriptor_increase = '10 states with proportionately largest increases in number of clinics'"
   ]
  },
  {
   "cell_type": "code",
   "execution_count": 14,
   "metadata": {},
   "outputs": [
    {
     "data": {
      "text/html": [
       "<div>\n",
       "<style scoped>\n",
       "    .dataframe tbody tr th:only-of-type {\n",
       "        vertical-align: middle;\n",
       "    }\n",
       "\n",
       "    .dataframe tbody tr th {\n",
       "        vertical-align: top;\n",
       "    }\n",
       "\n",
       "    .dataframe thead th {\n",
       "        text-align: right;\n",
       "    }\n",
       "</style>\n",
       "<table border=\"1\" class=\"dataframe\">\n",
       "  <thead>\n",
       "    <tr style=\"text-align: right;\">\n",
       "      <th></th>\n",
       "      <th>Location</th>\n",
       "      <th>No. of clinics 2014</th>\n",
       "      <th>No. of clinics 2017</th>\n",
       "      <th>No. of clinics % change</th>\n",
       "      <th>Abortion rate 2014</th>\n",
       "      <th>Abortion rate 2017</th>\n",
       "      <th>Abortion rate % change</th>\n",
       "      <th>Total no. of new restrictions in effect 2014–2017</th>\n",
       "    </tr>\n",
       "  </thead>\n",
       "  <tbody>\n",
       "    <tr>\n",
       "      <th>1</th>\n",
       "      <td>Kentucky</td>\n",
       "      <td>2</td>\n",
       "      <td>1</td>\n",
       "      <td>-50</td>\n",
       "      <td>4.1</td>\n",
       "      <td>3.8</td>\n",
       "      <td>-9</td>\n",
       "      <td>3</td>\n",
       "    </tr>\n",
       "    <tr>\n",
       "      <th>2</th>\n",
       "      <td>West Virginia</td>\n",
       "      <td>2</td>\n",
       "      <td>1</td>\n",
       "      <td>-50</td>\n",
       "      <td>6.0</td>\n",
       "      <td>4.4</td>\n",
       "      <td>-26</td>\n",
       "      <td>6</td>\n",
       "    </tr>\n",
       "    <tr>\n",
       "      <th>3</th>\n",
       "      <td>Indiana</td>\n",
       "      <td>9</td>\n",
       "      <td>6</td>\n",
       "      <td>-33</td>\n",
       "      <td>6.3</td>\n",
       "      <td>5.9</td>\n",
       "      <td>-6</td>\n",
       "      <td>20</td>\n",
       "    </tr>\n",
       "    <tr>\n",
       "      <th>4</th>\n",
       "      <td>Iowa</td>\n",
       "      <td>12</td>\n",
       "      <td>8</td>\n",
       "      <td>-33</td>\n",
       "      <td>7.5</td>\n",
       "      <td>6.3</td>\n",
       "      <td>-15</td>\n",
       "      <td>9</td>\n",
       "    </tr>\n",
       "    <tr>\n",
       "      <th>5</th>\n",
       "      <td>New Mexico</td>\n",
       "      <td>9</td>\n",
       "      <td>6</td>\n",
       "      <td>-33</td>\n",
       "      <td>11.7</td>\n",
       "      <td>11.7</td>\n",
       "      <td>0</td>\n",
       "      <td>0</td>\n",
       "    </tr>\n",
       "  </tbody>\n",
       "</table>\n",
       "</div>"
      ],
      "text/plain": [
       "        Location  No. of clinics 2014  No. of clinics 2017  \\\n",
       "1       Kentucky                    2                    1   \n",
       "2  West Virginia                    2                    1   \n",
       "3        Indiana                    9                    6   \n",
       "4           Iowa                   12                    8   \n",
       "5     New Mexico                    9                    6   \n",
       "\n",
       "   No. of clinics % change  Abortion rate 2014  Abortion rate 2017  \\\n",
       "1                      -50                 4.1                 3.8   \n",
       "2                      -50                 6.0                 4.4   \n",
       "3                      -33                 6.3                 5.9   \n",
       "4                      -33                 7.5                 6.3   \n",
       "5                      -33                11.7                11.7   \n",
       "\n",
       "   Abortion rate % change  Total no. of new restrictions in effect 2014–2017  \n",
       "1                      -9                                                  3  \n",
       "2                     -26                                                  6  \n",
       "3                      -6                                                 20  \n",
       "4                     -15                                                  9  \n",
       "5                       0                                                  0  "
      ]
     },
     "execution_count": 14,
     "metadata": {},
     "output_type": "execute_result"
    }
   ],
   "source": [
    "#Split up the table, so we have the states with largest proportional decline in number of clients\n",
    "largest_prop_decline = aisau5[aisau5['Prop Num of Clinics Decline/Increase'] == descriptor_decrease].drop(columns = ['Prop Num of Clinics Decline/Increase'], axis = 1)\n",
    "largest_prop_decline.head()"
   ]
  },
  {
   "cell_type": "code",
   "execution_count": 15,
   "metadata": {},
   "outputs": [
    {
     "data": {
      "text/html": [
       "<div>\n",
       "<style scoped>\n",
       "    .dataframe tbody tr th:only-of-type {\n",
       "        vertical-align: middle;\n",
       "    }\n",
       "\n",
       "    .dataframe tbody tr th {\n",
       "        vertical-align: top;\n",
       "    }\n",
       "\n",
       "    .dataframe thead th {\n",
       "        text-align: right;\n",
       "    }\n",
       "</style>\n",
       "<table border=\"1\" class=\"dataframe\">\n",
       "  <thead>\n",
       "    <tr style=\"text-align: right;\">\n",
       "      <th></th>\n",
       "      <th>Location</th>\n",
       "      <th>No. of clinics 2014</th>\n",
       "      <th>No. of clinics 2017</th>\n",
       "      <th>No. of clinics % change</th>\n",
       "      <th>Abortion rate 2014</th>\n",
       "      <th>Abortion rate 2017</th>\n",
       "      <th>Abortion rate % change</th>\n",
       "      <th>Total no. of new restrictions in effect 2014–2017</th>\n",
       "    </tr>\n",
       "  </thead>\n",
       "  <tbody>\n",
       "    <tr>\n",
       "      <th>11</th>\n",
       "      <td>Maine</td>\n",
       "      <td>4</td>\n",
       "      <td>16</td>\n",
       "      <td>300</td>\n",
       "      <td>9.5</td>\n",
       "      <td>8.8</td>\n",
       "      <td>-7</td>\n",
       "      <td>0</td>\n",
       "    </tr>\n",
       "    <tr>\n",
       "      <th>12</th>\n",
       "      <td>Missouri</td>\n",
       "      <td>1</td>\n",
       "      <td>3</td>\n",
       "      <td>200</td>\n",
       "      <td>4.4</td>\n",
       "      <td>4.0</td>\n",
       "      <td>-8</td>\n",
       "      <td>5</td>\n",
       "    </tr>\n",
       "    <tr>\n",
       "      <th>13</th>\n",
       "      <td>Utah</td>\n",
       "      <td>2</td>\n",
       "      <td>3</td>\n",
       "      <td>50</td>\n",
       "      <td>4.6</td>\n",
       "      <td>4.4</td>\n",
       "      <td>-4</td>\n",
       "      <td>2</td>\n",
       "    </tr>\n",
       "    <tr>\n",
       "      <th>14</th>\n",
       "      <td>Massachusetts</td>\n",
       "      <td>14</td>\n",
       "      <td>19</td>\n",
       "      <td>36</td>\n",
       "      <td>15.3</td>\n",
       "      <td>13.5</td>\n",
       "      <td>-12</td>\n",
       "      <td>0</td>\n",
       "    </tr>\n",
       "    <tr>\n",
       "      <th>15</th>\n",
       "      <td>Alaska</td>\n",
       "      <td>3</td>\n",
       "      <td>4</td>\n",
       "      <td>33</td>\n",
       "      <td>10.0</td>\n",
       "      <td>8.6</td>\n",
       "      <td>-14</td>\n",
       "      <td>6</td>\n",
       "    </tr>\n",
       "  </tbody>\n",
       "</table>\n",
       "</div>"
      ],
      "text/plain": [
       "         Location  No. of clinics 2014  No. of clinics 2017  \\\n",
       "11          Maine                    4                   16   \n",
       "12       Missouri                    1                    3   \n",
       "13           Utah                    2                    3   \n",
       "14  Massachusetts                   14                   19   \n",
       "15         Alaska                    3                    4   \n",
       "\n",
       "    No. of clinics % change  Abortion rate 2014  Abortion rate 2017  \\\n",
       "11                      300                 9.5                 8.8   \n",
       "12                      200                 4.4                 4.0   \n",
       "13                       50                 4.6                 4.4   \n",
       "14                       36                15.3                13.5   \n",
       "15                       33                10.0                 8.6   \n",
       "\n",
       "    Abortion rate % change  Total no. of new restrictions in effect 2014–2017  \n",
       "11                      -7                                                  0  \n",
       "12                      -8                                                  5  \n",
       "13                      -4                                                  2  \n",
       "14                     -12                                                  0  \n",
       "15                     -14                                                  6  "
      ]
     },
     "execution_count": 15,
     "metadata": {},
     "output_type": "execute_result"
    }
   ],
   "source": [
    "#And we have the states with largest proportional incline in number of clients\n",
    "largest_prop_increase = aisau5[aisau5['Prop Num of Clinics Decline/Increase'] == descriptor_increase].drop(columns = ['Prop Num of Clinics Decline/Increase'], axis = 1)\n",
    "largest_prop_increase.head()"
   ]
  },
  {
   "cell_type": "code",
   "execution_count": 20,
   "metadata": {},
   "outputs": [
    {
     "data": {
      "text/html": [
       "<div>\n",
       "<style scoped>\n",
       "    .dataframe tbody tr th:only-of-type {\n",
       "        vertical-align: middle;\n",
       "    }\n",
       "\n",
       "    .dataframe tbody tr th {\n",
       "        vertical-align: top;\n",
       "    }\n",
       "\n",
       "    .dataframe thead th {\n",
       "        text-align: right;\n",
       "    }\n",
       "</style>\n",
       "<table border=\"1\" class=\"dataframe\">\n",
       "  <thead>\n",
       "    <tr style=\"text-align: right;\">\n",
       "      <th></th>\n",
       "      <th>Location</th>\n",
       "      <th>No. of clinics 2014</th>\n",
       "      <th>No. of clinics 2017</th>\n",
       "      <th>No. of clinics % change</th>\n",
       "      <th>Abortion rate 2014</th>\n",
       "      <th>Abortion rate 2017</th>\n",
       "      <th>Abortion rate % change</th>\n",
       "      <th>Total no. of new restrictions in effect 2014–2017</th>\n",
       "    </tr>\n",
       "  </thead>\n",
       "  <tbody>\n",
       "    <tr>\n",
       "      <th>0</th>\n",
       "      <td>U.S. total</td>\n",
       "      <td>789</td>\n",
       "      <td>808</td>\n",
       "      <td>2</td>\n",
       "      <td>14.6</td>\n",
       "      <td>13.5</td>\n",
       "      <td>-8</td>\n",
       "      <td>196</td>\n",
       "    </tr>\n",
       "  </tbody>\n",
       "</table>\n",
       "</div>"
      ],
      "text/plain": [
       "     Location No. of clinics 2014 No. of clinics 2017 No. of clinics % change  \\\n",
       "0  U.S. total                 789                 808                       2   \n",
       "\n",
       "  Abortion rate 2014 Abortion rate 2017 Abortion rate % change  \\\n",
       "0               14.6               13.5                     -8   \n",
       "\n",
       "  Total no. of new restrictions in effect 2014–2017  \n",
       "0                                               196  "
      ]
     },
     "execution_count": 20,
     "metadata": {},
     "output_type": "execute_result"
    }
   ],
   "source": [
    "#This row falls in neither category, as it is the entirety of the US\n",
    "US_aisau5 = aisau5.iloc[0].to_frame().iloc[1:].transpose()\n",
    "US_aisau5"
   ]
  },
  {
   "cell_type": "markdown",
   "metadata": {},
   "source": [
    "### Table 6"
   ]
  },
  {
   "cell_type": "code",
   "execution_count": null,
   "metadata": {},
   "outputs": [],
   "source": [
    "remove_commas(aisau6, ['No. of medication abortions'])"
   ]
  },
  {
   "cell_type": "code",
   "execution_count": null,
   "metadata": {},
   "outputs": [],
   "source": [
    "aisau6.head()"
   ]
  },
  {
   "cell_type": "markdown",
   "metadata": {},
   "source": [
    "## Dataset #2 Median household income, by state: Selected years, 1990 through 2015"
   ]
  },
  {
   "cell_type": "markdown",
   "metadata": {},
   "source": [
    "### Table 1"
   ]
  },
  {
   "cell_type": "code",
   "execution_count": null,
   "metadata": {},
   "outputs": [],
   "source": [
    "remove_dollar_sign(mhis, ['1990', '2000', '2005', '2005 (SE)', '2010', \n",
    "                         '2010 (SE)', '2011', '2011 (SE)', '2012', '2012 (SE)', \n",
    "                         '2013', '2013 (SE)', '2014', '2014 (SE)', '2015', '2015 (SE)'])\n",
    "\n",
    "remove_parentheses(mhis, ['2005 (SE)', '2010 (SE)', '2011 (SE)', '2012 (SE)', \n",
    "                          '2013 (SE)', '2014 (SE)', '2015 (SE)'])\n",
    "\n",
    "mhis = mhis.astype(float, errors = 'ignore')"
   ]
  },
  {
   "cell_type": "code",
   "execution_count": null,
   "metadata": {},
   "outputs": [],
   "source": [
    "mhis.head()"
   ]
  },
  {
   "cell_type": "markdown",
   "metadata": {},
   "source": [
    "### Table 2"
   ]
  },
  {
   "cell_type": "code",
   "execution_count": null,
   "metadata": {},
   "outputs": [],
   "source": [
    "remove_dollar_sign(mhis2, ['1990', '2000', '2005', '2005 (SE)', '2010', '2010 (SE)', \n",
    "                          '2015', '2015 (SE)', '2016', '2016 (SE)', '2017', '2017 (SE)', \n",
    "                          '2018', '2018 (SE)', '2019', '2019 (SE)', '2021', '2021 (SE)'])\n",
    "\n",
    "remove_parentheses(mhis2, ['2005 (SE)', '2010 (SE)', '2015 (SE)','2016 (SE)','2017 (SE)', \n",
    "                          '2018 (SE)','2019 (SE)','2021 (SE)'])\n",
    "\n",
    "mhis2 = mhis2.astype(float, errors = 'ignore')"
   ]
  },
  {
   "cell_type": "code",
   "execution_count": null,
   "metadata": {},
   "outputs": [],
   "source": [
    "mhis2.head()"
   ]
  },
  {
   "cell_type": "markdown",
   "metadata": {},
   "source": [
    "## Dataset #3: History of Women in the U.S. Congress"
   ]
  },
  {
   "cell_type": "code",
   "execution_count": null,
   "metadata": {},
   "outputs": [],
   "source": [
    "# Removing provided index\n",
    "congress = congress.drop(columns = [\"0\"], axis = 1)\n",
    "\n",
    "#Removing these rows because they are not needed for our analysis and caused some cleaning problems, as they were not uniform\n",
    "congress.drop(53, inplace = True)\n",
    "congress.drop(52, inplace = True)"
   ]
  },
  {
   "cell_type": "code",
   "execution_count": null,
   "metadata": {},
   "outputs": [],
   "source": [
    "congress[\"Start Date\"] = congress[\"Dates\"].apply(lambda string: int(string.split(\"-\")[0]))\n",
    "congress[\"End Date\"] = congress[\"Dates\"].apply(lambda string: int(string.split(\"-\")[1]))\n",
    "# congress = congress.drop(columns = [\"Dates\"], axis = 1)\n",
    "congress[\"Total Women in Senate\"] = congress[\"Women in the Senate\"].apply(lambda string: int(string.split(\" \")[0]))\n",
    "congress[\"Democratic Women in Senate\"] = congress[\"Women in the Senate\"].apply(lambda string:\n",
    "                                                                    int(string[string.find(\"(\") + 1:string.find(\")\")].split(\",\")[0].replace(\"D\", \"\")))\n",
    "congress[\"Republican Women in Senate\"] = congress[\"Women in the Senate\"].apply(lambda string:\n",
    "                                                                    int(string[string.find(\"(\") + 1:string.find(\")\")].split(\",\")[-1].replace(\"R\", \"\")))\n",
    "congress[\"Total Women in House\"] = congress[\"Women in the House\"].apply(lambda string: int(string.split(\" \")[0]))\n",
    "congress[\"Democratic Women in House\"] = congress[\"Women in the House\"].apply(lambda string:\n",
    "                                                                    int(string[string.find(\"(\") + 1:string.find(\")\")].split(\",\")[0].replace(\"D\", \"\")))\n",
    "congress[\"Republican Women in House\"] = congress[\"Women in the House\"].apply(lambda string:\n",
    "                                                                    int(string[string.find(\"(\") + 1:string.find(\")\")].split(\",\")[-1].replace(\"R\", \"\")))\n",
    "congress[\"Total Women in Congress\"] = congress[\"Total Women\"].apply(lambda string: int(string.split(\" \")[0]))\n",
    "congress[\"Total Democratic Women\"] = congress[\"Total Women\"].apply(lambda string:\n",
    "                                                                    int(string[string.find(\"(\") + 1:string.find(\")\")].split(\",\")[0].replace(\"D\", \"\")))\n",
    "congress[\"Total Republican Women\"] = congress[\"Total Women\"].apply(lambda string:\n",
    "                                                                    int(string[string.find(\"(\") + 1:string.find(\")\")].split(\",\")[-1].replace(\"R\", \"\")))\n",
    "congress = congress.drop(columns = [\"Dates\", \"Women in the Senate\", \"Women in the House\", \"Total Women\"], axis = 1)"
   ]
  },
  {
   "cell_type": "code",
   "execution_count": null,
   "metadata": {},
   "outputs": [],
   "source": [
    "congress.head()"
   ]
  },
  {
   "cell_type": "markdown",
   "metadata": {},
   "source": [
    "## Dataset #4 OB/GYN Rate Per State, 2019-2021"
   ]
  },
  {
   "cell_type": "code",
   "execution_count": null,
   "metadata": {},
   "outputs": [],
   "source": [
    "obgyn1 = obgyn1.drop([0,1,2, 59])\n",
    "obgyn1 = obgyn1.drop(columns = ['Unnamed: 1', 'Unnamed: 2', 'Unnamed: 4'])\n",
    "obgyn1.columns = ['State', 'Rate (2019)']\n",
    "\n",
    "obgyn2 = obgyn2.drop([0,1,2, 59])\n",
    "obgyn2 = obgyn2.drop(columns = ['Unnamed: 1', 'Unnamed: 2', 'Unnamed: 4'])\n",
    "obgyn2.columns = ['State', 'Rate (2020)']\n",
    "\n",
    "obgyn3 = obgyn3.drop([0,1,2, 59])\n",
    "obgyn3 = obgyn3.drop(columns = ['Unnamed: 1', 'Unnamed: 2', 'Unnamed: 4'])\n",
    "obgyn3.columns = ['State', 'Rate (2021)']\n",
    "\n",
    "obgyn4 = pd.merge(obgyn1, obgyn2, on='State')\n",
    "obgyn = pd.merge(obgyn4, obgyn3, on='State')\n",
    "\n",
    "obgyn = obgyn.drop([54,55,56,57,58,59,60,61])"
   ]
  },
  {
   "cell_type": "code",
   "execution_count": null,
   "metadata": {},
   "outputs": [],
   "source": [
    "obgyn.head()"
   ]
  },
  {
   "cell_type": "markdown",
   "metadata": {},
   "source": [
    "# Results\n",
    "\n",
    "## Exploratory Data Analysis\n",
    "\n",
    "Carry out whatever EDA you need to for your project.  Because every project will be different we can't really give you much of a template at this point. But please make sure you describe the what and why in text here as well as providing interpretation of results and context."
   ]
  },
  {
   "cell_type": "markdown",
   "metadata": {},
   "source": [
    "### Section 1 of EDA - please give it a better title than this\n",
    "\n",
    "Some more words and stuff.  Remember notebooks work best if you interleave the code that generates a result with properly annotate figures and text that puts these results into context."
   ]
  },
  {
   "cell_type": "code",
   "execution_count": null,
   "metadata": {},
   "outputs": [],
   "source": [
    "## YOUR CODE HERE\n",
    "## FEEL FREE TO ADD MULTIPLE CELLS PER SECTION"
   ]
  },
  {
   "cell_type": "markdown",
   "metadata": {},
   "source": [
    "### Section 2 of EDA if you need it  - please give it a better title than this\n",
    "\n",
    "Some more words and stuff.  Remember notebooks work best if you interleave the code that generates a result with properly annotate figures and text that puts these results into context."
   ]
  },
  {
   "cell_type": "code",
   "execution_count": null,
   "metadata": {},
   "outputs": [],
   "source": [
    "## YOUR CODE HERE\n",
    "## FEEL FREE TO ADD MULTIPLE CELLS PER SECTION"
   ]
  },
  {
   "cell_type": "markdown",
   "metadata": {},
   "source": [
    "# Ethics & Privacy"
   ]
  },
  {
   "cell_type": "markdown",
   "metadata": {},
   "source": [
    "- Thoughtful discussion of ethical concerns included\n",
    "- Ethical concerns consider the whole data science process (question asked, data collected, data being used, the bias in data, analysis, post-analysis, etc.)\n",
    "- How your group handled bias/ethical concerns clearly described\n",
    "\n",
    "Acknowledge and address any ethics & privacy related issues of your question(s), proposed dataset(s), and/or analyses. Use the information provided in lecture to guide your group discussion and thinking. If you need further guidance, check out [Deon's Ethics Checklist](http://deon.drivendata.org/#data-science-ethics-checklist). In particular:\n",
    "\n",
    "- Are there any biases/privacy/terms of use issues with the data you propsed?\n",
    "- Are there potential biases in your dataset(s), in terms of who it composes, and how it was collected, that may be problematic in terms of it allowing for equitable analysis? (For example, does your data exclude particular populations, or is it likely to reflect particular human biases in a way that could be a problem?)\n",
    "- How will you set out to detect these specific biases before, during, and after/when communicating your analysis?\n",
    "- Are there any other issues related to your topic area, data, and/or analyses that are potentially problematic in terms of data privacy and equitable impact?\n",
    "- How will you handle issues you identified?"
   ]
  },
  {
   "cell_type": "markdown",
   "metadata": {},
   "source": [
    "# Team Expectations "
   ]
  },
  {
   "cell_type": "markdown",
   "metadata": {},
   "source": [
    "\n",
    "Read over the [COGS108 Team Policies](https://github.com/COGS108/Projects/blob/master/COGS108_TeamPolicies.md) individually. Then, include your group’s expectations of one another for successful completion of your COGS108 project below. Discuss and agree on what all of your expectations are. Discuss how your team will communicate throughout the quarter and consider how you will communicate respectfully should conflicts arise. By including each member’s name above and by adding their name to the submission, you are indicating that you have read the COGS108 Team Policies, accept your team’s expectations below, and have every intention to fulfill them. These expectations are for your team’s use and benefit — they won’t be graded for their details.\n",
    "\n",
    "* *Team Expectation 1*\n",
    "* *Team Expectation 2*\n",
    "* *Team Expecation 3*\n",
    "* ..."
   ]
  },
  {
   "cell_type": "markdown",
   "metadata": {},
   "source": [
    "# Project Timeline Proposal"
   ]
  },
  {
   "cell_type": "markdown",
   "metadata": {},
   "source": [
    "Specify your team's specific project timeline. An example timeline has been provided. Changes the dates, times, names, and details to fit your group's plan.\n",
    "\n",
    "If you think you will need any special resources or training outside what we have covered in COGS 108 to solve your problem, then your proposal should state these clearly. For example, if you have selected a problem that involves implementing multiple neural networks, please state this so we can make sure you know what you’re doing and so we can point you to resources you will need to implement your project. Note that you are not required to use outside methods.\n",
    "\n",
    "\n",
    "\n",
    "| Meeting Date  | Meeting Time| Completed Before Meeting  | Discuss at Meeting |\n",
    "|---|---|---|---|\n",
    "| 1/20  |  1 PM | Read & Think about COGS 108 expectations; brainstorm topics/questions  | Determine best form of communication; Discuss and decide on final project topic; discuss hypothesis; begin background research | \n",
    "| 1/26  |  10 AM |  Do background research on topic | Discuss ideal dataset(s) and ethics; draft project proposal | \n",
    "| 2/1  | 10 AM  | Edit, finalize, and submit proposal; Search for datasets  | Discuss Wrangling and possible analytical approaches; Assign group members to lead each specific part   |\n",
    "| 2/14  | 6 PM  | Import & Wrangle Data (Ant Man); EDA (Hulk) | Review/Edit wrangling/EDA; Discuss Analysis Plan   |\n",
    "| 2/23  | 12 PM  | Finalize wrangling/EDA; Begin Analysis (Iron Man; Thor) | Discuss/edit Analysis; Complete project check-in |\n",
    "| 3/13  | 12 PM  | Complete analysis; Draft results/conclusion/discussion (Wasp)| Discuss/edit full project |\n",
    "| 3/20  | Before 11:59 PM  | NA | Turn in Final Project & Group Project Surveys |"
   ]
  }
 ],
 "metadata": {
  "kernelspec": {
   "display_name": "Python 3 (ipykernel)",
   "language": "python",
   "name": "python3"
  },
  "language_info": {
   "codemirror_mode": {
    "name": "ipython",
    "version": 3
   },
   "file_extension": ".py",
   "mimetype": "text/x-python",
   "name": "python",
   "nbconvert_exporter": "python",
   "pygments_lexer": "ipython3",
   "version": "3.11.5"
  }
 },
 "nbformat": 4,
 "nbformat_minor": 4
}
