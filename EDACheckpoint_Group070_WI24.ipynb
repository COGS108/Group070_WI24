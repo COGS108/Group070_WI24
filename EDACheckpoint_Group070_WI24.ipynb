{
 "cells": [
  {
   "cell_type": "markdown",
   "metadata": {},
   "source": [
    "**If you lost points on the last checkpoint you can get them back by responding to TA/IA feedback**  \n",
    "\n",
    "Update/change the relevant sections where you lost those points, make sure you respond on GitHub Issues to your TA/IA to call their attention to the changes you made here.\n",
    "\n",
    "Please update your Timeline... no battle plan survives contact with the enemy, so make sure we understand how your plans have changed."
   ]
  },
  {
   "cell_type": "markdown",
   "metadata": {},
   "source": [
    "# COGS 108 - EDA Checkpoint"
   ]
  },
  {
   "cell_type": "markdown",
   "metadata": {},
   "source": [
    "# Names\n",
    "\n",
    "- Deena Pederson\n",
    "- Vedika Harnathka\n",
    "- Paola Sanchez\n",
    "- Anne Pham\n",
    "- Zoe Ludena"
   ]
  },
  {
   "cell_type": "markdown",
   "metadata": {},
   "source": [
    "# Research Question"
   ]
  },
  {
   "cell_type": "markdown",
   "metadata": {},
   "source": [
    "How have abortion rates changed in response to changes in various factors - such as the representation of female politicians, access to obstetric and gynecological (OB/GYN) care, and income levels - in the USA from 2014-2017? How will these factors help us predict future abortion rates in the foreseeable future?"
   ]
  },
  {
   "cell_type": "markdown",
   "metadata": {},
   "source": [
    "## Background and Prior Work"
   ]
  },
  {
   "cell_type": "markdown",
   "metadata": {},
   "source": [
    "\n",
    "To be more specific in our research, the definition in which we are abiding by the term “women in governing bodies” are women who are in the respective current state legislature. Throughout our data we will look at all U.S. territories excluding Guam, U.S. Virgin Islands, and the District of Columbia. However, we will be using 3 states as markers and general comparisons to the data: 1) having the highest percentage of women in their state legislature, 2) having the lowest percentage of women in their state legislature, and 3) having the median percentage of women in their state legislature. While proceeding with our research, if we have the time and data to do so, we would love to delve deeper into any possible outliers within the states.\n",
    "\n",
    "One of the first considerations to be made is which states have higher female representation and which have less. We can note that in all 50 states males are over represented while females are underrepresented.[^1] This data splits the measures into two separate categories; state legislatures. Overall Vermont, Maine, and Rhode Island notably have the smallest disparities, while North Dakota, South Dakota, and Nebraska have the highest.\n",
    "\n",
    "A study done by the National Partnership for Women & Families[^2] states with a higher representation of female legislators are more likely to adopt abortion protection policies. This study considers 2 categories of representation in legislation: states where women make up more than a third of the members, and states where women make up less than a third of members. They found that of the prior, 84% of these states have policies that support abortion access while the former only has 15%. They also consider how the ethnic diversity in these women may also correlate.\n",
    "\n",
    "Subsequently, female health is a very general statement, therefore we decided to focus on OB/GYN access. We believe that this may yield some type of correlation between abortion rates. We believe that there will be some type of existing correlation between this accessibility and abortion rates. Additionally, another factor that we must consider are average income rates. In the article, *Rural-urban differences in access to hospital obstetric and neonatal care: how far is the closest one?*, their general conclusion is that: “Women in communities that are already socioeconomically disadvantaged face increasing and substantial travel distances to access perinatal care.[^3] (Hung et al.)\n",
    "\n",
    "[^1]: Wolf, C. (2022, August 25). [Best States for Gender Equality: Representation and Power](https://www.usnews.com/news/best-states/articles/best-states-for-gender-equality-representation-power#:~:text=Vermont%2C%20Maine%20and%20Maryland%20have,women%20compared%20to%2038.1%25%20men)\n",
    "\n",
    "[^2]: Lack of Representation by Women in State Legislatures Threatens Abortion Access. (n.d.). National Partnership for Women & Families. Retrieved February 12, 2024, from [source](https://nationalpartnership.org/news_post/lack-of-representation-women-state-legislatures-threatens-abortion-access/#:~:text=Of%20the%2024%20states%20and)\n",
    "\n",
    "[^3]: Hung, P., Casey, M. M., Kozhimannil, K. B., Karaca-Mandic, P., & Moscovice, I. S. (2018). [Rural-urban differences in access to hospital obstetric and neonatal care: how far is the closest one?](https://doi.org/10.1038/s41372-018-0063-5)"
   ]
  },
  {
   "cell_type": "markdown",
   "metadata": {},
   "source": [
    "# Hypothesis\n"
   ]
  },
  {
   "cell_type": "markdown",
   "metadata": {},
   "source": [
    "\n",
    "Proportionately higher representation of females in state government, lower income level, and higher concentration of OBGYN  correlates to states with higher rates of abortion.\n",
    "We think that with higher representation and advocacy from women in governmental positions of power, this will be reflected through policies allowing for increased access to abortion. \n",
    "Additionally, areas with lower income may have financial burdens not suitable for raising a child, as well as limited access to affordable healthcare and contraceptives. Finally, a higher concentration of OBGYN will correlate to higher access to abortion services and healthcare professionals. "
   ]
  },
  {
   "cell_type": "markdown",
   "metadata": {},
   "source": [
    "# Data"
   ]
  },
  {
   "cell_type": "markdown",
   "metadata": {},
   "source": [
    "## Data overview"
   ]
  },
  {
   "cell_type": "markdown",
   "metadata": {},
   "source": [
    "**Dataset #1: Abortion Incidence**\n",
    "\n",
    "\n",
    "Link: https://www.guttmacher.org/report/abortion-incidence-service-availability-us-2017 \n",
    "\n",
    "\n",
    "Table 1 contains the number of reported abortions, abortion rate, and abortion ratio in the United States from the years 2000-2017. To clean this table we removed the brackets and commas so that the No. of abortions (in 000’s), Rate, and Ratio could be converted to floats. \n",
    "- `aisau1` Number of Observations: 18\n",
    "- `aisau1` Number of Variables: 4\n",
    "\n",
    "Table 2 contains the number of reported abortions and abortion rate in 2014, 2016, and 2017 by region and state. There is also a percentage change from 2014 to 2017. The only cleaning required for this dataset was removing the commas in the data. \n",
    "- `aisau2` Number of Observations: 56\n",
    "- `aisau2` Number of Variables: 8\n",
    "\n",
    "Table 3 provides information about the number and percentage of abortion providers by type and caseload for the years 2014 and 2017. We cleaned this data by removing the commas from the 'Facilities No. 2014', 'Facilities No. 2017', 'Abortions No. 2014',  and 'Abortions No. 2017' columns.\n",
    "- `aisau3` Number of Observations: 10\n",
    "- `aisau3` Number of Variables: 9\n",
    "\n",
    "Table 4 holds the total number of abortion clinics, the percentage of counties without a clinic, and percentage of women living in these counties, by state and region in the years 2014 and 2017. This dataset did not require any further cleaning since all the values were integers.\n",
    "- `aisau4` Number of Observations: 56\n",
    "- `aisau4` Number of Variables: 6\n",
    "\n",
    "Table 5 provides information about the number of abortion clinics in 2014 and 2017 and the percentage change between these years. Additionally, it contains the abortion rate in 2014 and 2017 and the change between these years. It is focused on the states with the proportionately largest decrease in number of clinics and increase in number of clinics. 'Abortion rate 2014', 'Abortion rate 2017' were cleaned by removing commas. \n",
    "- `aisau5` Number of Observations: 21\n",
    "- `aisau5` Number of Variables: 9\n",
    "\n",
    "Table 6 contains the number of medication abortions, among facilities offering only early medication abortions. We removed the commas and switched the objects to floats.  \n",
    "- `aisau6` Number of Observations: 8\n",
    "- `aisau6` Number of Variables: 4\n",
    "\n",
    "Some of the notable variables in this dataset include the abortion rate by state and region, as well as the number of abortion providers by time and region."
   ]
  },
  {
   "cell_type": "markdown",
   "metadata": {},
   "source": [
    "**Dataset #2: Median Household Income by State**\n",
    "- Link: https://nces.ed.gov/programs/digest/d16/tables/dt16_102.30.asp\n",
    "- Number of Observations: 52\n",
    "- `mhis` (1990-2015) Number of Variables: 17\n",
    "- `mhis2`  (2015-2021) Number of Variables: 19\n",
    "\n",
    "This dataset contains information about the median household income in the United States as a whole, as well as broken down by individual states. It contains data for the years 1990- 2015, and 2015-2021 (excluding 2020) with the median for each year as well as the standard error for each year. To clean this dataset, we needed to remove the dollar signs (present in doubles $$) as well as the parentheses to convert appropriate variables to floats. Some of the key information we will utilize from this dataset is from the years 2014-2017 since that is when our first dataset is focused on."
   ]
  },
  {
   "cell_type": "markdown",
   "metadata": {},
   "source": [
    "**Dataset #3: History of Women in the US Congress**\n",
    "\n",
    "- Link: https://cawp.rutgers.edu/facts/levels-office/congress/history-women-us-congress\n",
    "- `congress` Number of Observations: 54\n",
    "- `congress` Number of Variables: 6\n",
    "\n",
    "This dataset provides information on the number of women in the senate, women in the house, and total women in congress over 2 year terms. The information provided was an object with the number of women in each of these categories and then in parentheses specified if these were made up of democrats or republicans. We cleaned this data by splitting each of these 3 data points into 3 more subcategories to identify the number of democrat, republican, and total women in the Senate, House, and Congress."
   ]
  },
  {
   "cell_type": "markdown",
   "metadata": {},
   "source": [
    "**Dataset #4: OB/GYN Rate Per State, 2019-2021**\n",
    "\n",
    "- Link: https://data.hrsa.gov/topics/health-workforce/ahrf\n",
    "- `obgyn1` Number of Observations: 60\n",
    "- `obgyn1` Number of Variables: 5\n",
    "- `obgyn2` Number of Observations: 60\n",
    "- `obgyn2` Number of Variables: 5\n",
    "- `obgyn3` Number of Observations: 60\n",
    "- `obgyn3` Number of Variables: 5\n",
    "\n",
    "This dataset provides information on the rate of OB/GYNs per state from 2019 to 2021. This rate is per 100,000 population, from the HRSA (Health Resources and Services Organization). The data from each year was downloaded as a separate csv file, cleaned to include only the state name and the rate for that year, and then merged into one dataset with all three years.\n",
    "\n",
    "*Note*: The years are not consistent with the rest of the data currently, but we have requested the source for data for years 2014-2017. The data will look very similar so the cleaning/merging should look exactly the same as it does right now."
   ]
  },
  {
   "cell_type": "markdown",
   "metadata": {},
   "source": [
    "**How we will combine the data:**\n",
    "\n",
    "We plan on combining the data by using `.merge()`. We will isolate the years we want to use (which will be 2014-2017 because we have consistent data for those years) and format them in a way that allows for `.merge()` to happen. This means we will expect to have repeating datapoints for the smaller tables. We might have to `.transpose()` DataFrames. This is because some of our columns are years and some of our rows are years. Another way we could work around this issue is by saving the Series or rows into arrays and re-assigning them via `.iloc()` or `.assign()`."
   ]
  },
  {
   "cell_type": "code",
   "execution_count": 431,
   "metadata": {},
   "outputs": [],
   "source": [
    "import pandas as pd\n",
    "import numpy as np\n",
    "import os"
   ]
  },
  {
   "cell_type": "code",
   "execution_count": 432,
   "metadata": {},
   "outputs": [],
   "source": [
    "# Get the current working directory (allows for everyone to pull it without formatting issues)\n",
    "current_dir = os.getcwd()\n",
    "data_folder = os.path.join(current_dir, 'data')\n",
    "\n",
    "# The different CSV files we will be using file paths\n",
    "aisau1 = \"abortion-incidence-service-availability-us-2017-table_1.csv\"\n",
    "aisau2 = \"abortion-incidence-service-availability-us-2017-table_2.csv\"\n",
    "aisau3 = \"abortion-incidence-service-availability-us-2017-table_3.csv\"\n",
    "aisau4 = \"abortion-incidence-service-availability-us-2017-table_4.csv\"\n",
    "aisau5 = \"abortion-incidence-service-availability-us-2017-table_5.csv\"\n",
    "aisau6 = \"abortion-incidence-service-availability-us-2017-table_6.csv\"\n",
    "mhis = \"median-household-income-by-state.csv\"\n",
    "mhis2 = \"tabn102.30.csv\"\n",
    "congress = \"paragraph_1009_field_table_und_0.csv\"\n",
    "obgyn1 = \"AHRFDashboard_2019.csv\"\n",
    "obgyn2 = \"AHRFDashboard_2020.csv\"\n",
    "obgyn3 = \"AHRFDashboard_2021.csv\"\n",
    "obgynreal = \"obgynratesAHRF.csv\"\n",
    "\n",
    "# Using os to make the file path\n",
    "\n",
    "#These are from the Abortion Rates link\n",
    "aisau1_fp = os.path.join(data_folder, aisau1)\n",
    "aisau2_fp = os.path.join(data_folder, aisau2)\n",
    "aisau3_fp = os.path.join(data_folder, aisau3)\n",
    "aisau4_fp = os.path.join(data_folder, aisau4)\n",
    "aisau5_fp = os.path.join(data_folder, aisau5)\n",
    "aisau6_fp = os.path.join(data_folder, aisau6)\n",
    "\n",
    "#This is from the Median Household Income by State link\n",
    "mhis_fp = os.path.join(data_folder, mhis)\n",
    "mhis_fp2 = os.path.join(data_folder, mhis2)\n",
    "\n",
    "#This is from https://cawp.rutgers.edu/facts/levels-office/congress/history-women-us-congress\n",
    "congress_fp = os.path.join(data_folder, congress)\n",
    "\n",
    "#We still need more congress data and the OBGYN data\n",
    "obgyn1_fp = os.path.join(data_folder, obgyn1)\n",
    "obgyn2_fp = os.path.join(data_folder, obgyn2)\n",
    "obgyn3_fp = os.path.join(data_folder, obgyn3)\n",
    "obgyn_fp = os.path.join(data_folder, obgynreal)\n",
    "\n",
    "# Making DataFrames\n",
    "aisau1 = pd.read_csv(aisau1_fp, sep = \"|\")\n",
    "aisau2 = pd.read_csv(aisau2_fp, sep = \"|\")\n",
    "aisau3 = pd.read_csv(aisau3_fp, sep = \"|\")\n",
    "aisau4 = pd.read_csv(aisau4_fp, sep = \"|\")\n",
    "aisau5 = pd.read_csv(aisau5_fp, sep = \"|\")\n",
    "aisau6 = pd.read_csv(aisau6_fp, sep = \"|\")\n",
    "mhis = pd.read_csv(mhis_fp, sep = \"|\")\n",
    "mhis2 = pd.read_csv(mhis_fp2, sep = \"|\")\n",
    "congress = pd.read_csv(congress_fp)\n",
    "obgyn1 = pd.read_csv(obgyn1_fp)\n",
    "obgyn2 = pd.read_csv(obgyn2_fp)\n",
    "obgyn3 = pd.read_csv(obgyn3_fp)\n",
    "obgynreal = pd.read_csv(obgyn_fp)"
   ]
  },
  {
   "cell_type": "markdown",
   "metadata": {},
   "source": [
    "### Cleaning Functions:"
   ]
  },
  {
   "cell_type": "code",
   "execution_count": 433,
   "metadata": {},
   "outputs": [],
   "source": [
    "def remove_commas(df, columns): \n",
    "    #removes commas from specified columns in a df & converts them to float\n",
    "    for column in columns: \n",
    "        df[column] = df[column].replace(',', '', regex = True).astype(float)\n",
    "        \n",
    "#use as such: remove_commas(df, ['column1', 'column2'])\n",
    "\n",
    "def remove_dollar_sign(df, columns): \n",
    "    #removes dollar signs ('$') from specified columns in a df \n",
    "    for column in columns: \n",
    "        df[column] = df[column].replace('[\\$,]', '', regex = True)\n",
    "\n",
    "#use as such: remove_dollar_sign(df, ['column1', 'column2'])\n",
    "\n",
    "def remove_parentheses(df, columns): \n",
    "    #removes parantheses from specified columns in a df\n",
    "    for column in columns: \n",
    "        df[column] = df[column].replace('[\\(\\)]', '', regex=True)\n",
    "        \n",
    "#use as such: remove_parentheses(df, ['column1', 'column2'])\n",
    "\n",
    "def remove_brackets(df, columns): \n",
    "    #removes brackets from specified columns in df \n",
    "    for column in columns: \n",
    "        df[column] = df[column].replace('[\\[\\]]', '', regex = True)\n",
    "        \n",
    "#use as such: remove_brackets(df, ['column1', 'column2'])"
   ]
  },
  {
   "cell_type": "markdown",
   "metadata": {},
   "source": [
    "## Dataset #1 Abortion Incidence"
   ]
  },
  {
   "cell_type": "markdown",
   "metadata": {},
   "source": [
    "### Table 1"
   ]
  },
  {
   "cell_type": "code",
   "execution_count": 434,
   "metadata": {},
   "outputs": [],
   "source": [
    "remove_brackets(aisau1, ['No. (in 000s)', 'Rate', 'Ratio'])\n",
    "remove_commas(aisau1, ['No. (in 000s)', 'Rate', 'Ratio'])"
   ]
  },
  {
   "cell_type": "code",
   "execution_count": 435,
   "metadata": {},
   "outputs": [
    {
     "data": {
      "text/html": [
       "<div>\n",
       "<style scoped>\n",
       "    .dataframe tbody tr th:only-of-type {\n",
       "        vertical-align: middle;\n",
       "    }\n",
       "\n",
       "    .dataframe tbody tr th {\n",
       "        vertical-align: top;\n",
       "    }\n",
       "\n",
       "    .dataframe thead th {\n",
       "        text-align: right;\n",
       "    }\n",
       "</style>\n",
       "<table border=\"1\" class=\"dataframe\">\n",
       "  <thead>\n",
       "    <tr style=\"text-align: right;\">\n",
       "      <th></th>\n",
       "      <th>Year</th>\n",
       "      <th>No. (in 000s)</th>\n",
       "      <th>Rate</th>\n",
       "      <th>Ratio</th>\n",
       "    </tr>\n",
       "  </thead>\n",
       "  <tbody>\n",
       "    <tr>\n",
       "      <th>0</th>\n",
       "      <td>2000</td>\n",
       "      <td>1313.0</td>\n",
       "      <td>21.3</td>\n",
       "      <td>24.5</td>\n",
       "    </tr>\n",
       "    <tr>\n",
       "      <th>1</th>\n",
       "      <td>2001</td>\n",
       "      <td>1291.0</td>\n",
       "      <td>20.9</td>\n",
       "      <td>24.4</td>\n",
       "    </tr>\n",
       "    <tr>\n",
       "      <th>2</th>\n",
       "      <td>2002</td>\n",
       "      <td>1269.0</td>\n",
       "      <td>20.5</td>\n",
       "      <td>23.8</td>\n",
       "    </tr>\n",
       "    <tr>\n",
       "      <th>3</th>\n",
       "      <td>2003</td>\n",
       "      <td>1250.0</td>\n",
       "      <td>20.2</td>\n",
       "      <td>23.3</td>\n",
       "    </tr>\n",
       "    <tr>\n",
       "      <th>4</th>\n",
       "      <td>2004</td>\n",
       "      <td>1222.1</td>\n",
       "      <td>19.7</td>\n",
       "      <td>22.9</td>\n",
       "    </tr>\n",
       "  </tbody>\n",
       "</table>\n",
       "</div>"
      ],
      "text/plain": [
       "   Year  No. (in 000s)  Rate  Ratio\n",
       "0  2000         1313.0  21.3   24.5\n",
       "1  2001         1291.0  20.9   24.4\n",
       "2  2002         1269.0  20.5   23.8\n",
       "3  2003         1250.0  20.2   23.3\n",
       "4  2004         1222.1  19.7   22.9"
      ]
     },
     "execution_count": 435,
     "metadata": {},
     "output_type": "execute_result"
    }
   ],
   "source": [
    "aisau1.head()"
   ]
  },
  {
   "cell_type": "markdown",
   "metadata": {},
   "source": [
    "### Table 2"
   ]
  },
  {
   "cell_type": "code",
   "execution_count": 436,
   "metadata": {},
   "outputs": [],
   "source": [
    "remove_commas(aisau2, [\"No. 2014\", \"No. 2016\", \"No. 2017\"])"
   ]
  },
  {
   "cell_type": "code",
   "execution_count": 437,
   "metadata": {},
   "outputs": [
    {
     "data": {
      "text/html": [
       "<div>\n",
       "<style scoped>\n",
       "    .dataframe tbody tr th:only-of-type {\n",
       "        vertical-align: middle;\n",
       "    }\n",
       "\n",
       "    .dataframe tbody tr th {\n",
       "        vertical-align: top;\n",
       "    }\n",
       "\n",
       "    .dataframe thead th {\n",
       "        text-align: right;\n",
       "    }\n",
       "</style>\n",
       "<table border=\"1\" class=\"dataframe\">\n",
       "  <thead>\n",
       "    <tr style=\"text-align: right;\">\n",
       "      <th></th>\n",
       "      <th>Region and State</th>\n",
       "      <th>No. 2014</th>\n",
       "      <th>No. 2016</th>\n",
       "      <th>No. 2017</th>\n",
       "      <th>Rate 2014</th>\n",
       "      <th>Rate 2016</th>\n",
       "      <th>Rate 2017</th>\n",
       "      <th>% change 2014-2017</th>\n",
       "    </tr>\n",
       "  </thead>\n",
       "  <tbody>\n",
       "    <tr>\n",
       "      <th>0</th>\n",
       "      <td>U.S. total</td>\n",
       "      <td>926190.0</td>\n",
       "      <td>874080.0</td>\n",
       "      <td>862320.0</td>\n",
       "      <td>14.6</td>\n",
       "      <td>13.7</td>\n",
       "      <td>13.5</td>\n",
       "      <td>-8</td>\n",
       "    </tr>\n",
       "    <tr>\n",
       "      <th>1</th>\n",
       "      <td>Northeast</td>\n",
       "      <td>240320.0</td>\n",
       "      <td>232040.0</td>\n",
       "      <td>224310.0</td>\n",
       "      <td>21.8</td>\n",
       "      <td>21.2</td>\n",
       "      <td>20.5</td>\n",
       "      <td>-6</td>\n",
       "    </tr>\n",
       "    <tr>\n",
       "      <th>2</th>\n",
       "      <td>Connecticut</td>\n",
       "      <td>13140.0</td>\n",
       "      <td>12210.0</td>\n",
       "      <td>11910.0</td>\n",
       "      <td>19.2</td>\n",
       "      <td>18.1</td>\n",
       "      <td>17.7</td>\n",
       "      <td>-8</td>\n",
       "    </tr>\n",
       "    <tr>\n",
       "      <th>3</th>\n",
       "      <td>Maine</td>\n",
       "      <td>2220.0</td>\n",
       "      <td>2060.0</td>\n",
       "      <td>2040.0</td>\n",
       "      <td>9.5</td>\n",
       "      <td>8.9</td>\n",
       "      <td>8.8</td>\n",
       "      <td>-7</td>\n",
       "    </tr>\n",
       "    <tr>\n",
       "      <th>4</th>\n",
       "      <td>Massachusetts</td>\n",
       "      <td>21020.0</td>\n",
       "      <td>19200.0</td>\n",
       "      <td>18590.0</td>\n",
       "      <td>15.3</td>\n",
       "      <td>14.0</td>\n",
       "      <td>13.5</td>\n",
       "      <td>-12</td>\n",
       "    </tr>\n",
       "  </tbody>\n",
       "</table>\n",
       "</div>"
      ],
      "text/plain": [
       "  Region and State  No. 2014  No. 2016  No. 2017  Rate 2014  Rate 2016  \\\n",
       "0       U.S. total  926190.0  874080.0  862320.0       14.6       13.7   \n",
       "1        Northeast  240320.0  232040.0  224310.0       21.8       21.2   \n",
       "2      Connecticut   13140.0   12210.0   11910.0       19.2       18.1   \n",
       "3            Maine    2220.0    2060.0    2040.0        9.5        8.9   \n",
       "4    Massachusetts   21020.0   19200.0   18590.0       15.3       14.0   \n",
       "\n",
       "   Rate 2017  % change 2014-2017  \n",
       "0       13.5                  -8  \n",
       "1       20.5                  -6  \n",
       "2       17.7                  -8  \n",
       "3        8.8                  -7  \n",
       "4       13.5                 -12  "
      ]
     },
     "execution_count": 437,
     "metadata": {},
     "output_type": "execute_result"
    }
   ],
   "source": [
    "aisau2.head()"
   ]
  },
  {
   "cell_type": "markdown",
   "metadata": {},
   "source": [
    "### Table 3"
   ]
  },
  {
   "cell_type": "code",
   "execution_count": 438,
   "metadata": {},
   "outputs": [],
   "source": [
    "remove_commas(aisau3, ['Facilities No. 2014', 'Facilities No. 2017', \n",
    "                       'Abortions No. 2014', 'Abortions No. 2017'])"
   ]
  },
  {
   "cell_type": "code",
   "execution_count": 439,
   "metadata": {},
   "outputs": [
    {
     "data": {
      "text/html": [
       "<div>\n",
       "<style scoped>\n",
       "    .dataframe tbody tr th:only-of-type {\n",
       "        vertical-align: middle;\n",
       "    }\n",
       "\n",
       "    .dataframe tbody tr th {\n",
       "        vertical-align: top;\n",
       "    }\n",
       "\n",
       "    .dataframe thead th {\n",
       "        text-align: right;\n",
       "    }\n",
       "</style>\n",
       "<table border=\"1\" class=\"dataframe\">\n",
       "  <thead>\n",
       "    <tr style=\"text-align: right;\">\n",
       "      <th></th>\n",
       "      <th>Unnamed</th>\n",
       "      <th>Facilities No. 2014</th>\n",
       "      <th>Facilities No. 2017</th>\n",
       "      <th>Facilities % 2014</th>\n",
       "      <th>Facilities % 2017</th>\n",
       "      <th>Abortions No. 2014</th>\n",
       "      <th>Abortions No. 2017</th>\n",
       "      <th>Abortions % 2014</th>\n",
       "      <th>Abortions % 2017</th>\n",
       "    </tr>\n",
       "  </thead>\n",
       "  <tbody>\n",
       "    <tr>\n",
       "      <th>Facility type</th>\n",
       "      <td>Total</td>\n",
       "      <td>1671.0</td>\n",
       "      <td>1587.0</td>\n",
       "      <td>100</td>\n",
       "      <td>100</td>\n",
       "      <td>926190.0</td>\n",
       "      <td>862320.0</td>\n",
       "      <td>100</td>\n",
       "      <td>100</td>\n",
       "    </tr>\n",
       "    <tr>\n",
       "      <th>Facility type</th>\n",
       "      <td>Hospital</td>\n",
       "      <td>638.0</td>\n",
       "      <td>518.0</td>\n",
       "      <td>38</td>\n",
       "      <td>33</td>\n",
       "      <td>34410.0</td>\n",
       "      <td>28760.0</td>\n",
       "      <td>4</td>\n",
       "      <td>3</td>\n",
       "    </tr>\n",
       "    <tr>\n",
       "      <th>Facility type</th>\n",
       "      <td>Abortion clinic</td>\n",
       "      <td>272.0</td>\n",
       "      <td>253.0</td>\n",
       "      <td>16</td>\n",
       "      <td>16</td>\n",
       "      <td>547130.0</td>\n",
       "      <td>519180.0</td>\n",
       "      <td>59</td>\n",
       "      <td>60</td>\n",
       "    </tr>\n",
       "    <tr>\n",
       "      <th>Facility type</th>\n",
       "      <td>Nonspecialized clinic</td>\n",
       "      <td>517.0</td>\n",
       "      <td>555.0</td>\n",
       "      <td>31</td>\n",
       "      <td>35</td>\n",
       "      <td>331790.0</td>\n",
       "      <td>302860.0</td>\n",
       "      <td>36</td>\n",
       "      <td>35</td>\n",
       "    </tr>\n",
       "    <tr>\n",
       "      <th>Facility type</th>\n",
       "      <td>Physicians' office</td>\n",
       "      <td>244.0</td>\n",
       "      <td>261.0</td>\n",
       "      <td>15</td>\n",
       "      <td>16</td>\n",
       "      <td>12870.0</td>\n",
       "      <td>11510.0</td>\n",
       "      <td>1</td>\n",
       "      <td>1</td>\n",
       "    </tr>\n",
       "  </tbody>\n",
       "</table>\n",
       "</div>"
      ],
      "text/plain": [
       "                             Unnamed  Facilities No. 2014  \\\n",
       "Facility type                  Total               1671.0   \n",
       "Facility type               Hospital                638.0   \n",
       "Facility type        Abortion clinic                272.0   \n",
       "Facility type  Nonspecialized clinic                517.0   \n",
       "Facility type     Physicians' office                244.0   \n",
       "\n",
       "               Facilities No. 2017  Facilities % 2014  Facilities % 2017  \\\n",
       "Facility type               1587.0                100                100   \n",
       "Facility type                518.0                 38                 33   \n",
       "Facility type                253.0                 16                 16   \n",
       "Facility type                555.0                 31                 35   \n",
       "Facility type                261.0                 15                 16   \n",
       "\n",
       "               Abortions No. 2014  Abortions No. 2017  Abortions % 2014  \\\n",
       "Facility type            926190.0            862320.0               100   \n",
       "Facility type             34410.0             28760.0                 4   \n",
       "Facility type            547130.0            519180.0                59   \n",
       "Facility type            331790.0            302860.0                36   \n",
       "Facility type             12870.0             11510.0                 1   \n",
       "\n",
       "               Abortions % 2017  \n",
       "Facility type               100  \n",
       "Facility type                 3  \n",
       "Facility type                60  \n",
       "Facility type                35  \n",
       "Facility type                 1  "
      ]
     },
     "execution_count": 439,
     "metadata": {},
     "output_type": "execute_result"
    }
   ],
   "source": [
    "aisau3.head()"
   ]
  },
  {
   "cell_type": "markdown",
   "metadata": {},
   "source": [
    "### Table 4"
   ]
  },
  {
   "cell_type": "code",
   "execution_count": 440,
   "metadata": {},
   "outputs": [
    {
     "data": {
      "text/html": [
       "<div>\n",
       "<style scoped>\n",
       "    .dataframe tbody tr th:only-of-type {\n",
       "        vertical-align: middle;\n",
       "    }\n",
       "\n",
       "    .dataframe tbody tr th {\n",
       "        vertical-align: top;\n",
       "    }\n",
       "\n",
       "    .dataframe thead th {\n",
       "        text-align: right;\n",
       "    }\n",
       "</style>\n",
       "<table border=\"1\" class=\"dataframe\">\n",
       "  <thead>\n",
       "    <tr style=\"text-align: right;\">\n",
       "      <th></th>\n",
       "      <th>Region and state</th>\n",
       "      <th>No. of clinics 2014</th>\n",
       "      <th>No. of clinics 2017</th>\n",
       "      <th>% change 2014-2017</th>\n",
       "      <th>% of counties without a clinic, 2017</th>\n",
       "      <th>% of women in counties with no clinic, 2017</th>\n",
       "    </tr>\n",
       "  </thead>\n",
       "  <tbody>\n",
       "    <tr>\n",
       "      <th>0</th>\n",
       "      <td>U.S. total</td>\n",
       "      <td>789</td>\n",
       "      <td>808</td>\n",
       "      <td>2</td>\n",
       "      <td>89</td>\n",
       "      <td>38</td>\n",
       "    </tr>\n",
       "    <tr>\n",
       "      <th>1</th>\n",
       "      <td>Northeast</td>\n",
       "      <td>212</td>\n",
       "      <td>245</td>\n",
       "      <td>16</td>\n",
       "      <td>54</td>\n",
       "      <td>21</td>\n",
       "    </tr>\n",
       "    <tr>\n",
       "      <th>2</th>\n",
       "      <td>Connecticut</td>\n",
       "      <td>25</td>\n",
       "      <td>26</td>\n",
       "      <td>4</td>\n",
       "      <td>13</td>\n",
       "      <td>5</td>\n",
       "    </tr>\n",
       "    <tr>\n",
       "      <th>3</th>\n",
       "      <td>Maine</td>\n",
       "      <td>4</td>\n",
       "      <td>16</td>\n",
       "      <td>300</td>\n",
       "      <td>31</td>\n",
       "      <td>24</td>\n",
       "    </tr>\n",
       "    <tr>\n",
       "      <th>4</th>\n",
       "      <td>Massachusetts</td>\n",
       "      <td>14</td>\n",
       "      <td>19</td>\n",
       "      <td>36</td>\n",
       "      <td>43</td>\n",
       "      <td>13</td>\n",
       "    </tr>\n",
       "  </tbody>\n",
       "</table>\n",
       "</div>"
      ],
      "text/plain": [
       "  Region and state  No. of clinics 2014  No. of clinics 2017  \\\n",
       "0       U.S. total                  789                  808   \n",
       "1        Northeast                  212                  245   \n",
       "2      Connecticut                   25                   26   \n",
       "3            Maine                    4                   16   \n",
       "4    Massachusetts                   14                   19   \n",
       "\n",
       "   % change 2014-2017  % of counties without a clinic, 2017  \\\n",
       "0                   2                                    89   \n",
       "1                  16                                    54   \n",
       "2                   4                                    13   \n",
       "3                 300                                    31   \n",
       "4                  36                                    43   \n",
       "\n",
       "   % of women in counties with no clinic, 2017  \n",
       "0                                           38  \n",
       "1                                           21  \n",
       "2                                            5  \n",
       "3                                           24  \n",
       "4                                           13  "
      ]
     },
     "execution_count": 440,
     "metadata": {},
     "output_type": "execute_result"
    }
   ],
   "source": [
    "aisau4.head() #no cleaning necessary"
   ]
  },
  {
   "cell_type": "markdown",
   "metadata": {},
   "source": [
    "### Table 5"
   ]
  },
  {
   "cell_type": "code",
   "execution_count": 441,
   "metadata": {},
   "outputs": [],
   "source": [
    "remove_commas(aisau5, ['Abortion rate 2014', 'Abortion rate 2017'])"
   ]
  },
  {
   "cell_type": "code",
   "execution_count": 442,
   "metadata": {},
   "outputs": [
    {
     "data": {
      "text/html": [
       "<div>\n",
       "<style scoped>\n",
       "    .dataframe tbody tr th:only-of-type {\n",
       "        vertical-align: middle;\n",
       "    }\n",
       "\n",
       "    .dataframe tbody tr th {\n",
       "        vertical-align: top;\n",
       "    }\n",
       "\n",
       "    .dataframe thead th {\n",
       "        text-align: right;\n",
       "    }\n",
       "</style>\n",
       "<table border=\"1\" class=\"dataframe\">\n",
       "  <thead>\n",
       "    <tr style=\"text-align: right;\">\n",
       "      <th></th>\n",
       "      <th>Prop Num of Clinics Decline/Increase</th>\n",
       "      <th>Location</th>\n",
       "      <th>No. of clinics 2014</th>\n",
       "      <th>No. of clinics 2017</th>\n",
       "      <th>No. of clinics % change</th>\n",
       "      <th>Abortion rate 2014</th>\n",
       "      <th>Abortion rate 2017</th>\n",
       "      <th>Abortion rate % change</th>\n",
       "      <th>Total no. of new restrictions in effect 2014–2017</th>\n",
       "    </tr>\n",
       "  </thead>\n",
       "  <tbody>\n",
       "    <tr>\n",
       "      <th>0</th>\n",
       "      <td>NaN</td>\n",
       "      <td>U.S. total</td>\n",
       "      <td>789</td>\n",
       "      <td>808</td>\n",
       "      <td>2</td>\n",
       "      <td>14.6</td>\n",
       "      <td>13.5</td>\n",
       "      <td>-8</td>\n",
       "      <td>196</td>\n",
       "    </tr>\n",
       "    <tr>\n",
       "      <th>1</th>\n",
       "      <td>10 states with proportionately largest decline...</td>\n",
       "      <td>Kentucky</td>\n",
       "      <td>2</td>\n",
       "      <td>1</td>\n",
       "      <td>-50</td>\n",
       "      <td>4.1</td>\n",
       "      <td>3.8</td>\n",
       "      <td>-9</td>\n",
       "      <td>3</td>\n",
       "    </tr>\n",
       "    <tr>\n",
       "      <th>2</th>\n",
       "      <td>10 states with proportionately largest decline...</td>\n",
       "      <td>West Virginia</td>\n",
       "      <td>2</td>\n",
       "      <td>1</td>\n",
       "      <td>-50</td>\n",
       "      <td>6.0</td>\n",
       "      <td>4.4</td>\n",
       "      <td>-26</td>\n",
       "      <td>6</td>\n",
       "    </tr>\n",
       "    <tr>\n",
       "      <th>3</th>\n",
       "      <td>10 states with proportionately largest decline...</td>\n",
       "      <td>Indiana</td>\n",
       "      <td>9</td>\n",
       "      <td>6</td>\n",
       "      <td>-33</td>\n",
       "      <td>6.3</td>\n",
       "      <td>5.9</td>\n",
       "      <td>-6</td>\n",
       "      <td>20</td>\n",
       "    </tr>\n",
       "    <tr>\n",
       "      <th>4</th>\n",
       "      <td>10 states with proportionately largest decline...</td>\n",
       "      <td>Iowa</td>\n",
       "      <td>12</td>\n",
       "      <td>8</td>\n",
       "      <td>-33</td>\n",
       "      <td>7.5</td>\n",
       "      <td>6.3</td>\n",
       "      <td>-15</td>\n",
       "      <td>9</td>\n",
       "    </tr>\n",
       "  </tbody>\n",
       "</table>\n",
       "</div>"
      ],
      "text/plain": [
       "                Prop Num of Clinics Decline/Increase       Location  \\\n",
       "0                                                NaN     U.S. total   \n",
       "1  10 states with proportionately largest decline...       Kentucky   \n",
       "2  10 states with proportionately largest decline...  West Virginia   \n",
       "3  10 states with proportionately largest decline...        Indiana   \n",
       "4  10 states with proportionately largest decline...           Iowa   \n",
       "\n",
       "   No. of clinics 2014  No. of clinics 2017  No. of clinics % change  \\\n",
       "0                  789                  808                        2   \n",
       "1                    2                    1                      -50   \n",
       "2                    2                    1                      -50   \n",
       "3                    9                    6                      -33   \n",
       "4                   12                    8                      -33   \n",
       "\n",
       "   Abortion rate 2014  Abortion rate 2017  Abortion rate % change  \\\n",
       "0                14.6                13.5                      -8   \n",
       "1                 4.1                 3.8                      -9   \n",
       "2                 6.0                 4.4                     -26   \n",
       "3                 6.3                 5.9                      -6   \n",
       "4                 7.5                 6.3                     -15   \n",
       "\n",
       "   Total no. of new restrictions in effect 2014–2017  \n",
       "0                                                196  \n",
       "1                                                  3  \n",
       "2                                                  6  \n",
       "3                                                 20  \n",
       "4                                                  9  "
      ]
     },
     "execution_count": 442,
     "metadata": {},
     "output_type": "execute_result"
    }
   ],
   "source": [
    "aisau5.head()"
   ]
  },
  {
   "cell_type": "code",
   "execution_count": 443,
   "metadata": {},
   "outputs": [],
   "source": [
    "descriptor_decrease = '10 states with proportionately largest declines in number of clinics'\n",
    "descriptor_increase = '10 states with proportionately largest increases in number of clinics'"
   ]
  },
  {
   "cell_type": "code",
   "execution_count": 444,
   "metadata": {},
   "outputs": [
    {
     "data": {
      "text/html": [
       "<div>\n",
       "<style scoped>\n",
       "    .dataframe tbody tr th:only-of-type {\n",
       "        vertical-align: middle;\n",
       "    }\n",
       "\n",
       "    .dataframe tbody tr th {\n",
       "        vertical-align: top;\n",
       "    }\n",
       "\n",
       "    .dataframe thead th {\n",
       "        text-align: right;\n",
       "    }\n",
       "</style>\n",
       "<table border=\"1\" class=\"dataframe\">\n",
       "  <thead>\n",
       "    <tr style=\"text-align: right;\">\n",
       "      <th></th>\n",
       "      <th>Location</th>\n",
       "      <th>No. of clinics 2014</th>\n",
       "      <th>No. of clinics 2017</th>\n",
       "      <th>No. of clinics % change</th>\n",
       "      <th>Abortion rate 2014</th>\n",
       "      <th>Abortion rate 2017</th>\n",
       "      <th>Abortion rate % change</th>\n",
       "      <th>Total no. of new restrictions in effect 2014–2017</th>\n",
       "    </tr>\n",
       "  </thead>\n",
       "  <tbody>\n",
       "    <tr>\n",
       "      <th>1</th>\n",
       "      <td>Kentucky</td>\n",
       "      <td>2</td>\n",
       "      <td>1</td>\n",
       "      <td>-50</td>\n",
       "      <td>4.1</td>\n",
       "      <td>3.8</td>\n",
       "      <td>-9</td>\n",
       "      <td>3</td>\n",
       "    </tr>\n",
       "    <tr>\n",
       "      <th>2</th>\n",
       "      <td>West Virginia</td>\n",
       "      <td>2</td>\n",
       "      <td>1</td>\n",
       "      <td>-50</td>\n",
       "      <td>6.0</td>\n",
       "      <td>4.4</td>\n",
       "      <td>-26</td>\n",
       "      <td>6</td>\n",
       "    </tr>\n",
       "    <tr>\n",
       "      <th>3</th>\n",
       "      <td>Indiana</td>\n",
       "      <td>9</td>\n",
       "      <td>6</td>\n",
       "      <td>-33</td>\n",
       "      <td>6.3</td>\n",
       "      <td>5.9</td>\n",
       "      <td>-6</td>\n",
       "      <td>20</td>\n",
       "    </tr>\n",
       "    <tr>\n",
       "      <th>4</th>\n",
       "      <td>Iowa</td>\n",
       "      <td>12</td>\n",
       "      <td>8</td>\n",
       "      <td>-33</td>\n",
       "      <td>7.5</td>\n",
       "      <td>6.3</td>\n",
       "      <td>-15</td>\n",
       "      <td>9</td>\n",
       "    </tr>\n",
       "    <tr>\n",
       "      <th>5</th>\n",
       "      <td>New Mexico</td>\n",
       "      <td>9</td>\n",
       "      <td>6</td>\n",
       "      <td>-33</td>\n",
       "      <td>11.7</td>\n",
       "      <td>11.7</td>\n",
       "      <td>0</td>\n",
       "      <td>0</td>\n",
       "    </tr>\n",
       "  </tbody>\n",
       "</table>\n",
       "</div>"
      ],
      "text/plain": [
       "        Location  No. of clinics 2014  No. of clinics 2017  \\\n",
       "1       Kentucky                    2                    1   \n",
       "2  West Virginia                    2                    1   \n",
       "3        Indiana                    9                    6   \n",
       "4           Iowa                   12                    8   \n",
       "5     New Mexico                    9                    6   \n",
       "\n",
       "   No. of clinics % change  Abortion rate 2014  Abortion rate 2017  \\\n",
       "1                      -50                 4.1                 3.8   \n",
       "2                      -50                 6.0                 4.4   \n",
       "3                      -33                 6.3                 5.9   \n",
       "4                      -33                 7.5                 6.3   \n",
       "5                      -33                11.7                11.7   \n",
       "\n",
       "   Abortion rate % change  Total no. of new restrictions in effect 2014–2017  \n",
       "1                      -9                                                  3  \n",
       "2                     -26                                                  6  \n",
       "3                      -6                                                 20  \n",
       "4                     -15                                                  9  \n",
       "5                       0                                                  0  "
      ]
     },
     "execution_count": 444,
     "metadata": {},
     "output_type": "execute_result"
    }
   ],
   "source": [
    "#Split up the table, so we have the states with largest proportional decline in number of clients\n",
    "largest_prop_decline = aisau5[aisau5['Prop Num of Clinics Decline/Increase'] == descriptor_decrease].drop(columns = ['Prop Num of Clinics Decline/Increase'], axis = 1)\n",
    "largest_prop_decline.head()"
   ]
  },
  {
   "cell_type": "code",
   "execution_count": 445,
   "metadata": {},
   "outputs": [
    {
     "data": {
      "text/html": [
       "<div>\n",
       "<style scoped>\n",
       "    .dataframe tbody tr th:only-of-type {\n",
       "        vertical-align: middle;\n",
       "    }\n",
       "\n",
       "    .dataframe tbody tr th {\n",
       "        vertical-align: top;\n",
       "    }\n",
       "\n",
       "    .dataframe thead th {\n",
       "        text-align: right;\n",
       "    }\n",
       "</style>\n",
       "<table border=\"1\" class=\"dataframe\">\n",
       "  <thead>\n",
       "    <tr style=\"text-align: right;\">\n",
       "      <th></th>\n",
       "      <th>Location</th>\n",
       "      <th>No. of clinics 2014</th>\n",
       "      <th>No. of clinics 2017</th>\n",
       "      <th>No. of clinics % change</th>\n",
       "      <th>Abortion rate 2014</th>\n",
       "      <th>Abortion rate 2017</th>\n",
       "      <th>Abortion rate % change</th>\n",
       "      <th>Total no. of new restrictions in effect 2014–2017</th>\n",
       "    </tr>\n",
       "  </thead>\n",
       "  <tbody>\n",
       "    <tr>\n",
       "      <th>11</th>\n",
       "      <td>Maine</td>\n",
       "      <td>4</td>\n",
       "      <td>16</td>\n",
       "      <td>300</td>\n",
       "      <td>9.5</td>\n",
       "      <td>8.8</td>\n",
       "      <td>-7</td>\n",
       "      <td>0</td>\n",
       "    </tr>\n",
       "    <tr>\n",
       "      <th>12</th>\n",
       "      <td>Missouri</td>\n",
       "      <td>1</td>\n",
       "      <td>3</td>\n",
       "      <td>200</td>\n",
       "      <td>4.4</td>\n",
       "      <td>4.0</td>\n",
       "      <td>-8</td>\n",
       "      <td>5</td>\n",
       "    </tr>\n",
       "    <tr>\n",
       "      <th>13</th>\n",
       "      <td>Utah</td>\n",
       "      <td>2</td>\n",
       "      <td>3</td>\n",
       "      <td>50</td>\n",
       "      <td>4.6</td>\n",
       "      <td>4.4</td>\n",
       "      <td>-4</td>\n",
       "      <td>2</td>\n",
       "    </tr>\n",
       "    <tr>\n",
       "      <th>14</th>\n",
       "      <td>Massachusetts</td>\n",
       "      <td>14</td>\n",
       "      <td>19</td>\n",
       "      <td>36</td>\n",
       "      <td>15.3</td>\n",
       "      <td>13.5</td>\n",
       "      <td>-12</td>\n",
       "      <td>0</td>\n",
       "    </tr>\n",
       "    <tr>\n",
       "      <th>15</th>\n",
       "      <td>Alaska</td>\n",
       "      <td>3</td>\n",
       "      <td>4</td>\n",
       "      <td>33</td>\n",
       "      <td>10.0</td>\n",
       "      <td>8.6</td>\n",
       "      <td>-14</td>\n",
       "      <td>6</td>\n",
       "    </tr>\n",
       "  </tbody>\n",
       "</table>\n",
       "</div>"
      ],
      "text/plain": [
       "         Location  No. of clinics 2014  No. of clinics 2017  \\\n",
       "11          Maine                    4                   16   \n",
       "12       Missouri                    1                    3   \n",
       "13           Utah                    2                    3   \n",
       "14  Massachusetts                   14                   19   \n",
       "15         Alaska                    3                    4   \n",
       "\n",
       "    No. of clinics % change  Abortion rate 2014  Abortion rate 2017  \\\n",
       "11                      300                 9.5                 8.8   \n",
       "12                      200                 4.4                 4.0   \n",
       "13                       50                 4.6                 4.4   \n",
       "14                       36                15.3                13.5   \n",
       "15                       33                10.0                 8.6   \n",
       "\n",
       "    Abortion rate % change  Total no. of new restrictions in effect 2014–2017  \n",
       "11                      -7                                                  0  \n",
       "12                      -8                                                  5  \n",
       "13                      -4                                                  2  \n",
       "14                     -12                                                  0  \n",
       "15                     -14                                                  6  "
      ]
     },
     "execution_count": 445,
     "metadata": {},
     "output_type": "execute_result"
    }
   ],
   "source": [
    "#And we have the states with largest proportional incline in number of clients\n",
    "largest_prop_increase = aisau5[aisau5['Prop Num of Clinics Decline/Increase'] == descriptor_increase].drop(columns = ['Prop Num of Clinics Decline/Increase'], axis = 1)\n",
    "largest_prop_increase.head()"
   ]
  },
  {
   "cell_type": "code",
   "execution_count": 446,
   "metadata": {},
   "outputs": [
    {
     "data": {
      "text/html": [
       "<div>\n",
       "<style scoped>\n",
       "    .dataframe tbody tr th:only-of-type {\n",
       "        vertical-align: middle;\n",
       "    }\n",
       "\n",
       "    .dataframe tbody tr th {\n",
       "        vertical-align: top;\n",
       "    }\n",
       "\n",
       "    .dataframe thead th {\n",
       "        text-align: right;\n",
       "    }\n",
       "</style>\n",
       "<table border=\"1\" class=\"dataframe\">\n",
       "  <thead>\n",
       "    <tr style=\"text-align: right;\">\n",
       "      <th></th>\n",
       "      <th>Location</th>\n",
       "      <th>No. of clinics 2014</th>\n",
       "      <th>No. of clinics 2017</th>\n",
       "      <th>No. of clinics % change</th>\n",
       "      <th>Abortion rate 2014</th>\n",
       "      <th>Abortion rate 2017</th>\n",
       "      <th>Abortion rate % change</th>\n",
       "      <th>Total no. of new restrictions in effect 2014–2017</th>\n",
       "    </tr>\n",
       "  </thead>\n",
       "  <tbody>\n",
       "    <tr>\n",
       "      <th>0</th>\n",
       "      <td>U.S. total</td>\n",
       "      <td>789</td>\n",
       "      <td>808</td>\n",
       "      <td>2</td>\n",
       "      <td>14.6</td>\n",
       "      <td>13.5</td>\n",
       "      <td>-8</td>\n",
       "      <td>196</td>\n",
       "    </tr>\n",
       "  </tbody>\n",
       "</table>\n",
       "</div>"
      ],
      "text/plain": [
       "     Location No. of clinics 2014 No. of clinics 2017 No. of clinics % change  \\\n",
       "0  U.S. total                 789                 808                       2   \n",
       "\n",
       "  Abortion rate 2014 Abortion rate 2017 Abortion rate % change  \\\n",
       "0               14.6               13.5                     -8   \n",
       "\n",
       "  Total no. of new restrictions in effect 2014–2017  \n",
       "0                                               196  "
      ]
     },
     "execution_count": 446,
     "metadata": {},
     "output_type": "execute_result"
    }
   ],
   "source": [
    "#This row falls in neither category, as it is the entirety of the US\n",
    "US_aisau5 = aisau5.iloc[0].to_frame().iloc[1:].transpose()\n",
    "US_aisau5"
   ]
  },
  {
   "cell_type": "markdown",
   "metadata": {},
   "source": [
    "### Table 6"
   ]
  },
  {
   "cell_type": "code",
   "execution_count": 447,
   "metadata": {},
   "outputs": [],
   "source": [
    "remove_commas(aisau6, ['No. of medication abortions'])"
   ]
  },
  {
   "cell_type": "code",
   "execution_count": 448,
   "metadata": {},
   "outputs": [
    {
     "data": {
      "text/html": [
       "<div>\n",
       "<style scoped>\n",
       "    .dataframe tbody tr th:only-of-type {\n",
       "        vertical-align: middle;\n",
       "    }\n",
       "\n",
       "    .dataframe tbody tr th {\n",
       "        vertical-align: top;\n",
       "    }\n",
       "\n",
       "    .dataframe thead th {\n",
       "        text-align: right;\n",
       "    }\n",
       "</style>\n",
       "<table border=\"1\" class=\"dataframe\">\n",
       "  <thead>\n",
       "    <tr style=\"text-align: right;\">\n",
       "      <th></th>\n",
       "      <th>Unnamed</th>\n",
       "      <th>No. of medication abortions</th>\n",
       "      <th>Offering only early medication abortion No.</th>\n",
       "      <th>Offering only early medication abortion % of all nonhospital providers</th>\n",
       "    </tr>\n",
       "  </thead>\n",
       "  <tbody>\n",
       "    <tr>\n",
       "      <th>NaN</th>\n",
       "      <td>U.S. total</td>\n",
       "      <td>339640.0</td>\n",
       "      <td>269</td>\n",
       "      <td>25</td>\n",
       "    </tr>\n",
       "    <tr>\n",
       "      <th>Facility type</th>\n",
       "      <td>Physicians' office</td>\n",
       "      <td>5020.0</td>\n",
       "      <td>30</td>\n",
       "      <td>11</td>\n",
       "    </tr>\n",
       "    <tr>\n",
       "      <th>Facility type</th>\n",
       "      <td>Nonspecialized clinic</td>\n",
       "      <td>153350.0</td>\n",
       "      <td>229</td>\n",
       "      <td>41</td>\n",
       "    </tr>\n",
       "    <tr>\n",
       "      <th>Facility type</th>\n",
       "      <td>Abortion clinic</td>\n",
       "      <td>181280.0</td>\n",
       "      <td>10</td>\n",
       "      <td>4</td>\n",
       "    </tr>\n",
       "    <tr>\n",
       "      <th>Facility caseload</th>\n",
       "      <td>1-29</td>\n",
       "      <td>1230.0</td>\n",
       "      <td>57</td>\n",
       "      <td>24</td>\n",
       "    </tr>\n",
       "  </tbody>\n",
       "</table>\n",
       "</div>"
      ],
      "text/plain": [
       "                                 Unnamed  No. of medication abortions  \\\n",
       "NaN                           U.S. total                     339640.0   \n",
       "Facility type         Physicians' office                       5020.0   \n",
       "Facility type      Nonspecialized clinic                     153350.0   \n",
       "Facility type            Abortion clinic                     181280.0   \n",
       "Facility caseload                   1-29                       1230.0   \n",
       "\n",
       "                   Offering only early medication abortion No.  \\\n",
       "NaN                                                        269   \n",
       "Facility type                                               30   \n",
       "Facility type                                              229   \n",
       "Facility type                                               10   \n",
       "Facility caseload                                           57   \n",
       "\n",
       "                   Offering only early medication abortion % of all nonhospital providers  \n",
       "NaN                                                               25                       \n",
       "Facility type                                                     11                       \n",
       "Facility type                                                     41                       \n",
       "Facility type                                                      4                       \n",
       "Facility caseload                                                 24                       "
      ]
     },
     "execution_count": 448,
     "metadata": {},
     "output_type": "execute_result"
    }
   ],
   "source": [
    "aisau6.head()"
   ]
  },
  {
   "cell_type": "code",
   "execution_count": 449,
   "metadata": {},
   "outputs": [],
   "source": [
    "# resetting the index\n",
    "clear_index = aisau6.reset_index()\n",
    "\n",
    "# Change it so that the column types make more sense -> the strings go to facility type\n",
    "facility_type = clear_index[clear_index[\"index\"] == 'Facility type'].drop(columns = ['index'], axis = 1)\n",
    "facility_type.rename(columns={\"Unnamed\": \"Facility Type\"}).reset_index(drop = True)\n",
    "\n",
    "# The range of numbers go to facility_caseload\n",
    "facility_caseload = clear_index[clear_index[\"index\"] == 'Facility caseload'].drop(columns = ['index'], axis = 1)\n",
    "facility_caseload = facility_caseload.rename(columns={\"Unnamed\": \"Facility Caseload\"}).reset_index(drop = True)"
   ]
  },
  {
   "cell_type": "code",
   "execution_count": 450,
   "metadata": {},
   "outputs": [
    {
     "data": {
      "text/html": [
       "<div>\n",
       "<style scoped>\n",
       "    .dataframe tbody tr th:only-of-type {\n",
       "        vertical-align: middle;\n",
       "    }\n",
       "\n",
       "    .dataframe tbody tr th {\n",
       "        vertical-align: top;\n",
       "    }\n",
       "\n",
       "    .dataframe thead th {\n",
       "        text-align: right;\n",
       "    }\n",
       "</style>\n",
       "<table border=\"1\" class=\"dataframe\">\n",
       "  <thead>\n",
       "    <tr style=\"text-align: right;\">\n",
       "      <th></th>\n",
       "      <th>Unnamed</th>\n",
       "      <th>No. of medication abortions</th>\n",
       "      <th>Offering only early medication abortion No.</th>\n",
       "      <th>Offering only early medication abortion % of all nonhospital providers</th>\n",
       "    </tr>\n",
       "  </thead>\n",
       "  <tbody>\n",
       "    <tr>\n",
       "      <th>1</th>\n",
       "      <td>Physicians' office</td>\n",
       "      <td>5020.0</td>\n",
       "      <td>30</td>\n",
       "      <td>11</td>\n",
       "    </tr>\n",
       "    <tr>\n",
       "      <th>2</th>\n",
       "      <td>Nonspecialized clinic</td>\n",
       "      <td>153350.0</td>\n",
       "      <td>229</td>\n",
       "      <td>41</td>\n",
       "    </tr>\n",
       "    <tr>\n",
       "      <th>3</th>\n",
       "      <td>Abortion clinic</td>\n",
       "      <td>181280.0</td>\n",
       "      <td>10</td>\n",
       "      <td>4</td>\n",
       "    </tr>\n",
       "  </tbody>\n",
       "</table>\n",
       "</div>"
      ],
      "text/plain": [
       "                 Unnamed  No. of medication abortions  \\\n",
       "1     Physicians' office                       5020.0   \n",
       "2  Nonspecialized clinic                     153350.0   \n",
       "3        Abortion clinic                     181280.0   \n",
       "\n",
       "   Offering only early medication abortion No.  \\\n",
       "1                                           30   \n",
       "2                                          229   \n",
       "3                                           10   \n",
       "\n",
       "   Offering only early medication abortion % of all nonhospital providers  \n",
       "1                                                 11                       \n",
       "2                                                 41                       \n",
       "3                                                  4                       "
      ]
     },
     "execution_count": 450,
     "metadata": {},
     "output_type": "execute_result"
    }
   ],
   "source": [
    "facility_type"
   ]
  },
  {
   "cell_type": "code",
   "execution_count": 451,
   "metadata": {},
   "outputs": [
    {
     "data": {
      "text/html": [
       "<div>\n",
       "<style scoped>\n",
       "    .dataframe tbody tr th:only-of-type {\n",
       "        vertical-align: middle;\n",
       "    }\n",
       "\n",
       "    .dataframe tbody tr th {\n",
       "        vertical-align: top;\n",
       "    }\n",
       "\n",
       "    .dataframe thead th {\n",
       "        text-align: right;\n",
       "    }\n",
       "</style>\n",
       "<table border=\"1\" class=\"dataframe\">\n",
       "  <thead>\n",
       "    <tr style=\"text-align: right;\">\n",
       "      <th></th>\n",
       "      <th>Facility Caseload</th>\n",
       "      <th>No. of medication abortions</th>\n",
       "      <th>Offering only early medication abortion No.</th>\n",
       "      <th>Offering only early medication abortion % of all nonhospital providers</th>\n",
       "    </tr>\n",
       "  </thead>\n",
       "  <tbody>\n",
       "    <tr>\n",
       "      <th>0</th>\n",
       "      <td>1-29</td>\n",
       "      <td>1230.0</td>\n",
       "      <td>57</td>\n",
       "      <td>24</td>\n",
       "    </tr>\n",
       "    <tr>\n",
       "      <th>1</th>\n",
       "      <td>30-399</td>\n",
       "      <td>39880.0</td>\n",
       "      <td>138</td>\n",
       "      <td>41</td>\n",
       "    </tr>\n",
       "    <tr>\n",
       "      <th>2</th>\n",
       "      <td>400-999</td>\n",
       "      <td>84330.0</td>\n",
       "      <td>68</td>\n",
       "      <td>31</td>\n",
       "    </tr>\n",
       "    <tr>\n",
       "      <th>3</th>\n",
       "      <td>&gt;=1,000</td>\n",
       "      <td>214190.0</td>\n",
       "      <td>6</td>\n",
       "      <td>2</td>\n",
       "    </tr>\n",
       "  </tbody>\n",
       "</table>\n",
       "</div>"
      ],
      "text/plain": [
       "  Facility Caseload  No. of medication abortions  \\\n",
       "0              1-29                       1230.0   \n",
       "1            30-399                      39880.0   \n",
       "2           400-999                      84330.0   \n",
       "3           >=1,000                     214190.0   \n",
       "\n",
       "   Offering only early medication abortion No.  \\\n",
       "0                                           57   \n",
       "1                                          138   \n",
       "2                                           68   \n",
       "3                                            6   \n",
       "\n",
       "   Offering only early medication abortion % of all nonhospital providers  \n",
       "0                                                 24                       \n",
       "1                                                 41                       \n",
       "2                                                 31                       \n",
       "3                                                  2                       "
      ]
     },
     "execution_count": 451,
     "metadata": {},
     "output_type": "execute_result"
    }
   ],
   "source": [
    "facility_caseload"
   ]
  },
  {
   "cell_type": "code",
   "execution_count": 452,
   "metadata": {},
   "outputs": [
    {
     "data": {
      "text/html": [
       "<div>\n",
       "<style scoped>\n",
       "    .dataframe tbody tr th:only-of-type {\n",
       "        vertical-align: middle;\n",
       "    }\n",
       "\n",
       "    .dataframe tbody tr th {\n",
       "        vertical-align: top;\n",
       "    }\n",
       "\n",
       "    .dataframe thead th {\n",
       "        text-align: right;\n",
       "    }\n",
       "</style>\n",
       "<table border=\"1\" class=\"dataframe\">\n",
       "  <thead>\n",
       "    <tr style=\"text-align: right;\">\n",
       "      <th></th>\n",
       "      <th>No. of medication abortions</th>\n",
       "      <th>Offering only early medication abortion No.</th>\n",
       "      <th>Offering only early medication abortion % of all nonhospital providers</th>\n",
       "      <th>Facility Caseload Min</th>\n",
       "      <th>Facility Caseload Max</th>\n",
       "    </tr>\n",
       "  </thead>\n",
       "  <tbody>\n",
       "    <tr>\n",
       "      <th>0</th>\n",
       "      <td>1230.0</td>\n",
       "      <td>57</td>\n",
       "      <td>24</td>\n",
       "      <td>1</td>\n",
       "      <td>29.0</td>\n",
       "    </tr>\n",
       "    <tr>\n",
       "      <th>1</th>\n",
       "      <td>39880.0</td>\n",
       "      <td>138</td>\n",
       "      <td>41</td>\n",
       "      <td>30</td>\n",
       "      <td>399.0</td>\n",
       "    </tr>\n",
       "    <tr>\n",
       "      <th>2</th>\n",
       "      <td>84330.0</td>\n",
       "      <td>68</td>\n",
       "      <td>31</td>\n",
       "      <td>400</td>\n",
       "      <td>999.0</td>\n",
       "    </tr>\n",
       "    <tr>\n",
       "      <th>3</th>\n",
       "      <td>214190.0</td>\n",
       "      <td>6</td>\n",
       "      <td>2</td>\n",
       "      <td>1000</td>\n",
       "      <td>inf</td>\n",
       "    </tr>\n",
       "  </tbody>\n",
       "</table>\n",
       "</div>"
      ],
      "text/plain": [
       "   No. of medication abortions  Offering only early medication abortion No.  \\\n",
       "0                       1230.0                                           57   \n",
       "1                      39880.0                                          138   \n",
       "2                      84330.0                                           68   \n",
       "3                     214190.0                                            6   \n",
       "\n",
       "   Offering only early medication abortion % of all nonhospital providers  \\\n",
       "0                                                 24                        \n",
       "1                                                 41                        \n",
       "2                                                 31                        \n",
       "3                                                  2                        \n",
       "\n",
       "   Facility Caseload Min  Facility Caseload Max  \n",
       "0                      1                   29.0  \n",
       "1                     30                  399.0  \n",
       "2                    400                  999.0  \n",
       "3                   1000                    inf  "
      ]
     },
     "execution_count": 452,
     "metadata": {},
     "output_type": "execute_result"
    }
   ],
   "source": [
    "#Turning the range of numbers to separate columns start and end\n",
    "\n",
    "facility_caseload['Facility Caseload Min'] = facility_caseload['Facility Caseload'].apply(lambda string: \n",
    "                                                                                          int(string.split(\"-\")[0].replace(\",\", \"\").replace(\">=\", \"\")))\n",
    "\n",
    "facility_caseload['Facility Caseload Max'] = facility_caseload['Facility Caseload'].apply(lambda string:\n",
    "                                            int(string.split(\"-\")[-1].replace(\",\", \"\").replace(\">=\", \"\")) if string and string != \">=1,000\" else np.inf)\n",
    "facility_caseload = facility_caseload.drop(columns = [\"Facility Caseload\"])\n",
    "facility_caseload"
   ]
  },
  {
   "cell_type": "markdown",
   "metadata": {},
   "source": [
    "## Dataset #2 Median household income, by state: Selected years, 1990 through 2015"
   ]
  },
  {
   "cell_type": "markdown",
   "metadata": {},
   "source": [
    "### Table 1"
   ]
  },
  {
   "cell_type": "code",
   "execution_count": 453,
   "metadata": {},
   "outputs": [],
   "source": [
    "remove_dollar_sign(mhis, ['1990', '2000', '2005', '2005 (SE)', '2010', \n",
    "                         '2010 (SE)', '2011', '2011 (SE)', '2012', '2012 (SE)', \n",
    "                         '2013', '2013 (SE)', '2014', '2014 (SE)', '2015', '2015 (SE)'])\n",
    "\n",
    "remove_parentheses(mhis, ['2005 (SE)', '2010 (SE)', '2011 (SE)', '2012 (SE)', \n",
    "                          '2013 (SE)', '2014 (SE)', '2015 (SE)'])\n",
    "\n",
    "mhis = mhis.astype(float, errors = 'ignore')"
   ]
  },
  {
   "cell_type": "code",
   "execution_count": 454,
   "metadata": {},
   "outputs": [
    {
     "data": {
      "text/html": [
       "<div>\n",
       "<style scoped>\n",
       "    .dataframe tbody tr th:only-of-type {\n",
       "        vertical-align: middle;\n",
       "    }\n",
       "\n",
       "    .dataframe tbody tr th {\n",
       "        vertical-align: top;\n",
       "    }\n",
       "\n",
       "    .dataframe thead th {\n",
       "        text-align: right;\n",
       "    }\n",
       "</style>\n",
       "<table border=\"1\" class=\"dataframe\">\n",
       "  <thead>\n",
       "    <tr style=\"text-align: right;\">\n",
       "      <th></th>\n",
       "      <th>State</th>\n",
       "      <th>1990</th>\n",
       "      <th>2000</th>\n",
       "      <th>2005</th>\n",
       "      <th>2005 (SE)</th>\n",
       "      <th>2010</th>\n",
       "      <th>2010 (SE)</th>\n",
       "      <th>2011</th>\n",
       "      <th>2011 (SE)</th>\n",
       "      <th>2012</th>\n",
       "      <th>2012 (SE)</th>\n",
       "      <th>2013</th>\n",
       "      <th>2013 (SE)</th>\n",
       "      <th>2014</th>\n",
       "      <th>2014 (SE)</th>\n",
       "      <th>2015</th>\n",
       "      <th>2015 (SE)</th>\n",
       "    </tr>\n",
       "  </thead>\n",
       "  <tbody>\n",
       "    <tr>\n",
       "      <th>0</th>\n",
       "      <td>United States</td>\n",
       "      <td>55500</td>\n",
       "      <td>59800</td>\n",
       "      <td>56100</td>\n",
       "      <td>80</td>\n",
       "      <td>54400</td>\n",
       "      <td>40</td>\n",
       "      <td>53200</td>\n",
       "      <td>50</td>\n",
       "      <td>53000</td>\n",
       "      <td>30</td>\n",
       "      <td>53200</td>\n",
       "      <td>40</td>\n",
       "      <td>53700</td>\n",
       "      <td>60</td>\n",
       "      <td>55800</td>\n",
       "      <td>50</td>\n",
       "    </tr>\n",
       "    <tr>\n",
       "      <th>1</th>\n",
       "      <td>Alabama</td>\n",
       "      <td>43600</td>\n",
       "      <td>48600</td>\n",
       "      <td>44800</td>\n",
       "      <td>390</td>\n",
       "      <td>44000</td>\n",
       "      <td>310</td>\n",
       "      <td>43600</td>\n",
       "      <td>350</td>\n",
       "      <td>42900</td>\n",
       "      <td>300</td>\n",
       "      <td>43600</td>\n",
       "      <td>400</td>\n",
       "      <td>42900</td>\n",
       "      <td>360</td>\n",
       "      <td>44800</td>\n",
       "      <td>450</td>\n",
       "    </tr>\n",
       "    <tr>\n",
       "      <th>2</th>\n",
       "      <td>Alaska</td>\n",
       "      <td>76400</td>\n",
       "      <td>73400</td>\n",
       "      <td>68200</td>\n",
       "      <td>1330</td>\n",
       "      <td>70200</td>\n",
       "      <td>1380</td>\n",
       "      <td>71500</td>\n",
       "      <td>1250</td>\n",
       "      <td>69900</td>\n",
       "      <td>1190</td>\n",
       "      <td>73500</td>\n",
       "      <td>1170</td>\n",
       "      <td>71700</td>\n",
       "      <td>1090</td>\n",
       "      <td>73400</td>\n",
       "      <td>1410</td>\n",
       "    </tr>\n",
       "    <tr>\n",
       "      <th>3</th>\n",
       "      <td>Arizona</td>\n",
       "      <td>50800</td>\n",
       "      <td>57700</td>\n",
       "      <td>53700</td>\n",
       "      <td>480</td>\n",
       "      <td>50900</td>\n",
       "      <td>350</td>\n",
       "      <td>49200</td>\n",
       "      <td>350</td>\n",
       "      <td>49400</td>\n",
       "      <td>380</td>\n",
       "      <td>49400</td>\n",
       "      <td>360</td>\n",
       "      <td>50100</td>\n",
       "      <td>290</td>\n",
       "      <td>51500</td>\n",
       "      <td>260</td>\n",
       "    </tr>\n",
       "    <tr>\n",
       "      <th>4</th>\n",
       "      <td>Arkansas</td>\n",
       "      <td>39000</td>\n",
       "      <td>45800</td>\n",
       "      <td>42500</td>\n",
       "      <td>440</td>\n",
       "      <td>41600</td>\n",
       "      <td>420</td>\n",
       "      <td>40800</td>\n",
       "      <td>490</td>\n",
       "      <td>41400</td>\n",
       "      <td>310</td>\n",
       "      <td>41200</td>\n",
       "      <td>440</td>\n",
       "      <td>41300</td>\n",
       "      <td>400</td>\n",
       "      <td>42000</td>\n",
       "      <td>290</td>\n",
       "    </tr>\n",
       "  </tbody>\n",
       "</table>\n",
       "</div>"
      ],
      "text/plain": [
       "           State   1990   2000   2005 2005 (SE)   2010 2010 (SE)   2011  \\\n",
       "0  United States  55500  59800  56100        80  54400        40  53200   \n",
       "1        Alabama  43600  48600  44800       390  44000       310  43600   \n",
       "2         Alaska  76400  73400  68200      1330  70200      1380  71500   \n",
       "3        Arizona  50800  57700  53700       480  50900       350  49200   \n",
       "4       Arkansas  39000  45800  42500       440  41600       420  40800   \n",
       "\n",
       "  2011 (SE)   2012 2012 (SE)   2013 2013 (SE)   2014 2014 (SE)   2015  \\\n",
       "0        50  53000        30  53200        40  53700        60  55800   \n",
       "1       350  42900       300  43600       400  42900       360  44800   \n",
       "2      1250  69900      1190  73500      1170  71700      1090  73400   \n",
       "3       350  49400       380  49400       360  50100       290  51500   \n",
       "4       490  41400       310  41200       440  41300       400  42000   \n",
       "\n",
       "  2015 (SE)  \n",
       "0        50  \n",
       "1       450  \n",
       "2      1410  \n",
       "3       260  \n",
       "4       290  "
      ]
     },
     "execution_count": 454,
     "metadata": {},
     "output_type": "execute_result"
    }
   ],
   "source": [
    "mhis.head()"
   ]
  },
  {
   "cell_type": "markdown",
   "metadata": {},
   "source": [
    "### Table 2"
   ]
  },
  {
   "cell_type": "code",
   "execution_count": 455,
   "metadata": {},
   "outputs": [],
   "source": [
    "remove_dollar_sign(mhis2, ['1990', '2000', '2005', '2005 (SE)', '2010', '2010 (SE)', \n",
    "                          '2015', '2015 (SE)', '2016', '2016 (SE)', '2017', '2017 (SE)', \n",
    "                          '2018', '2018 (SE)', '2019', '2019 (SE)', '2021', '2021 (SE)'])\n",
    "\n",
    "remove_parentheses(mhis2, ['2005 (SE)', '2010 (SE)', '2015 (SE)','2016 (SE)','2017 (SE)', \n",
    "                          '2018 (SE)','2019 (SE)','2021 (SE)'])\n",
    "\n",
    "mhis2 = mhis2.astype(float, errors = 'ignore')"
   ]
  },
  {
   "cell_type": "code",
   "execution_count": 456,
   "metadata": {},
   "outputs": [
    {
     "data": {
      "text/html": [
       "<div>\n",
       "<style scoped>\n",
       "    .dataframe tbody tr th:only-of-type {\n",
       "        vertical-align: middle;\n",
       "    }\n",
       "\n",
       "    .dataframe tbody tr th {\n",
       "        vertical-align: top;\n",
       "    }\n",
       "\n",
       "    .dataframe thead th {\n",
       "        text-align: right;\n",
       "    }\n",
       "</style>\n",
       "<table border=\"1\" class=\"dataframe\">\n",
       "  <thead>\n",
       "    <tr style=\"text-align: right;\">\n",
       "      <th></th>\n",
       "      <th>State</th>\n",
       "      <th>1990</th>\n",
       "      <th>2000</th>\n",
       "      <th>2005</th>\n",
       "      <th>2005 (SE)</th>\n",
       "      <th>2010</th>\n",
       "      <th>2010 (SE)</th>\n",
       "      <th>2015</th>\n",
       "      <th>2015 (SE)</th>\n",
       "      <th>2016</th>\n",
       "      <th>2016 (SE)</th>\n",
       "      <th>2017</th>\n",
       "      <th>2017 (SE)</th>\n",
       "      <th>2018</th>\n",
       "      <th>2018 (SE)</th>\n",
       "      <th>2019</th>\n",
       "      <th>2019 (SE)</th>\n",
       "      <th>2021</th>\n",
       "      <th>2021 (SE)</th>\n",
       "    </tr>\n",
       "  </thead>\n",
       "  <tbody>\n",
       "    <tr>\n",
       "      <th>0</th>\n",
       "      <td>United States</td>\n",
       "      <td>63600</td>\n",
       "      <td>68500</td>\n",
       "      <td>64300</td>\n",
       "      <td>90</td>\n",
       "      <td>62300</td>\n",
       "      <td>50</td>\n",
       "      <td>63800</td>\n",
       "      <td>60</td>\n",
       "      <td>65100</td>\n",
       "      <td>80</td>\n",
       "      <td>66700</td>\n",
       "      <td>60</td>\n",
       "      <td>66800</td>\n",
       "      <td>60</td>\n",
       "      <td>69600</td>\n",
       "      <td>80</td>\n",
       "      <td>69700</td>\n",
       "      <td>80</td>\n",
       "    </tr>\n",
       "    <tr>\n",
       "      <th>1</th>\n",
       "      <td>Alabama</td>\n",
       "      <td>49900</td>\n",
       "      <td>55700</td>\n",
       "      <td>51300</td>\n",
       "      <td>450</td>\n",
       "      <td>50400</td>\n",
       "      <td>360</td>\n",
       "      <td>51200</td>\n",
       "      <td>520</td>\n",
       "      <td>52200</td>\n",
       "      <td>460</td>\n",
       "      <td>53200</td>\n",
       "      <td>520</td>\n",
       "      <td>53800</td>\n",
       "      <td>510</td>\n",
       "      <td>54800</td>\n",
       "      <td>390</td>\n",
       "      <td>53900</td>\n",
       "      <td>470</td>\n",
       "    </tr>\n",
       "    <tr>\n",
       "      <th>2</th>\n",
       "      <td>Alaska</td>\n",
       "      <td>87600</td>\n",
       "      <td>84100</td>\n",
       "      <td>78200</td>\n",
       "      <td>1530</td>\n",
       "      <td>80400</td>\n",
       "      <td>1580</td>\n",
       "      <td>83900</td>\n",
       "      <td>1610</td>\n",
       "      <td>86300</td>\n",
       "      <td>1530</td>\n",
       "      <td>80900</td>\n",
       "      <td>1770</td>\n",
       "      <td>80200</td>\n",
       "      <td>1500</td>\n",
       "      <td>80000</td>\n",
       "      <td>1740</td>\n",
       "      <td>77800</td>\n",
       "      <td>1310</td>\n",
       "    </tr>\n",
       "    <tr>\n",
       "      <th>3</th>\n",
       "      <td>Arizona</td>\n",
       "      <td>58300</td>\n",
       "      <td>66200</td>\n",
       "      <td>61600</td>\n",
       "      <td>550</td>\n",
       "      <td>58300</td>\n",
       "      <td>400</td>\n",
       "      <td>58900</td>\n",
       "      <td>300</td>\n",
       "      <td>60500</td>\n",
       "      <td>440</td>\n",
       "      <td>62500</td>\n",
       "      <td>350</td>\n",
       "      <td>63900</td>\n",
       "      <td>480</td>\n",
       "      <td>65800</td>\n",
       "      <td>290</td>\n",
       "      <td>69100</td>\n",
       "      <td>420</td>\n",
       "    </tr>\n",
       "    <tr>\n",
       "      <th>4</th>\n",
       "      <td>Arkansas</td>\n",
       "      <td>44700</td>\n",
       "      <td>52500</td>\n",
       "      <td>48700</td>\n",
       "      <td>510</td>\n",
       "      <td>47700</td>\n",
       "      <td>490</td>\n",
       "      <td>48000</td>\n",
       "      <td>330</td>\n",
       "      <td>50100</td>\n",
       "      <td>630</td>\n",
       "      <td>50700</td>\n",
       "      <td>510</td>\n",
       "      <td>50800</td>\n",
       "      <td>470</td>\n",
       "      <td>51900</td>\n",
       "      <td>560</td>\n",
       "      <td>52500</td>\n",
       "      <td>610</td>\n",
       "    </tr>\n",
       "  </tbody>\n",
       "</table>\n",
       "</div>"
      ],
      "text/plain": [
       "           State   1990   2000   2005 2005 (SE)   2010 2010 (SE)   2015  \\\n",
       "0  United States  63600  68500  64300        90  62300        50  63800   \n",
       "1        Alabama  49900  55700  51300       450  50400       360  51200   \n",
       "2         Alaska  87600  84100  78200      1530  80400      1580  83900   \n",
       "3        Arizona  58300  66200  61600       550  58300       400  58900   \n",
       "4       Arkansas  44700  52500  48700       510  47700       490  48000   \n",
       "\n",
       "  2015 (SE)   2016 2016 (SE)   2017 2017 (SE)   2018 2018 (SE)   2019  \\\n",
       "0        60  65100        80  66700        60  66800        60  69600   \n",
       "1       520  52200       460  53200       520  53800       510  54800   \n",
       "2      1610  86300      1530  80900      1770  80200      1500  80000   \n",
       "3       300  60500       440  62500       350  63900       480  65800   \n",
       "4       330  50100       630  50700       510  50800       470  51900   \n",
       "\n",
       "  2019 (SE)   2021 2021 (SE)  \n",
       "0        80  69700        80  \n",
       "1       390  53900       470  \n",
       "2      1740  77800      1310  \n",
       "3       290  69100       420  \n",
       "4       560  52500       610  "
      ]
     },
     "execution_count": 456,
     "metadata": {},
     "output_type": "execute_result"
    }
   ],
   "source": [
    "mhis2.head()"
   ]
  },
  {
   "cell_type": "markdown",
   "metadata": {},
   "source": [
    "## Dataset #3: History of Women in the U.S. Congress"
   ]
  },
  {
   "cell_type": "code",
   "execution_count": 457,
   "metadata": {},
   "outputs": [],
   "source": [
    "# Removing provided index\n",
    "congress = congress.drop(columns = [\"0\"], axis = 1)\n",
    "\n",
    "#Removing these rows because they are not needed for our analysis and caused some cleaning problems, as they were not uniform\n",
    "congress.drop(53, inplace = True)\n",
    "congress.drop(52, inplace = True)"
   ]
  },
  {
   "cell_type": "code",
   "execution_count": 458,
   "metadata": {},
   "outputs": [],
   "source": [
    "congress[\"Start Date\"] = congress[\"Dates\"].apply(lambda string: int(string.split(\"-\")[0]))\n",
    "congress[\"End Date\"] = congress[\"Dates\"].apply(lambda string: int(string.split(\"-\")[1]))\n",
    "# congress = congress.drop(columns = [\"Dates\"], axis = 1)\n",
    "congress[\"Total Women in Senate\"] = congress[\"Women in the Senate\"].apply(lambda string: int(string.split(\" \")[0]))\n",
    "congress[\"Democratic Women in Senate\"] = congress[\"Women in the Senate\"].apply(lambda string:\n",
    "                                                                    int(string[string.find(\"(\") + 1:string.find(\")\")].split(\",\")[0].replace(\"D\", \"\")))\n",
    "congress[\"Republican Women in Senate\"] = congress[\"Women in the Senate\"].apply(lambda string:\n",
    "                                                                    int(string[string.find(\"(\") + 1:string.find(\")\")].split(\",\")[-1].replace(\"R\", \"\")))\n",
    "congress[\"Total Women in House\"] = congress[\"Women in the House\"].apply(lambda string: int(string.split(\" \")[0]))\n",
    "congress[\"Democratic Women in House\"] = congress[\"Women in the House\"].apply(lambda string:\n",
    "                                                                    int(string[string.find(\"(\") + 1:string.find(\")\")].split(\",\")[0].replace(\"D\", \"\")))\n",
    "congress[\"Republican Women in House\"] = congress[\"Women in the House\"].apply(lambda string:\n",
    "                                                                    int(string[string.find(\"(\") + 1:string.find(\")\")].split(\",\")[-1].replace(\"R\", \"\")))\n",
    "congress[\"Total Women in Congress\"] = congress[\"Total Women\"].apply(lambda string: int(string.split(\" \")[0]))\n",
    "congress[\"Total Democratic Women\"] = congress[\"Total Women\"].apply(lambda string:\n",
    "                                                                    int(string[string.find(\"(\") + 1:string.find(\")\")].split(\",\")[0].replace(\"D\", \"\")))\n",
    "congress[\"Total Republican Women\"] = congress[\"Total Women\"].apply(lambda string:\n",
    "                                                                    int(string[string.find(\"(\") + 1:string.find(\")\")].split(\",\")[-1].replace(\"R\", \"\")))\n",
    "congress = congress.drop(columns = [\"Dates\", \"Women in the Senate\", \"Women in the House\", \"Total Women\"], axis = 1)"
   ]
  },
  {
   "cell_type": "code",
   "execution_count": 459,
   "metadata": {},
   "outputs": [
    {
     "data": {
      "text/html": [
       "<div>\n",
       "<style scoped>\n",
       "    .dataframe tbody tr th:only-of-type {\n",
       "        vertical-align: middle;\n",
       "    }\n",
       "\n",
       "    .dataframe tbody tr th {\n",
       "        vertical-align: top;\n",
       "    }\n",
       "\n",
       "    .dataframe thead th {\n",
       "        text-align: right;\n",
       "    }\n",
       "</style>\n",
       "<table border=\"1\" class=\"dataframe\">\n",
       "  <thead>\n",
       "    <tr style=\"text-align: right;\">\n",
       "      <th></th>\n",
       "      <th>Congress</th>\n",
       "      <th>Start Date</th>\n",
       "      <th>End Date</th>\n",
       "      <th>Total Women in Senate</th>\n",
       "      <th>Democratic Women in Senate</th>\n",
       "      <th>Republican Women in Senate</th>\n",
       "      <th>Total Women in House</th>\n",
       "      <th>Democratic Women in House</th>\n",
       "      <th>Republican Women in House</th>\n",
       "      <th>Total Women in Congress</th>\n",
       "      <th>Total Democratic Women</th>\n",
       "      <th>Total Republican Women</th>\n",
       "    </tr>\n",
       "  </thead>\n",
       "  <tbody>\n",
       "    <tr>\n",
       "      <th>0</th>\n",
       "      <td>65th</td>\n",
       "      <td>1917</td>\n",
       "      <td>1919</td>\n",
       "      <td>0</td>\n",
       "      <td>0</td>\n",
       "      <td>0</td>\n",
       "      <td>1</td>\n",
       "      <td>0</td>\n",
       "      <td>1</td>\n",
       "      <td>1</td>\n",
       "      <td>0</td>\n",
       "      <td>1</td>\n",
       "    </tr>\n",
       "    <tr>\n",
       "      <th>1</th>\n",
       "      <td>66th</td>\n",
       "      <td>1919</td>\n",
       "      <td>1921</td>\n",
       "      <td>0</td>\n",
       "      <td>0</td>\n",
       "      <td>0</td>\n",
       "      <td>0</td>\n",
       "      <td>0</td>\n",
       "      <td>0</td>\n",
       "      <td>0</td>\n",
       "      <td>0</td>\n",
       "      <td>0</td>\n",
       "    </tr>\n",
       "    <tr>\n",
       "      <th>2</th>\n",
       "      <td>67th</td>\n",
       "      <td>1921</td>\n",
       "      <td>1923</td>\n",
       "      <td>1</td>\n",
       "      <td>1</td>\n",
       "      <td>0</td>\n",
       "      <td>3</td>\n",
       "      <td>0</td>\n",
       "      <td>3</td>\n",
       "      <td>4</td>\n",
       "      <td>1</td>\n",
       "      <td>3</td>\n",
       "    </tr>\n",
       "    <tr>\n",
       "      <th>3</th>\n",
       "      <td>68th</td>\n",
       "      <td>1923</td>\n",
       "      <td>1925</td>\n",
       "      <td>0</td>\n",
       "      <td>0</td>\n",
       "      <td>0</td>\n",
       "      <td>1</td>\n",
       "      <td>0</td>\n",
       "      <td>1</td>\n",
       "      <td>1</td>\n",
       "      <td>0</td>\n",
       "      <td>1</td>\n",
       "    </tr>\n",
       "    <tr>\n",
       "      <th>4</th>\n",
       "      <td>69th</td>\n",
       "      <td>1925</td>\n",
       "      <td>1927</td>\n",
       "      <td>0</td>\n",
       "      <td>0</td>\n",
       "      <td>0</td>\n",
       "      <td>3</td>\n",
       "      <td>1</td>\n",
       "      <td>2</td>\n",
       "      <td>3</td>\n",
       "      <td>1</td>\n",
       "      <td>2</td>\n",
       "    </tr>\n",
       "  </tbody>\n",
       "</table>\n",
       "</div>"
      ],
      "text/plain": [
       "  Congress  Start Date  End Date  Total Women in Senate  \\\n",
       "0     65th        1917      1919                      0   \n",
       "1     66th        1919      1921                      0   \n",
       "2     67th        1921      1923                      1   \n",
       "3     68th        1923      1925                      0   \n",
       "4     69th        1925      1927                      0   \n",
       "\n",
       "   Democratic Women in Senate  Republican Women in Senate  \\\n",
       "0                           0                           0   \n",
       "1                           0                           0   \n",
       "2                           1                           0   \n",
       "3                           0                           0   \n",
       "4                           0                           0   \n",
       "\n",
       "   Total Women in House  Democratic Women in House  Republican Women in House  \\\n",
       "0                     1                          0                          1   \n",
       "1                     0                          0                          0   \n",
       "2                     3                          0                          3   \n",
       "3                     1                          0                          1   \n",
       "4                     3                          1                          2   \n",
       "\n",
       "   Total Women in Congress  Total Democratic Women  Total Republican Women  \n",
       "0                        1                       0                       1  \n",
       "1                        0                       0                       0  \n",
       "2                        4                       1                       3  \n",
       "3                        1                       0                       1  \n",
       "4                        3                       1                       2  "
      ]
     },
     "execution_count": 459,
     "metadata": {},
     "output_type": "execute_result"
    }
   ],
   "source": [
    "congress.head()"
   ]
  },
  {
   "cell_type": "markdown",
   "metadata": {},
   "source": [
    "### Dataset 3 Alternative: Women in State Legislatures, 2014-2017"
   ]
  },
  {
   "cell_type": "code",
   "execution_count": 460,
   "metadata": {},
   "outputs": [],
   "source": [
    "#Web Scraping using beautiful soup to get the data for number of women per state\n",
    "\n",
    "import requests\n",
    "from bs4 import BeautifulSoup\n",
    "\n",
    "URL = \"https://cawp.rutgers.edu/election-watch/women-state-legislative-elections-historical-state-state-summary\"\n",
    "page = requests.get(URL)\n",
    "soup = BeautifulSoup(page.content, \"html.parser\")\n",
    "tables = soup.find_all('table', class_='tablefield')\n",
    "data_list = []\n",
    "\n",
    "for table in tables:\n",
    "    # Extract the caption (e.g., 'Alaska') for each table\n",
    "    table_caption = table.caption.text.strip()\n",
    "    # Extract rows\n",
    "    rows = table.tbody.find_all('tr')\n",
    "\n",
    "    for row in rows:\n",
    "        # Extract data from each cell in the row\n",
    "        cells = row.find_all('td')\n",
    "        row_data = [cell.text.strip() for cell in cells]\n",
    "\n",
    "        data_list.append([table_caption] + row_data)\n",
    "\n",
    "# Create a df\n",
    "columns = ['Table', 'Year', 'Nominees', 'Winners']\n",
    "gov_women = pd.DataFrame(data_list, columns=columns)"
   ]
  },
  {
   "cell_type": "code",
   "execution_count": 461,
   "metadata": {},
   "outputs": [],
   "source": [
    "#Web scraping to get total number of seats per state\n",
    "URL = \"https://www.ncsl.org/resources/details/number-of-legislators-and-length-of-terms-in-years\"\n",
    "page = requests.get(URL)\n",
    "soup = BeautifulSoup(page.content, \"html.parser\")\n",
    "\n",
    "table = soup.find('table', {'summary': 'Number of Legislators and Term length'})\n",
    "data = []\n",
    "for row in table.tbody.find_all('tr')[1:-1]:\n",
    "    cells = row.find_all('td')\n",
    "    row_data = [cell.text.strip() for cell in cells]\n",
    "    data.append(row_data)\n",
    "columns = ['State', 'Senate Number', 'Senate Term', 'House Number', 'House Term', 'Total Number']\n",
    "state_seats = pd.DataFrame(data, columns=columns)"
   ]
  },
  {
   "cell_type": "code",
   "execution_count": 462,
   "metadata": {},
   "outputs": [],
   "source": [
    "#Dropping unecessary columns, removing the democrat and republican numbers from the winners column\n",
    "state_seats = state_seats.drop(['Senate Number', 'Senate Term', 'House Number', 'House Term'], axis=1)\n",
    "gov_women = gov_women.drop(\"Nominees\", axis=1)\n",
    "gov_women[\"Total Women\"] = gov_women[\"Winners\"].apply(lambda string: int(string.split(\" \")[0]) if string.split(\" \")[0].isdigit() else None)\n",
    "gov_women = gov_women.drop(\"Winners\", axis=1)"
   ]
  },
  {
   "cell_type": "code",
   "execution_count": 463,
   "metadata": {},
   "outputs": [],
   "source": [
    "#Separating the df into separate dfs per year and then merging them\n",
    "gov_2012 = gov_women[gov_women['Year'] == '2012']\n",
    "gov_2013 = gov_women[gov_women['Year'] == '2013']\n",
    "gov_2014 = gov_women[gov_women['Year'] == '2014']\n",
    "gov_2015 = gov_women[gov_women['Year'] == '2015']\n",
    "gov_2016 = gov_women[gov_women['Year'] == '2016']\n",
    "gov_2017 = gov_women[gov_women['Year'] == '2017']\n",
    "\n",
    "\n",
    "merge2013 = pd.merge(gov_2012, gov_2013, on='Table', how='outer')\n",
    "merge2014 = pd.merge(merge2013, gov_2014, on='Table', how='outer')\n",
    "merge2015 = pd.merge(merge2014, gov_2015, on='Table', how='outer')\n",
    "merge2016 = pd.merge(merge2015, gov_2016, on='Table', how='outer')\n",
    "merged_gov_women = pd.merge(merge2016, gov_2017, on='Table', how='outer')\n",
    "\n",
    "merged_gov_women = merged_gov_women.drop(merged_gov_women.columns[[1,3,5,7,9,11]], axis=1)\n",
    "merged_gov_women.columns = ['State', 2012, 2013, 2014, 2015, 2016, 2017]"
   ]
  },
  {
   "cell_type": "code",
   "execution_count": 464,
   "metadata": {},
   "outputs": [],
   "source": [
    "#replace two errors due to webscraping\n",
    "merged_gov_women.at[1, 2014] = 20\n",
    "merged_gov_women.at[2, 2016] = 35\n",
    "\n",
    "#Filling NaN values with numbers from previous year as elections are not held every year\n",
    "merged_gov_women.iloc[:, 1:] = merged_gov_women.iloc[:,1:].fillna(method='ffill', axis=1)\n",
    "merged_gov_women = merged_gov_women.drop([2012, 2013], axis=1)\n",
    "\n",
    "#Merging with state seats and finding rate by dividing no. of women by total seats\n",
    "merged_gov = pd.merge(merged_gov_women, state_seats, on='State')\n",
    "merged_gov['Total Number'] = merged_gov['Total Number'].astype(float)\n",
    "merged_gov[2014] = merged_gov[2014]/merged_gov['Total Number']\n",
    "merged_gov[2015] = merged_gov[2015]/merged_gov['Total Number']\n",
    "merged_gov[2016] = merged_gov[2016]/merged_gov['Total Number']\n",
    "merged_gov[2017] = merged_gov[2017]/merged_gov['Total Number']\n",
    "\n",
    "merged_gov = merged_gov.drop('Total Number', axis=1)"
   ]
  },
  {
   "cell_type": "code",
   "execution_count": 465,
   "metadata": {},
   "outputs": [
    {
     "data": {
      "text/html": [
       "<div>\n",
       "<style scoped>\n",
       "    .dataframe tbody tr th:only-of-type {\n",
       "        vertical-align: middle;\n",
       "    }\n",
       "\n",
       "    .dataframe tbody tr th {\n",
       "        vertical-align: top;\n",
       "    }\n",
       "\n",
       "    .dataframe thead th {\n",
       "        text-align: right;\n",
       "    }\n",
       "</style>\n",
       "<table border=\"1\" class=\"dataframe\">\n",
       "  <thead>\n",
       "    <tr style=\"text-align: right;\">\n",
       "      <th></th>\n",
       "      <th>State</th>\n",
       "      <th>2014</th>\n",
       "      <th>2015</th>\n",
       "      <th>2016</th>\n",
       "      <th>2017</th>\n",
       "    </tr>\n",
       "  </thead>\n",
       "  <tbody>\n",
       "    <tr>\n",
       "      <th>0</th>\n",
       "      <td>Alaska</td>\n",
       "      <td>0.266667</td>\n",
       "      <td>0.266667</td>\n",
       "      <td>0.250000</td>\n",
       "      <td>0.250000</td>\n",
       "    </tr>\n",
       "    <tr>\n",
       "      <th>1</th>\n",
       "      <td>Alabama</td>\n",
       "      <td>0.142857</td>\n",
       "      <td>0.142857</td>\n",
       "      <td>0.142857</td>\n",
       "      <td>0.142857</td>\n",
       "    </tr>\n",
       "    <tr>\n",
       "      <th>2</th>\n",
       "      <td>Arizona</td>\n",
       "      <td>0.355556</td>\n",
       "      <td>0.355556</td>\n",
       "      <td>0.388889</td>\n",
       "      <td>0.388889</td>\n",
       "    </tr>\n",
       "    <tr>\n",
       "      <th>3</th>\n",
       "      <td>Arkansas</td>\n",
       "      <td>0.185185</td>\n",
       "      <td>0.185185</td>\n",
       "      <td>0.148148</td>\n",
       "      <td>0.148148</td>\n",
       "    </tr>\n",
       "    <tr>\n",
       "      <th>4</th>\n",
       "      <td>California</td>\n",
       "      <td>0.200000</td>\n",
       "      <td>0.200000</td>\n",
       "      <td>0.175000</td>\n",
       "      <td>0.175000</td>\n",
       "    </tr>\n",
       "  </tbody>\n",
       "</table>\n",
       "</div>"
      ],
      "text/plain": [
       "        State      2014      2015      2016      2017\n",
       "0      Alaska  0.266667  0.266667  0.250000  0.250000\n",
       "1     Alabama  0.142857  0.142857  0.142857  0.142857\n",
       "2     Arizona  0.355556  0.355556  0.388889  0.388889\n",
       "3    Arkansas  0.185185  0.185185  0.148148  0.148148\n",
       "4  California  0.200000  0.200000  0.175000  0.175000"
      ]
     },
     "execution_count": 465,
     "metadata": {},
     "output_type": "execute_result"
    }
   ],
   "source": [
    "merged_gov.head()"
   ]
  },
  {
   "cell_type": "markdown",
   "metadata": {},
   "source": [
    "## Dataset #4 OB/GYN Rate Per State, 2014-2017"
   ]
  },
  {
   "cell_type": "code",
   "execution_count": 466,
   "metadata": {},
   "outputs": [],
   "source": [
    "#Drop uneccessary column, rename columns\n",
    "obgynreal = obgynreal.drop('FIPS', axis=1)\n",
    "obgynreal.columns =['Year', 'State', 'OBGYN', 'Population']\n",
    "\n",
    "# Rate is per 100,000 population, so it is (OBGYN/Population)*100000\n",
    "obgynreal['Rate'] = (obgynreal['OBGYN']/obgynreal['Population'])*100000\n",
    "\n",
    "#Drop unecessary columns\n",
    "obgynreal = obgynreal.drop(['OBGYN', 'Population'], axis=1)"
   ]
  },
  {
   "cell_type": "code",
   "execution_count": 467,
   "metadata": {},
   "outputs": [
    {
     "data": {
      "text/html": [
       "<div>\n",
       "<style scoped>\n",
       "    .dataframe tbody tr th:only-of-type {\n",
       "        vertical-align: middle;\n",
       "    }\n",
       "\n",
       "    .dataframe tbody tr th {\n",
       "        vertical-align: top;\n",
       "    }\n",
       "\n",
       "    .dataframe thead th {\n",
       "        text-align: right;\n",
       "    }\n",
       "</style>\n",
       "<table border=\"1\" class=\"dataframe\">\n",
       "  <thead>\n",
       "    <tr style=\"text-align: right;\">\n",
       "      <th></th>\n",
       "      <th>State</th>\n",
       "      <th>2014</th>\n",
       "      <th>2015</th>\n",
       "      <th>2016</th>\n",
       "      <th>2017</th>\n",
       "    </tr>\n",
       "  </thead>\n",
       "  <tbody>\n",
       "    <tr>\n",
       "      <th>0</th>\n",
       "      <td>Alabama</td>\n",
       "      <td>10.723027</td>\n",
       "      <td>10.742998</td>\n",
       "      <td>10.630642</td>\n",
       "      <td>10.174887</td>\n",
       "    </tr>\n",
       "    <tr>\n",
       "      <th>1</th>\n",
       "      <td>Alaska</td>\n",
       "      <td>10.315827</td>\n",
       "      <td>10.292078</td>\n",
       "      <td>10.109261</td>\n",
       "      <td>10.273116</td>\n",
       "    </tr>\n",
       "    <tr>\n",
       "      <th>2</th>\n",
       "      <td>Arizona</td>\n",
       "      <td>10.220629</td>\n",
       "      <td>9.973543</td>\n",
       "      <td>9.883033</td>\n",
       "      <td>10.019569</td>\n",
       "    </tr>\n",
       "    <tr>\n",
       "      <th>3</th>\n",
       "      <td>Arkansas</td>\n",
       "      <td>8.731213</td>\n",
       "      <td>8.226434</td>\n",
       "      <td>8.299177</td>\n",
       "      <td>8.354750</td>\n",
       "    </tr>\n",
       "    <tr>\n",
       "      <th>4</th>\n",
       "      <td>California</td>\n",
       "      <td>12.104890</td>\n",
       "      <td>12.065454</td>\n",
       "      <td>11.999995</td>\n",
       "      <td>12.009110</td>\n",
       "    </tr>\n",
       "  </tbody>\n",
       "</table>\n",
       "</div>"
      ],
      "text/plain": [
       "        State       2014       2015       2016       2017\n",
       "0     Alabama  10.723027  10.742998  10.630642  10.174887\n",
       "1      Alaska  10.315827  10.292078  10.109261  10.273116\n",
       "2     Arizona  10.220629   9.973543   9.883033  10.019569\n",
       "3    Arkansas   8.731213   8.226434   8.299177   8.354750\n",
       "4  California  12.104890  12.065454  11.999995  12.009110"
      ]
     },
     "execution_count": 467,
     "metadata": {},
     "output_type": "execute_result"
    }
   ],
   "source": [
    "#Extract and clean data for years 2014-2017\n",
    "obgyn_2014 = obgynreal[obgynreal['Year'] == 2014]\n",
    "obgyn_2015 = obgynreal[obgynreal['Year'] == 2015]\n",
    "obgyn_2016 = obgynreal[obgynreal['Year'] == 2016]\n",
    "obgyn_2017 = obgynreal[obgynreal['Year'] == 2017]\n",
    "\n",
    "obgyn_2014 = obgyn_2014.drop('Year', axis=1)\n",
    "obgyn_2014.columns = ['State', 2014]\n",
    "\n",
    "obgyn_2015 = obgyn_2015.drop('Year', axis=1)\n",
    "obgyn_2015.columns = ['State', 2015]\n",
    "\n",
    "obgyn_2016 = obgyn_2016.drop('Year', axis=1)\n",
    "obgyn_2016.columns = ['State', 2016]\n",
    "\n",
    "obgyn_2017 = obgyn_2017.drop('Year', axis=1)\n",
    "obgyn_2017.columns = ['State', 2017]\n",
    "\n",
    "#Merge all tables into one final table\n",
    "obgyn_mid = pd.merge(obgyn_2014, obgyn_2015, on='State')\n",
    "obgyn_mid2 = pd.merge(obgyn_mid, obgyn_2016, on='State')\n",
    "\n",
    "obgyn = pd.merge(obgyn_mid2, obgyn_2017, on='State')\n",
    "\n",
    "#Dropping DoC because it is not a state\n",
    "obgyn.drop(8, inplace=True)\n",
    "obgyn.reset_index(drop=True)\n",
    "\n",
    "obgyn.head()"
   ]
  },
  {
   "cell_type": "markdown",
   "metadata": {},
   "source": [
    "# Results\n",
    "\n",
    "## Exploratory Data Analysis\n",
    "\n",
    "Carry out whatever EDA you need to for your project.  Because every project will be different we can't really give you much of a template at this point. But please make sure you describe the what and why in text here as well as providing interpretation of results and context."
   ]
  },
  {
   "cell_type": "code",
   "execution_count": 468,
   "metadata": {},
   "outputs": [],
   "source": [
    "import matplotlib.pyplot as plt\n",
    "import seaborn as sns"
   ]
  },
  {
   "cell_type": "markdown",
   "metadata": {},
   "source": [
    "### EDA For Abortion Incidence\n",
    "\n",
    "Some more words and stuff.  Remember notebooks work best if you interleave the code that generates a result with properly annotate figures and text that puts these results into context."
   ]
  },
  {
   "cell_type": "code",
   "execution_count": 469,
   "metadata": {},
   "outputs": [
    {
     "data": {
      "text/html": [
       "<div>\n",
       "<style scoped>\n",
       "    .dataframe tbody tr th:only-of-type {\n",
       "        vertical-align: middle;\n",
       "    }\n",
       "\n",
       "    .dataframe tbody tr th {\n",
       "        vertical-align: top;\n",
       "    }\n",
       "\n",
       "    .dataframe thead th {\n",
       "        text-align: right;\n",
       "    }\n",
       "</style>\n",
       "<table border=\"1\" class=\"dataframe\">\n",
       "  <thead>\n",
       "    <tr style=\"text-align: right;\">\n",
       "      <th></th>\n",
       "      <th>Year</th>\n",
       "      <th>No. (in 000s)</th>\n",
       "      <th>Rate</th>\n",
       "      <th>Ratio</th>\n",
       "    </tr>\n",
       "  </thead>\n",
       "  <tbody>\n",
       "    <tr>\n",
       "      <th>0</th>\n",
       "      <td>2000</td>\n",
       "      <td>1313.0</td>\n",
       "      <td>21.3</td>\n",
       "      <td>24.5</td>\n",
       "    </tr>\n",
       "    <tr>\n",
       "      <th>1</th>\n",
       "      <td>2001</td>\n",
       "      <td>1291.0</td>\n",
       "      <td>20.9</td>\n",
       "      <td>24.4</td>\n",
       "    </tr>\n",
       "    <tr>\n",
       "      <th>2</th>\n",
       "      <td>2002</td>\n",
       "      <td>1269.0</td>\n",
       "      <td>20.5</td>\n",
       "      <td>23.8</td>\n",
       "    </tr>\n",
       "    <tr>\n",
       "      <th>3</th>\n",
       "      <td>2003</td>\n",
       "      <td>1250.0</td>\n",
       "      <td>20.2</td>\n",
       "      <td>23.3</td>\n",
       "    </tr>\n",
       "    <tr>\n",
       "      <th>4</th>\n",
       "      <td>2004</td>\n",
       "      <td>1222.1</td>\n",
       "      <td>19.7</td>\n",
       "      <td>22.9</td>\n",
       "    </tr>\n",
       "  </tbody>\n",
       "</table>\n",
       "</div>"
      ],
      "text/plain": [
       "   Year  No. (in 000s)  Rate  Ratio\n",
       "0  2000         1313.0  21.3   24.5\n",
       "1  2001         1291.0  20.9   24.4\n",
       "2  2002         1269.0  20.5   23.8\n",
       "3  2003         1250.0  20.2   23.3\n",
       "4  2004         1222.1  19.7   22.9"
      ]
     },
     "execution_count": 469,
     "metadata": {},
     "output_type": "execute_result"
    }
   ],
   "source": [
    "aisau1.head()"
   ]
  },
  {
   "cell_type": "code",
   "execution_count": 470,
   "metadata": {},
   "outputs": [
    {
     "data": {
      "text/plain": [
       "Text(0.5, 0, 'Abortion Rate')"
      ]
     },
     "execution_count": 470,
     "metadata": {},
     "output_type": "execute_result"
    },
    {
     "data": {
      "image/png": "[encoded data removed]",
      "text/plain": [
       "<Figure size 432x288 with 1 Axes>"
      ]
     },
     "metadata": {
      "needs_background": "light"
     },
     "output_type": "display_data"
    }
   ],
   "source": [
    "aisau1.plot(kind = \"barh\", x = \"Year\", y = \"Rate\") #From now on Rate will be blue\n",
    "plt.xlabel('Abortion Rate')"
   ]
  },
  {
   "cell_type": "code",
   "execution_count": 471,
   "metadata": {},
   "outputs": [
    {
     "data": {
      "text/plain": [
       "Text(0.5, 0, 'Abortion Ratio')"
      ]
     },
     "execution_count": 471,
     "metadata": {},
     "output_type": "execute_result"
    },
    {
     "data": {
      "image/png": "[encoded data removed]",
      "text/plain": [
       "<Figure size 432x288 with 1 Axes>"
      ]
     },
     "metadata": {
      "needs_background": "light"
     },
     "output_type": "display_data"
    }
   ],
   "source": [
    "aisau1.plot(kind = \"barh\", x = \"Year\", y = \"Ratio\", color = \"green\") #From now on Ratio will be green\n",
    "plt.xlabel('Abortion Ratio')"
   ]
  },
  {
   "cell_type": "markdown",
   "metadata": {},
   "source": [
    "### EDA for Median household income, by state: Selected years, 1990 through 2015\n",
    "\n",
    "Some more words and stuff.  Remember notebooks work best if you interleave the code that generates a result with properly annotate figures and text that puts these results into context."
   ]
  },
  {
   "cell_type": "code",
   "execution_count": 472,
   "metadata": {},
   "outputs": [
    {
     "data": {
      "image/png": "[encoded data removed]",
      "text/plain": [
       "<Figure size 432x288 with 1 Axes>"
      ]
     },
     "metadata": {
      "needs_background": "light"
     },
     "output_type": "display_data"
    }
   ],
   "source": [
    "for state in merged_gov['State']:\n",
    "    plt.plot(merged_gov.columns[1:], merged_gov[merged_gov['State'] == state].iloc[0, 1:], label=state)\n",
    "    \n",
    "plt.legend(bbox_to_anchor=(1.05, 1), loc='upper left')\n",
    "plt.xlabel('Year')\n",
    "plt.ylabel('Rate')\n",
    "plt.legend(ncol=4, loc='upper left', bbox_to_anchor=(1, 1))\n",
    "plt.show()"
   ]
  },
  {
   "cell_type": "code",
   "execution_count": 473,
   "metadata": {},
   "outputs": [
    {
     "data": {
      "image/png": "[encoded data removed]",
      "text/plain": [
       "<Figure size 432x288 with 1 Axes>"
      ]
     },
     "metadata": {
      "needs_background": "light"
     },
     "output_type": "display_data"
    }
   ],
   "source": [
    "gov_stats = merged_gov.describe()\n",
    "plt.plot(gov_stats.columns[:], gov_stats.iloc[1, :], label='mean')\n",
    "plt.xlabel('Years')\n",
    "plt.ylabel('Rate')\n",
    "plt.title('Mean Rate Per Year')\n",
    "plt.show()"
   ]
  },
  {
   "cell_type": "markdown",
   "metadata": {},
   "source": [
    "### EDA for History of Women in the U.S. Congress\n",
    "\n",
    "Some more words and stuff.  Remember notebooks work best if you interleave the code that generates a result with properly annotate figures and text that puts these results into context."
   ]
  },
  {
   "cell_type": "markdown",
   "metadata": {},
   "source": [
    "### EDA for OB/GYN Rate Per State, 2019-2021\n",
    "\n",
    "First let's see if we can spot a common trend in all 50 states."
   ]
  },
  {
   "cell_type": "code",
   "execution_count": 474,
   "metadata": {},
   "outputs": [
    {
     "data": {
      "image/png": "[encoded data removed]",
      "text/plain": [
       "<Figure size 432x288 with 1 Axes>"
      ]
     },
     "metadata": {
      "needs_background": "light"
     },
     "output_type": "display_data"
    }
   ],
   "source": [
    "for state in obgyn['State']:\n",
    "    plt.plot(obgyn.columns[1:], obgyn[obgyn['State'] == state].iloc[0, 1:], label=state)\n",
    "    \n",
    "plt.legend(bbox_to_anchor=(1.05, 1), loc='upper left')\n",
    "plt.xlabel('Year')\n",
    "plt.ylabel('Rate')\n",
    "plt.legend(ncol=4, loc='upper left', bbox_to_anchor=(1, 1))\n",
    "plt.show()"
   ]
  },
  {
   "cell_type": "markdown",
   "metadata": {},
   "source": [
    "The rate of OB/GYNs does not have a clear upward or downward trend in the states that have been selected."
   ]
  },
  {
   "cell_type": "code",
   "execution_count": 475,
   "metadata": {},
   "outputs": [
    {
     "data": {
      "image/png": "[encoded data removed]",
      "text/plain": [
       "<Figure size 432x288 with 1 Axes>"
      ]
     },
     "metadata": {
      "needs_background": "light"
     },
     "output_type": "display_data"
    }
   ],
   "source": [
    "obgyn_stats = obgyn.describe()\n",
    "plt.plot(obgyn_stats.columns[:], obgyn_stats.iloc[1, :], label='mean')\n",
    "plt.xlabel('Years')\n",
    "plt.ylabel('Rate')\n",
    "plt.title('Mean Rate Per Year')\n",
    "plt.show()"
   ]
  },
  {
   "cell_type": "markdown",
   "metadata": {},
   "source": [
    "Clearly the mean rate is decreasing in the years 2014 to 2017. Maybe we will see a similar trend if we divide our states up by region."
   ]
  },
  {
   "cell_type": "code",
   "execution_count": 476,
   "metadata": {},
   "outputs": [],
   "source": [
    "states_by_region = {\n",
    "    'Northeast': ['Connecticut', 'Maine', 'Massachusetts', 'New Hampshire', 'New Jersey', 'New York', 'Pennsylvania', 'Rhode Island', 'Vermont'],\n",
    "    'Midwest': ['Illinois', 'Indiana', 'Iowa', 'Kansas', 'Michigan', 'Minnesota', 'Missouri', 'Nebraska', 'North Dakota', 'Ohio', 'South Dakota', 'Wisconsin'],\n",
    "    'South': ['Alabama', 'Arkansas', 'Delaware', 'District of Columbia', 'Florida', 'Georgia', 'Kentucky', 'Louisiana', 'Maryland', 'Mississippi', 'North Carolina', 'Oklahoma', 'South Carolina', 'Tennessee', 'Texas', 'Virginia', 'West Virginia'],\n",
    "    'West': ['Alaska', 'Arizona', 'California', 'Colorado', 'Hawaii', 'Idaho', 'Montana', 'Nevada', 'New Mexico', 'Oregon', 'Utah', 'Washington', 'Wyoming']\n",
    "}\n",
    "\n",
    "region_dfs = {}\n",
    "\n",
    "for region, states in states_by_region.items():\n",
    "    region_dfs[region] = obgyn[obgyn['State'].isin(states)].copy()\n",
    "\n",
    "northeast_df = region_dfs['Northeast']\n",
    "midwest_df = region_dfs['Midwest']\n",
    "south_df = region_dfs['South']\n",
    "west_df = region_dfs['West']"
   ]
  },
  {
   "cell_type": "code",
   "execution_count": 477,
   "metadata": {},
   "outputs": [
    {
     "data": {
      "image/png": "[encoded data removed]",
      "text/plain": [
       "<Figure size 1080x720 with 4 Axes>"
      ]
     },
     "metadata": {
      "needs_background": "light"
     },
     "output_type": "display_data"
    }
   ],
   "source": [
    "selected_years = [2014, 2015, 2016, 2017]\n",
    "fig, axes = plt.subplots(2, 2, figsize=(15, 10), sharex=True, sharey=True)\n",
    "fig.suptitle('OB/GYN Rate by State and Region (2014-2017)', y=1.02)\n",
    "\n",
    "for (region_df, region_name), ax in zip(\n",
    "        [(northeast_df, 'Northeast'), (midwest_df, 'Midwest'), (south_df, 'South'), (west_df, 'West')],\n",
    "        axes.flatten()\n",
    "):\n",
    "    for state in region_df['State']:\n",
    "        ax.plot(selected_years, region_df.loc[region_df['State'] == state, selected_years].values.flatten(), label=state, marker='o')\n",
    "\n",
    "    ax.set_title(region_name)\n",
    "    ax.legend(title='State', bbox_to_anchor=(1.05, 1), loc='upper left')\n",
    "    ax.grid(True)\n",
    "    \n",
    "for ax in axes[-1, :]:\n",
    "    plt.setp(ax.xaxis.get_majorticklabels(), rotation=45, ha='right')\n",
    "    \n",
    "plt.tight_layout(rect=[0, 0, 1, 0.97])\n",
    "plt.show()"
   ]
  },
  {
   "cell_type": "markdown",
   "metadata": {},
   "source": [
    "## Combining Datasets"
   ]
  },
  {
   "cell_type": "markdown",
   "metadata": {},
   "source": [
    "First let us see how abortion rate correlates with obgyn rate."
   ]
  },
  {
   "cell_type": "code",
   "execution_count": 478,
   "metadata": {},
   "outputs": [
    {
     "data": {
      "image/png": "[encoded data removed]",
      "text/plain": [
       "<Figure size 1080x360 with 3 Axes>"
      ]
     },
     "metadata": {
      "needs_background": "light"
     },
     "output_type": "display_data"
    }
   ],
   "source": [
    "merged_obgyn_abortion = pd.merge(aisau2, obgyn, left_on='Region and State', right_on='State')\n",
    "\n",
    "obgyn_abortion_2014 = merged_obgyn_abortion.iloc[:, [8, 4, 9]]\n",
    "obgyn_abortion_2014.columns = ['State', 'Abortion Rate', 'OBGYN Rate']\n",
    "\n",
    "obgyn_abortion_2016 = merged_obgyn_abortion.iloc[:, [8, 5, 11]]\n",
    "obgyn_abortion_2016.columns = ['State', 'Abortion Rate', 'OBGYN Rate']\n",
    "\n",
    "obgyn_abortion_2017 = merged_obgyn_abortion.iloc[:, [8, 6, 12]]\n",
    "obgyn_abortion_2017.columns = ['State', 'Abortion Rate', 'OBGYN Rate']\n",
    "\n",
    "\n",
    "fig, axes = plt.subplots(nrows=1, ncols=3, figsize=(15, 5))\n",
    "\n",
    "\n",
    "obgyn_abortion_2014.plot.scatter(x='Abortion Rate', y='OBGYN Rate', ax=axes[0])\n",
    "axes[0].set_title('2014')\n",
    "obgyn_abortion_2016.plot.scatter(x='Abortion Rate', y='OBGYN Rate', ax=axes[1])\n",
    "axes[1].set_title('2016')\n",
    "obgyn_abortion_2017.plot.scatter(x='Abortion Rate', y='OBGYN Rate', ax=axes[2])\n",
    "axes[2].set_title('2017')\n",
    "plt.suptitle('Abortion Rate vs OBGYN Rate by State')\n",
    "plt.show()"
   ]
  },
  {
   "cell_type": "markdown",
   "metadata": {},
   "source": [
    "It looks like there is some kind of a positive correlation between the two, although it is unclear of how strong the correlation is. This could mean that access to OB/GYN care gives women more freedom to choose whether or not to get an abortion."
   ]
  },
  {
   "cell_type": "markdown",
   "metadata": {},
   "source": [
    "Let us do the same for median income and abortion rate."
   ]
  },
  {
   "cell_type": "code",
   "execution_count": 485,
   "metadata": {},
   "outputs": [
    {
     "name": "stderr",
     "output_type": "stream",
     "text": [
      "/opt/anaconda3/lib/python3.7/site-packages/pandas/core/indexing.py:965: SettingWithCopyWarning: \n",
      "A value is trying to be set on a copy of a slice from a DataFrame.\n",
      "Try using .loc[row_indexer,col_indexer] = value instead\n",
      "\n",
      "See the caveats in the documentation: https://pandas.pydata.org/pandas-docs/stable/user_guide/indexing.html#returning-a-view-versus-a-copy\n",
      "  self.obj[item] = s\n"
     ]
    },
    {
     "data": {
      "image/png": "[encoded data removed]",
      "text/plain": [
       "<Figure size 1080x360 with 3 Axes>"
      ]
     },
     "metadata": {
      "needs_background": "light"
     },
     "output_type": "display_data"
    }
   ],
   "source": [
    "#merging the datasets\n",
    "merged_mhis = pd.merge(mhis, mhis2, on='State')\n",
    "merged_mhis = merged_mhis.loc[:, ['State', '2014', '2015_x', '2015_y', '2016', '2017']]\n",
    "\n",
    "merged_mhis_abortion = pd.merge(merged_mhis, aisau2, left_on='State', right_on='Region and State')\n",
    "\n",
    "#creating separate dfs for each year 2014, 2016, 2017\n",
    "mhis_abortion_2014 = merged_mhis_abortion.iloc[:, [0, 10, 1]]\n",
    "mhis_abortion_2014.columns = ['State', 'Abortion Rate', 'Median Income']\n",
    "mhis_abortion_2014.loc[:,'Median Income'] = mhis_abortion_2014.loc[:,'Median Income'].astype(float)\n",
    "\n",
    "mhis_abortion_2016 = merged_mhis_abortion.iloc[:, [0, 11, 4]]\n",
    "mhis_abortion_2016.columns = ['State', 'Abortion Rate', 'Median Income']\n",
    "mhis_abortion_2016.loc[:,'Median Income'] = mhis_abortion_2016.loc[:,'Median Income'].astype(float)\n",
    "\n",
    "mhis_abortion_2017 = merged_mhis_abortion.iloc[:, [0, 12, 5]]\n",
    "mhis_abortion_2017.columns = ['State', 'Abortion Rate', 'Median Income']\n",
    "mhis_abortion_2017.loc[:,'Median Income'] = mhis_abortion_2017.loc[:,'Median Income'].astype(float)\n",
    "\n",
    "\n",
    "#creating the grpah\n",
    "fig, axes = plt.subplots(nrows=1, ncols=3, figsize=(15, 5))\n",
    "\n",
    "mhis_abortion_2014.plot.scatter(x='Abortion Rate', y='Median Income', ax=axes[0])\n",
    "axes[0].set_title('2014')\n",
    "mhis_abortion_2016.plot.scatter(x='Abortion Rate', y='Median Income', ax=axes[1])\n",
    "axes[1].set_title('2016')\n",
    "mhis_abortion_2017.plot.scatter(x='Abortion Rate', y='Median Income', ax=axes[2])\n",
    "axes[2].set_title('2017')\n",
    "plt.suptitle('Abortion Rate vs Median Income by State')\n",
    "plt.subplots_adjust(wspace=0.3, hspace=0.5)  \n",
    "plt.show()"
   ]
  },
  {
   "cell_type": "markdown",
   "metadata": {},
   "source": [
    "It seems that there is a positive correlation between median income of a state and abortion rate in that state."
   ]
  },
  {
   "cell_type": "code",
   "execution_count": 420,
   "metadata": {},
   "outputs": [
    {
     "data": {
      "image/png": "[encoded data removed]",
      "text/plain": [
       "<Figure size 1080x360 with 3 Axes>"
      ]
     },
     "metadata": {
      "needs_background": "light"
     },
     "output_type": "display_data"
    }
   ],
   "source": [
    "merged_gov_abortion = pd.merge(aisau2, merged_gov, left_on='Region and State', right_on='State')\n",
    "\n",
    "gov_abortion_2014 = merged_gov_abortion.iloc[:, [8, 4, 9]]\n",
    "gov_abortion_2014.columns = ['State', 'Abortion Rate', 'Rate of Women In Gov']\n",
    "\n",
    "gov_abortion_2016 = merged_gov_abortion.iloc[:, [8, 5, 11]]\n",
    "gov_abortion_2016.columns = ['State', 'Abortion Rate', 'Rate of Women In Gov']\n",
    "\n",
    "gov_abortion_2017 = merged_gov_abortion.iloc[:, [8, 6, 12]]\n",
    "gov_abortion_2017.columns = ['State', 'Abortion Rate', 'Rate of Women In Gov']\n",
    "\n",
    "\n",
    "fig, axes = plt.subplots(nrows=1, ncols=3, figsize=(15, 5))\n",
    "\n",
    "\n",
    "gov_abortion_2014.plot.scatter(x='Abortion Rate', y='Rate of Women In Gov', ax=axes[0])\n",
    "axes[0].set_title('2014')\n",
    "gov_abortion_2016.plot.scatter(x='Abortion Rate', y='Rate of Women In Gov', ax=axes[1])\n",
    "axes[1].set_title('2016')\n",
    "gov_abortion_2017.plot.scatter(x='Abortion Rate', y='Rate of Women In Gov', ax=axes[2])\n",
    "axes[2].set_title('2017')\n",
    "plt.suptitle('Abortion Rate vs Rate of Women in Government by State')\n",
    "plt.show()"
   ]
  },
  {
   "cell_type": "markdown",
   "metadata": {},
   "source": [
    "Now to put everything together."
   ]
  },
  {
   "cell_type": "code",
   "execution_count": 480,
   "metadata": {},
   "outputs": [
    {
     "data": {
      "text/html": [
       "<div>\n",
       "<style scoped>\n",
       "    .dataframe tbody tr th:only-of-type {\n",
       "        vertical-align: middle;\n",
       "    }\n",
       "\n",
       "    .dataframe tbody tr th {\n",
       "        vertical-align: top;\n",
       "    }\n",
       "\n",
       "    .dataframe thead th {\n",
       "        text-align: right;\n",
       "    }\n",
       "</style>\n",
       "<table border=\"1\" class=\"dataframe\">\n",
       "  <thead>\n",
       "    <tr style=\"text-align: right;\">\n",
       "      <th></th>\n",
       "      <th>State</th>\n",
       "      <th>Abortion Rate</th>\n",
       "      <th>Rate of Women In Gov</th>\n",
       "      <th>OBGYN Rate</th>\n",
       "      <th>Median Income</th>\n",
       "    </tr>\n",
       "  </thead>\n",
       "  <tbody>\n",
       "    <tr>\n",
       "      <th>0</th>\n",
       "      <td>Connecticut</td>\n",
       "      <td>18.1</td>\n",
       "      <td>0.272727</td>\n",
       "      <td>19.376745</td>\n",
       "      <td>82900.0</td>\n",
       "    </tr>\n",
       "    <tr>\n",
       "      <th>1</th>\n",
       "      <td>Maine</td>\n",
       "      <td>8.9</td>\n",
       "      <td>0.344086</td>\n",
       "      <td>10.965250</td>\n",
       "      <td>59900.0</td>\n",
       "    </tr>\n",
       "    <tr>\n",
       "      <th>2</th>\n",
       "      <td>Massachusetts</td>\n",
       "      <td>14.0</td>\n",
       "      <td>0.260000</td>\n",
       "      <td>15.047464</td>\n",
       "      <td>85000.0</td>\n",
       "    </tr>\n",
       "    <tr>\n",
       "      <th>3</th>\n",
       "      <td>New Hampshire</td>\n",
       "      <td>9.6</td>\n",
       "      <td>0.287736</td>\n",
       "      <td>13.560135</td>\n",
       "      <td>80100.0</td>\n",
       "    </tr>\n",
       "    <tr>\n",
       "      <th>4</th>\n",
       "      <td>New Jersey</td>\n",
       "      <td>28.2</td>\n",
       "      <td>0.216667</td>\n",
       "      <td>14.489401</td>\n",
       "      <td>85900.0</td>\n",
       "    </tr>\n",
       "  </tbody>\n",
       "</table>\n",
       "</div>"
      ],
      "text/plain": [
       "           State  Abortion Rate  Rate of Women In Gov  OBGYN Rate  \\\n",
       "0    Connecticut           18.1              0.272727   19.376745   \n",
       "1          Maine            8.9              0.344086   10.965250   \n",
       "2  Massachusetts           14.0              0.260000   15.047464   \n",
       "3  New Hampshire            9.6              0.287736   13.560135   \n",
       "4     New Jersey           28.2              0.216667   14.489401   \n",
       "\n",
       "   Median Income  \n",
       "0        82900.0  \n",
       "1        59900.0  \n",
       "2        85000.0  \n",
       "3        80100.0  \n",
       "4        85900.0  "
      ]
     },
     "execution_count": 480,
     "metadata": {},
     "output_type": "execute_result"
    }
   ],
   "source": [
    "merge_2014 = pd.merge(gov_abortion_2014, obgyn_abortion_2014, on=['State', 'Abortion Rate'])\n",
    "merge_2014 = pd.merge(merge_2014, mhis_abortion_2014, on=['State', 'Abortion Rate'])\n",
    "\n",
    "merge_2016 = pd.merge(gov_abortion_2016, obgyn_abortion_2016, on=['State', 'Abortion Rate'])\n",
    "merge_2016 = pd.merge(merge_2016, mhis_abortion_2016, on=['State', 'Abortion Rate'])\n",
    "\n",
    "merge_2017 = pd.merge(gov_abortion_2017, obgyn_abortion_2017, on=['State', 'Abortion Rate'])\n",
    "merge_2017 = pd.merge(merge_2017, mhis_abortion_2017, on=['State', 'Abortion Rate'])"
   ]
  },
  {
   "cell_type": "code",
   "execution_count": 493,
   "metadata": {},
   "outputs": [
    {
     "data": {
      "image/png": "[encoded data removed]",
      "text/plain": [
       "<Figure size 1080x360 with 6 Axes>"
      ]
     },
     "metadata": {
      "needs_background": "light"
     },
     "output_type": "display_data"
    }
   ],
   "source": [
    "corr_mat_2014 = merge_2014.corr()\n",
    "corr_mat_2016 = merge_2016.corr()\n",
    "corr_mat_2017 = merge_2017.corr()\n",
    "\n",
    "fig, axes = plt.subplots(nrows=1, ncols=3, figsize=(15, 5))\n",
    "\n",
    "# Plot the first correlation matrix\n",
    "sns.heatmap(corr_mat_2014, annot=True, cmap=\"coolwarm\", fmt=\".2f\", ax=axes[0])\n",
    "axes[0].set_title('2014')\n",
    "\n",
    "sns.heatmap(corr_mat_2016, annot=True, cmap=\"coolwarm\", fmt=\".2f\", ax=axes[1])\n",
    "axes[1].set_title('2016')\n",
    "axes[1].set_yticks([])\n",
    "\n",
    "sns.heatmap(corr_mat_2017, annot=True, cmap=\"coolwarm\", fmt=\".2f\", ax=axes[2])\n",
    "axes[2].set_title('2017')\n",
    "axes[2].set_yticks([])\n",
    "\n",
    "plt.tight_layout()\n",
    "plt.show()"
   ]
  },
  {
   "cell_type": "markdown",
   "metadata": {},
   "source": [
    "# Ethics & Privacy"
   ]
  },
  {
   "cell_type": "markdown",
   "metadata": {},
   "source": [
    "In all of the datasets we have utilized, we have accessed these specific ones from public institutions or have already been labeled public-use datasets. Therefore, the subjects used in the research have already consented and answered all, if any, anonymity agreements or anything else necessary to protect their privacy. For the intent of use in this project, there are no additional steps for us to take to further participants’ privacies.\n",
    "Beyond privacy concerns, we must consider the reliability of our data. If we are considering abortion rates, we must consider the possibility of underreporting and illegal abortions. Additionally it is possible that political agendas or compromises in data collecting infrastructure causing unreliable data. We will do the best we can to find the most complete and reliable data, while still considering the possibilities of bias or possible underreporting. "
   ]
  },
  {
   "cell_type": "markdown",
   "metadata": {},
   "source": [
    "# Team Expectations "
   ]
  },
  {
   "cell_type": "markdown",
   "metadata": {},
   "source": [
    "\n",
    "Read over the [COGS108 Team Policies](https://github.com/COGS108/Projects/blob/master/COGS108_TeamPolicies.md) individually. Then, include your group’s expectations of one another for successful completion of your COGS108 project below. Discuss and agree on what all of your expectations are. Discuss how your team will communicate throughout the quarter and consider how you will communicate respectfully should conflicts arise. By including each member’s name above and by adding their name to the submission, you are indicating that you have read the COGS108 Team Policies, accept your team’s expectations below, and have every intention to fulfill them. These expectations are for your team’s use and benefit — they won’t be graded for their details.\n",
    "\n",
    "- We expect to meet at least once a week in person and another time again online, especially if there is a checkpoint in the next few days.\n",
    "- In the case that our meetings are cut short, we expect to delegate work amongst each other respective to our availability and team contributions.\n",
    "- We will do our best to stay on track, however we expect each other to be understanding of personal schedules and will do our best to accommodate one another."
   ]
  },
  {
   "cell_type": "markdown",
   "metadata": {},
   "source": [
    "# Project Timeline Proposal"
   ]
  },
  {
   "cell_type": "markdown",
   "metadata": {},
   "source": [
    "Subject to change\n",
    "\n",
    "| Meeting Date  | Meeting Time| Completed Before Meeting  | Discuss at Meeting |\n",
    "|---|---|---|---|\n",
    "| 2/3  |  4:30 PM | NA | Discuss possible topics, Work on Group Project Review | \n",
    "| 2/5  |  2:30 PM |  Brainstorm for possible topics | Discuss possible topics, determine what kind of datasets we should look for| \n",
    "| 2/8  | 3:30 PM  | Search for datasets, think about ways in which our research question could be elaborated | Discuss research question, look for datasets, delegate sections for project proposal  |\n",
    "| 2/13  | 2 PM  | Submit Proposal, do more research on datasets | choose a few datasets, discuss how we will clean the data, delegate roles/work |\n",
    "| 2/15  | 3:30 PM  | Wrangle Data | Check in to discuss and clarify our edits/ questions |\n",
    "| 2/19  | 2 PM  | Continue to edit and wrangle data | Check-in to discuss and clarify our edits/ questions |\n",
    "| 2/22  | 3:30 PM  | Review requirements for Checkpoint #1| Finish SetUp and Data Cleaning parts of the Checkpoint, delegate tasks |\n",
    "| 2/26  | 2 PM  | Submit Checkpoint on the 25th | Meet to discuss next steps, delegate Tasks |\n",
    "| 3/4  | 2 PM  | Data Analysis | Meet to Analyze the Data, delegate tasks for the Checkpoint |\n",
    "| 3/7  | 3:30 PM  | Review and work on requirements for Checkpoint #2 |Check-in to discuss Data Analysis portion |\n",
    "| 3/14  | 2 PM  | Submit Checkpoint #2 on the 10th, start working on the final report| Meet to discuss Final Report and film Video |\n",
    "| 3/20 | Before 11:59 PM  | Continue to touch-up Final Report and Submit| Turn in Final Project & Group Project Survey |"
   ]
  },
  {
   "cell_type": "code",
   "execution_count": null,
   "metadata": {},
   "outputs": [],
   "source": []
  }
 ],
 "metadata": {
  "kernelspec": {
   "display_name": "Python 3",
   "language": "python",
   "name": "python3"
  },
  "language_info": {
   "codemirror_mode": {
    "name": "ipython",
    "version": 3
   },
   "file_extension": ".py",
   "mimetype": "text/x-python",
   "name": "python",
   "nbconvert_exporter": "python",
   "pygments_lexer": "ipython3",
   "version": "3.7.6"
  }
 },
 "nbformat": 4,
 "nbformat_minor": 4
}
