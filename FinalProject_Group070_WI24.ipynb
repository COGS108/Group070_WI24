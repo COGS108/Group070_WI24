{
 "cells": [
  {
   "cell_type": "markdown",
   "metadata": {},
   "source": [
    "# COGS 108 - Final Project (change this to your project's title)\n",
    "\n",
    "# Permissions\n",
    "\n",
    "Place an `X` in the appropriate bracket below to specify if you would like your group's project to be made available to the public. (Note that student names will be included (but PIDs will be scraped from any groups who include their PIDs).\n",
    "\n",
    "* [  ] YES - make available\n",
    "* [  ] NO - keep private\n",
    "\n",
    "# Names\n",
    "\n",
    "- Deena Pederson\n",
    "- Vedika Harnathka\n",
    "- Paola Sanchez\n",
    "- Anne Pham\n",
    "- Zoe Ludena\n",
    "\n",
    "# Abstract\n",
    "\n",
    "Please write one to four paragraphs that describe a very brief overview of why you did this, how you did, and the major findings and conclusions."
   ]
  },
  {
   "cell_type": "markdown",
   "metadata": {},
   "source": [
    "# Research Question"
   ]
  },
  {
   "cell_type": "markdown",
   "metadata": {},
   "source": [
    "How have abortion rates changed in response to changes in various factors - such as the representation of female politicians, access to obstetric and gynecological (OB/GYN) care, and income levels - in the USA from 2014-2017? How will these factors help us predict future abortion rates in the foreseeable future?"
   ]
  },
  {
   "cell_type": "markdown",
   "metadata": {},
   "source": [
    "## Background and Prior Work"
   ]
  },
  {
   "cell_type": "markdown",
   "metadata": {},
   "source": [
    "\n",
    "To be more specific in our research, the definition in which we are abiding by the term “women in governing bodies” are women who are in the respective current state legislature. Throughout our data we will look at all U.S. territories excluding Guam, U.S. Virgin Islands, and the District of Columbia. However, we will be using 3 states as markers and general comparisons to the data: 1) having the highest percentage of women in their state legislature, 2) having the lowest percentage of women in their state legislature, and 3) having the median percentage of women in their state legislature. While proceeding with our research, if we have the time and data to do so, we would love to delve deeper into any possible outliers within the states.\n",
    "\n",
    "One of the first considerations to be made is which states have higher female representation and which have less. We can note that in all 50 states males are over represented while females are underrepresented.[^1] This data splits the measures into two separate categories; state legislatures. Overall Vermont, Maine, and Rhode Island notably have the smallest disparities, while North Dakota, South Dakota, and Nebraska have the highest.\n",
    "\n",
    "A study done by the National Partnership for Women & Families[^2] states with a higher representation of female legislators are more likely to adopt abortion protection policies. This study considers 2 categories of representation in legislation: states where women make up more than a third of the members, and states where women make up less than a third of members. They found that of the prior, 84% of these states have policies that support abortion access while the former only has 15%. They also consider how the ethnic diversity in these women may also correlate.\n",
    "\n",
    "Subsequently, female health is a very general statement, therefore we decided to focus on OB/GYN access. We believe that this may yield some type of correlation between abortion rates. We believe that there will be some type of existing correlation between this accessibility and abortion rates. Additionally, another factor that we must consider are average income rates. In the article, *Rural-urban differences in access to hospital obstetric and neonatal care: how far is the closest one?*, their general conclusion is that: “Women in communities that are already socioeconomically disadvantaged face increasing and substantial travel distances to access perinatal care.[^3] (Hung et al.)\n",
    "\n",
    "[^1]: Wolf, C. (2022, August 25). [Best States for Gender Equality: Representation and Power](https://www.usnews.com/news/best-states/articles/best-states-for-gender-equality-representation-power#:~:text=Vermont%2C%20Maine%20and%20Maryland%20have,women%20compared%20to%2038.1%25%20men)\n",
    "\n",
    "[^2]: Lack of Representation by Women in State Legislatures Threatens Abortion Access. (n.d.). National Partnership for Women & Families. Retrieved February 12, 2024, from [source](https://nationalpartnership.org/news_post/lack-of-representation-women-state-legislatures-threatens-abortion-access/#:~:text=Of%20the%2024%20states%20and)\n",
    "\n",
    "[^3]: Hung, P., Casey, M. M., Kozhimannil, K. B., Karaca-Mandic, P., & Moscovice, I. S. (2018). [Rural-urban differences in access to hospital obstetric and neonatal care: how far is the closest one?](https://doi.org/10.1038/s41372-018-0063-5)"
   ]
  },
  {
   "cell_type": "markdown",
   "metadata": {},
   "source": [
    "# Hypothesis\n"
   ]
  },
  {
   "cell_type": "markdown",
   "metadata": {},
   "source": [
    "Proportionately higher representation of females in state government, lower income level, and higher concentration of OBGYN  correlates to states with higher rates of abortion.\n",
    "We think that with higher representation and advocacy from women in governmental positions of power, this will be reflected through policies allowing for increased access to abortion. \n",
    "Additionally, areas with lower income may have financial burdens not suitable for raising a child, as well as limited access to affordable healthcare and contraceptives. Finally, a higher concentration of OBGYN will correlate to higher access to abortion services and healthcare professionals. "
   ]
  },
  {
   "cell_type": "markdown",
   "metadata": {},
   "source": [
    "# Data"
   ]
  },
  {
   "cell_type": "markdown",
   "metadata": {},
   "source": [
    "**Dataset #1: Abortion Incidence**\n",
    "\n",
    "\n",
    "Link: https://www.guttmacher.org/report/abortion-incidence-service-availability-us-2017 \n",
    "\n",
    "\n",
    "Table 1 contains the number of reported abortions, abortion rate, and abortion ratio in the United States from the years 2000-2017. To clean this table we removed the brackets and commas so that the No. of abortions (in 000’s), Rate, and Ratio could be converted to floats. \n",
    "- `aisau1` Number of Observations: 18\n",
    "- `aisau1` Number of Variables: 4\n",
    "\n",
    "Table 2 contains the number of reported abortions and abortion rate in 2014, 2016, and 2017 by region and state. There is also a percentage change from 2014 to 2017. The only cleaning required for this dataset was removing the commas in the data. \n",
    "- `aisau2` Number of Observations: 56\n",
    "- `aisau2` Number of Variables: 8\n",
    "\n",
    "Table 3 provides information about the number and percentage of abortion providers by type and caseload for the years 2014 and 2017. We cleaned this data by removing the commas from the 'Facilities No. 2014', 'Facilities No. 2017', 'Abortions No. 2014',  and 'Abortions No. 2017' columns.\n",
    "- `aisau3` Number of Observations: 10\n",
    "- `aisau3` Number of Variables: 9\n",
    "\n",
    "Table 4 holds the total number of abortion clinics, the percentage of counties without a clinic, and percentage of women living in these counties, by state and region in the years 2014 and 2017. This dataset did not require any further cleaning since all the values were integers.\n",
    "- `aisau4` Number of Observations: 56\n",
    "- `aisau4` Number of Variables: 6\n",
    "\n",
    "Table 5 provides information about the number of abortion clinics in 2014 and 2017 and the percentage change between these years. Additionally, it contains the abortion rate in 2014 and 2017 and the change between these years. It is focused on the states with the proportionately largest decrease in number of clinics and increase in number of clinics. 'Abortion rate 2014', 'Abortion rate 2017' were cleaned by removing commas. \n",
    "- `aisau5` Number of Observations: 21\n",
    "- `aisau5` Number of Variables: 9\n",
    "\n",
    "Table 6 contains the number of medication abortions, among facilities offering only early medication abortions. We removed the commas and switched the objects to floats.  \n",
    "- `aisau6` Number of Observations: 8\n",
    "- `aisau6` Number of Variables: 4\n",
    "\n",
    "Some of the notable variables in this dataset include the abortion rate by state and region, as well as the number of abortion providers by time and region."
   ]
  },
  {
   "cell_type": "markdown",
   "metadata": {},
   "source": [
    "**Dataset #2: Median Household Income by State**\n",
    "- Link: https://nces.ed.gov/programs/digest/d16/tables/dt16_102.30.asp\n",
    "- Number of Observations: 52\n",
    "- `mhis` (1990-2015) Number of Variables: 17\n",
    "- `mhis2`  (2015-2021) Number of Variables: 19\n",
    "\n",
    "This dataset contains information about the median household income in the United States as a whole, as well as broken down by individual states. It contains data for the years 1990- 2015, and 2015-2021 (excluding 2020) with the median for each year as well as the standard error for each year. To clean this dataset, we needed to remove the dollar signs (present in doubles $$) as well as the parentheses to convert appropriate variables to floats. Some of the key information we will utilize from this dataset is from the years 2014-2017 since that is when our first dataset is focused on."
   ]
  },
  {
   "cell_type": "markdown",
   "metadata": {},
   "source": [
    "**Dataset #3: History of Women in the US Congress**\n",
    "\n",
    "- Link: https://cawp.rutgers.edu/facts/levels-office/congress/history-women-us-congress\n",
    "- `congress` Number of Observations: 54\n",
    "- `congress` Number of Variables: 6\n",
    "\n",
    "This dataset provides information on the number of women in the senate, women in the house, and total women in congress over 2 year terms. The information provided was an object with the number of women in each of these categories and then in parentheses specified if these were made up of democrats or republicans. We cleaned this data by splitting each of these 3 data points into 3 more subcategories to identify the number of democrat, republican, and total women in the Senate, House, and Congress."
   ]
  },
  {
   "cell_type": "markdown",
   "metadata": {},
   "source": [
    "**Dataset #4: OB/GYN Rate Per State, 2019-2021**\n",
    "\n",
    "- Link: https://data.hrsa.gov/topics/health-workforce/ahrf\n",
    "- `obgyn1` Number of Observations: 60\n",
    "- `obgyn1` Number of Variables: 5\n",
    "- `obgyn2` Number of Observations: 60\n",
    "- `obgyn2` Number of Variables: 5\n",
    "- `obgyn3` Number of Observations: 60\n",
    "- `obgyn3` Number of Variables: 5\n",
    "\n",
    "This dataset provides information on the rate of OB/GYNs per state from 2019 to 2021. This rate is per 100,000 population, from the HRSA (Health Resources and Services Organization). The data from each year was downloaded as a separate csv file, cleaned to include only the state name and the rate for that year, and then merged into one dataset with all three years.\n",
    "\n",
    "*Note*: The years are not consistent with the rest of the data currently, but we have requested the source for data for years 2014-2017. The data will look very similar so the cleaning/merging should look exactly the same as it does right now."
   ]
  },
  {
   "cell_type": "markdown",
   "metadata": {},
   "source": [
    "# WHAT DATA ARE WE ACTUALLY USING? LET'S ONLY EXPLAIN THOSE ^^^\n",
    "\n",
    "And only include the code for those below (we will be doing some deleting)"
   ]
  },
  {
   "cell_type": "code",
   "execution_count": 1,
   "metadata": {},
   "outputs": [],
   "source": [
    "import pandas as pd\n",
    "import numpy as np\n",
    "import os\n",
    "\n",
    "# Get the current working directory (allows for everyone to pull it without formatting issues)\n",
    "current_dir = os.getcwd()\n",
    "data_folder = os.path.join(current_dir, 'data')\n",
    "\n",
    "# The different CSV files we will be using file paths\n",
    "aisau1 = \"abortion-incidence-service-availability-us-2017-table_1.csv\"\n",
    "aisau2 = \"abortion-incidence-service-availability-us-2017-table_2.csv\"\n",
    "aisau3 = \"abortion-incidence-service-availability-us-2017-table_3.csv\"\n",
    "aisau4 = \"abortion-incidence-service-availability-us-2017-table_4.csv\"\n",
    "aisau5 = \"abortion-incidence-service-availability-us-2017-table_5.csv\"\n",
    "aisau6 = \"abortion-incidence-service-availability-us-2017-table_6.csv\"\n",
    "mhis = \"median-household-income-by-state.csv\"\n",
    "mhis2 = \"tabn102.30.csv\"\n",
    "congress = \"paragraph_1009_field_table_und_0.csv\"\n",
    "obgynreal = \"obgynratesAHRF.csv\"\n",
    "\n",
    "\n",
    "# Using os to make the file path\n",
    "\n",
    "#These are from the Abortion Rates link\n",
    "aisau1_fp = os.path.join(data_folder, aisau1)\n",
    "aisau2_fp = os.path.join(data_folder, aisau2)\n",
    "aisau3_fp = os.path.join(data_folder, aisau3)\n",
    "aisau4_fp = os.path.join(data_folder, aisau4)\n",
    "aisau5_fp = os.path.join(data_folder, aisau5)\n",
    "aisau6_fp = os.path.join(data_folder, aisau6)\n",
    "\n",
    "#This is from the Median Household Income by State link\n",
    "mhis_fp = os.path.join(data_folder, mhis)\n",
    "mhis_fp2 = os.path.join(data_folder, mhis2)\n",
    "\n",
    "#This is from https://cawp.rutgers.edu/facts/levels-office/congress/history-women-us-congress\n",
    "congress_fp = os.path.join(data_folder, congress)\n",
    "\n",
    "#We still need more congress data and the OBGYN data\n",
    "obgyn_fp = os.path.join(data_folder, obgynreal)\n",
    "\n",
    "# Making DataFrames\n",
    "aisau1 = pd.read_csv(aisau1_fp, sep = \"|\")\n",
    "aisau2 = pd.read_csv(aisau2_fp, sep = \"|\")\n",
    "aisau3 = pd.read_csv(aisau3_fp, sep = \"|\")\n",
    "aisau4 = pd.read_csv(aisau4_fp, sep = \"|\")\n",
    "aisau5 = pd.read_csv(aisau5_fp, sep = \"|\")\n",
    "aisau6 = pd.read_csv(aisau6_fp, sep = \"|\")\n",
    "mhis = pd.read_csv(mhis_fp, sep = \"|\")\n",
    "mhis2 = pd.read_csv(mhis_fp2, sep = \"|\")\n",
    "congress = pd.read_csv(congress_fp)\n",
    "obgynreal = pd.read_csv(obgyn_fp)"
   ]
  },
  {
   "cell_type": "code",
   "execution_count": 2,
   "metadata": {},
   "outputs": [],
   "source": [
    "def remove_commas(df, columns): \n",
    "    #removes commas from specified columns in a df & converts them to float\n",
    "    for column in columns: \n",
    "        df[column] = df[column].replace(',', '', regex = True).astype(float)\n",
    "        \n",
    "#use as such: remove_commas(df, ['column1', 'column2'])\n",
    "\n",
    "def remove_dollar_sign(df, columns): \n",
    "    #removes dollar signs ('$') from specified columns in a df \n",
    "    for column in columns: \n",
    "        df[column] = df[column].replace('[\\$,]', '', regex = True)\n",
    "\n",
    "#use as such: remove_dollar_sign(df, ['column1', 'column2'])\n",
    "\n",
    "def remove_parentheses(df, columns): \n",
    "    #removes parantheses from specified columns in a df\n",
    "    for column in columns: \n",
    "        df[column] = df[column].replace('[\\(\\)]', '', regex=True)\n",
    "        \n",
    "#use as such: remove_parentheses(df, ['column1', 'column2'])\n",
    "\n",
    "def remove_brackets(df, columns): \n",
    "    #removes brackets from specified columns in df \n",
    "    for column in columns: \n",
    "        df[column] = df[column].replace('[\\[\\]]', '', regex = True)\n",
    "        \n",
    "#use as such: remove_brackets(df, ['column1', 'column2'])"
   ]
  },
  {
   "cell_type": "markdown",
   "metadata": {},
   "source": [
    "## Dataset #1 Abortion Incidence"
   ]
  },
  {
   "cell_type": "markdown",
   "metadata": {},
   "source": [
    "### Cleaning Dataset\n",
    "\n",
    "Using the functions made above to turn all numbers in the dataset into floats for easier use and splitting up tables that originally had multi-indices for easy legibility."
   ]
  },
  {
   "cell_type": "code",
   "execution_count": 3,
   "metadata": {},
   "outputs": [],
   "source": [
    "# Table 1\n",
    "remove_brackets(aisau1, ['No. (in 000s)', 'Rate', 'Ratio'])\n",
    "remove_commas(aisau1, ['No. (in 000s)', 'Rate', 'Ratio'])\n",
    "\n",
    "#Table 2\n",
    "remove_commas(aisau2, [\"No. 2014\", \"No. 2016\", \"No. 2017\"])\n",
    "\n",
    "#Table 3\n",
    "remove_commas(aisau3, ['Facilities No. 2014', 'Facilities No. 2017', \n",
    "                       'Abortions No. 2014', 'Abortions No. 2017'])\n",
    "\n",
    "#Table 4 did not require cleaning\n",
    "\n",
    "#Table 5\n",
    "remove_commas(aisau5, ['Abortion rate 2014', 'Abortion rate 2017'])\n",
    "\n",
    "remove_commas(aisau6, ['No. of medication abortions'])\n",
    "\n",
    "#Table 6\n",
    "remove_commas(aisau6, ['No. of medication abortions'])\n",
    "\n",
    "# resetting the index\n",
    "clear_index = aisau6.reset_index()\n",
    "\n",
    "# Change it so that the column types make more sense -> the strings go to facility type\n",
    "facility_type = clear_index[clear_index[\"index\"] == 'Facility type'].drop(columns = ['index'], axis = 1)\n",
    "facility_type.rename(columns={\"Unnamed\": \"Facility Type\"}).reset_index(drop = True)\n",
    "\n",
    "# The range of numbers go to facility_caseload\n",
    "facility_caseload = clear_index[clear_index[\"index\"] == 'Facility caseload'].drop(columns = ['index'], axis = 1)\n",
    "facility_caseload = facility_caseload.rename(columns={\"Unnamed\": \"Facility Caseload\"}).reset_index(drop = True)\n",
    "\n",
    "#Turning the range of numbers in facility caseload to separate columns start and end\n",
    "facility_caseload['Facility Caseload Min'] = facility_caseload['Facility Caseload'].apply(lambda string: \n",
    "                                                                                          int(string.split(\"-\")[0].replace(\",\", \"\").replace(\">=\", \"\")))\n",
    "\n",
    "facility_caseload['Facility Caseload Max'] = facility_caseload['Facility Caseload'].apply(lambda string:\n",
    "                                            int(string.split(\"-\")[-1].replace(\",\", \"\").replace(\">=\", \"\")) if string and string != \">=1,000\" else np.inf)\n",
    "facility_caseload = facility_caseload.drop(columns = [\"Facility Caseload\"])"
   ]
  },
  {
   "cell_type": "markdown",
   "metadata": {},
   "source": [
    "## Dataset #2 Median household income, by state: Selected years, 1990 through 2015"
   ]
  },
  {
   "cell_type": "markdown",
   "metadata": {},
   "source": [
    "### Cleaning Dataset\n",
    "\n",
    "Using the functions made above to turn all numbers in the dataset into floats for easier use. "
   ]
  },
  {
   "cell_type": "code",
   "execution_count": 4,
   "metadata": {},
   "outputs": [],
   "source": [
    "# Table 1\n",
    "remove_dollar_sign(mhis, ['1990', '2000', '2005', '2005 (SE)', '2010', \n",
    "                         '2010 (SE)', '2011', '2011 (SE)', '2012', '2012 (SE)', \n",
    "                         '2013', '2013 (SE)', '2014', '2014 (SE)', '2015', '2015 (SE)'])\n",
    "\n",
    "remove_parentheses(mhis, ['2005 (SE)', '2010 (SE)', '2011 (SE)', '2012 (SE)', \n",
    "                          '2013 (SE)', '2014 (SE)', '2015 (SE)'])\n",
    "\n",
    "mhis = mhis.astype(float, errors = 'ignore')\n",
    "\n",
    "#Table 2\n",
    "remove_dollar_sign(mhis2, ['1990', '2000', '2005', '2005 (SE)', '2010', '2010 (SE)', \n",
    "                          '2015', '2015 (SE)', '2016', '2016 (SE)', '2017', '2017 (SE)', \n",
    "                          '2018', '2018 (SE)', '2019', '2019 (SE)', '2021', '2021 (SE)'])\n",
    "\n",
    "remove_parentheses(mhis2, ['2005 (SE)', '2010 (SE)', '2015 (SE)','2016 (SE)','2017 (SE)', \n",
    "                          '2018 (SE)','2019 (SE)','2021 (SE)'])\n",
    "\n",
    "mhis2 = mhis2.astype(float, errors = 'ignore')"
   ]
  },
  {
   "cell_type": "markdown",
   "metadata": {},
   "source": [
    "## Dataset #3 Goverment (Vedika)"
   ]
  },
  {
   "cell_type": "code",
   "execution_count": 5,
   "metadata": {},
   "outputs": [
    {
     "name": "stderr",
     "output_type": "stream",
     "text": [
      "C:\\Users\\zoelu\\AppData\\Local\\Temp\\ipykernel_31688\\933531598.py:70: FutureWarning: DataFrame.fillna with 'method' is deprecated and will raise in a future version. Use obj.ffill() or obj.bfill() instead.\n",
      "  merged_gov_women.iloc[:, 1:] = merged_gov_women.iloc[:, 1:].fillna(method='ffill', axis=1)\n"
     ]
    }
   ],
   "source": [
    "#Web Scraping using beautiful soup to get the data for number of women per state\n",
    "import requests\n",
    "from bs4 import BeautifulSoup\n",
    "\n",
    "URL = \"https://cawp.rutgers.edu/election-watch/women-state-legislative-elections-historical-state-state-summary\"\n",
    "page = requests.get(URL)\n",
    "soup = BeautifulSoup(page.content, \"html.parser\")\n",
    "tables = soup.find_all('table', class_='tablefield')\n",
    "data_list = []\n",
    "\n",
    "for table in tables:\n",
    "    # Extract the caption (e.g., 'Alaska') for each table\n",
    "    table_caption = table.caption.text.strip()\n",
    "    # Extract rows\n",
    "    rows = table.tbody.find_all('tr')\n",
    "\n",
    "    for row in rows:\n",
    "        # Extract data from each cell in the row\n",
    "        cells = row.find_all('td')\n",
    "        row_data = [cell.text.strip() for cell in cells]\n",
    "\n",
    "        data_list.append([table_caption] + row_data)\n",
    "\n",
    "# Create a df\n",
    "columns = ['Table', 'Year', 'Nominees', 'Winners']\n",
    "gov_women = pd.DataFrame(data_list, columns=columns)\n",
    "\n",
    "#Web scraping to get total number of seats per state\n",
    "URL = \"https://www.ncsl.org/resources/details/number-of-legislators-and-length-of-terms-in-years\"\n",
    "page = requests.get(URL)\n",
    "soup = BeautifulSoup(page.content, \"html.parser\")\n",
    "\n",
    "table = soup.find('table', {'summary': 'Number of Legislators and Term length'})\n",
    "data = []\n",
    "for row in table.tbody.find_all('tr')[1:-1]:\n",
    "    cells = row.find_all('td')\n",
    "    row_data = [cell.text.strip() for cell in cells]\n",
    "    data.append(row_data)\n",
    "columns = ['State', 'Senate Number', 'Senate Term', 'House Number', 'House Term', 'Total Number']\n",
    "state_seats = pd.DataFrame(data, columns=columns)\n",
    "\n",
    "#Dropping unecessary columns, removing the democrat and republican numbers from the winners column\n",
    "state_seats = state_seats.drop(['Senate Number', 'Senate Term', 'House Number', 'House Term'], axis=1)\n",
    "gov_women = gov_women.drop(\"Nominees\", axis=1)\n",
    "gov_women[\"Total Women\"] = gov_women[\"Winners\"].apply(lambda string: int(string.split(\" \")[0]) if string.split(\" \")[0].isdigit() else None)\n",
    "gov_women = gov_women.drop(\"Winners\", axis=1)\n",
    "\n",
    "#Separating the df into separate dfs per year and then merging them\n",
    "gov_2012 = gov_women[gov_women['Year'] == '2012']\n",
    "gov_2013 = gov_women[gov_women['Year'] == '2013']\n",
    "gov_2014 = gov_women[gov_women['Year'] == '2014']\n",
    "gov_2015 = gov_women[gov_women['Year'] == '2015']\n",
    "gov_2016 = gov_women[gov_women['Year'] == '2016']\n",
    "gov_2017 = gov_women[gov_women['Year'] == '2017']\n",
    "\n",
    "merge2013 = pd.merge(gov_2012, gov_2013, on='Table', how='outer', suffixes=('_2012', '_2013'))\n",
    "merge2014 = pd.merge(merge2013, gov_2014, on='Table', how='outer', suffixes=('_2013', '_2014'))\n",
    "merge2015 = pd.merge(merge2014, gov_2015, on='Table', how='outer', suffixes=('_2014', '_2015'))\n",
    "merge2016 = pd.merge(merge2015, gov_2016, on='Table', how='outer', suffixes=('_2015', '_2016'))\n",
    "merged_gov_women = pd.merge(merge2016, gov_2017, on='Table', how='outer', suffixes=('_2016', '_2017'))\n",
    "\n",
    "merged_gov_women = merged_gov_women.drop(merged_gov_women.columns[[1, 3, 5, 7, 9, 11]], axis=1)\n",
    "merged_gov_women.columns = ['State', '2012', '2013', '2014', '2015', '2016', '2017']\n",
    "\n",
    "# Replace two errors due to web scraping\n",
    "merged_gov_women.at[1, '2014'] = 20\n",
    "merged_gov_women.at[2, '2016'] = 35\n",
    "\n",
    "# Filling NaN values with numbers from the previous year as elections are not held every year\n",
    "merged_gov_women.iloc[:, 1:] = merged_gov_women.iloc[:, 1:].fillna(method='ffill', axis=1)\n",
    "\n",
    "# Drop columns by checking their existence in the columns attribute\n",
    "columns_to_drop = ['2012', '2013']\n",
    "columns_to_drop = [col for col in columns_to_drop if col in merged_gov_women.columns]\n",
    "merged_gov_women = merged_gov_women.drop(columns=columns_to_drop, axis=1)\n",
    "\n",
    "# Merging with state seats and finding the rate by dividing the number of women by total seats\n",
    "merged_gov = pd.merge(merged_gov_women, state_seats, on='State')\n",
    "merged_gov['Total Number'] = merged_gov['Total Number'].astype(float)\n",
    "merged_gov['2014'] = merged_gov['2014'] / merged_gov['Total Number']\n",
    "merged_gov['2015'] = merged_gov['2015'] / merged_gov['Total Number']\n",
    "merged_gov['2016'] = merged_gov['2016'] / merged_gov['Total Number']\n",
    "merged_gov['2017'] = merged_gov['2017'] / merged_gov['Total Number']\n",
    "\n",
    "# Drop unnecessary column\n",
    "merged_gov = merged_gov.drop('Total Number', axis=1)"
   ]
  },
  {
   "cell_type": "markdown",
   "metadata": {},
   "source": [
    "## Dataset #4 OB/GYN Rate Per State, 2019-2021"
   ]
  },
  {
   "cell_type": "code",
   "execution_count": 6,
   "metadata": {},
   "outputs": [
    {
     "data": {
      "text/html": [
       "<div>\n",
       "<style scoped>\n",
       "    .dataframe tbody tr th:only-of-type {\n",
       "        vertical-align: middle;\n",
       "    }\n",
       "\n",
       "    .dataframe tbody tr th {\n",
       "        vertical-align: top;\n",
       "    }\n",
       "\n",
       "    .dataframe thead th {\n",
       "        text-align: right;\n",
       "    }\n",
       "</style>\n",
       "<table border=\"1\" class=\"dataframe\">\n",
       "  <thead>\n",
       "    <tr style=\"text-align: right;\">\n",
       "      <th></th>\n",
       "      <th>State</th>\n",
       "      <th>2014</th>\n",
       "      <th>2015</th>\n",
       "      <th>2016</th>\n",
       "      <th>2017</th>\n",
       "    </tr>\n",
       "  </thead>\n",
       "  <tbody>\n",
       "    <tr>\n",
       "      <th>0</th>\n",
       "      <td>Alabama</td>\n",
       "      <td>10.723027</td>\n",
       "      <td>10.742998</td>\n",
       "      <td>10.630642</td>\n",
       "      <td>10.174887</td>\n",
       "    </tr>\n",
       "    <tr>\n",
       "      <th>1</th>\n",
       "      <td>Alaska</td>\n",
       "      <td>10.315827</td>\n",
       "      <td>10.292078</td>\n",
       "      <td>10.109261</td>\n",
       "      <td>10.273116</td>\n",
       "    </tr>\n",
       "    <tr>\n",
       "      <th>2</th>\n",
       "      <td>Arizona</td>\n",
       "      <td>10.220629</td>\n",
       "      <td>9.973543</td>\n",
       "      <td>9.883033</td>\n",
       "      <td>10.019569</td>\n",
       "    </tr>\n",
       "    <tr>\n",
       "      <th>3</th>\n",
       "      <td>Arkansas</td>\n",
       "      <td>8.731213</td>\n",
       "      <td>8.226434</td>\n",
       "      <td>8.299177</td>\n",
       "      <td>8.354750</td>\n",
       "    </tr>\n",
       "    <tr>\n",
       "      <th>4</th>\n",
       "      <td>California</td>\n",
       "      <td>12.104890</td>\n",
       "      <td>12.065454</td>\n",
       "      <td>11.999995</td>\n",
       "      <td>12.009110</td>\n",
       "    </tr>\n",
       "  </tbody>\n",
       "</table>\n",
       "</div>"
      ],
      "text/plain": [
       "        State       2014       2015       2016       2017\n",
       "0     Alabama  10.723027  10.742998  10.630642  10.174887\n",
       "1      Alaska  10.315827  10.292078  10.109261  10.273116\n",
       "2     Arizona  10.220629   9.973543   9.883033  10.019569\n",
       "3    Arkansas   8.731213   8.226434   8.299177   8.354750\n",
       "4  California  12.104890  12.065454  11.999995  12.009110"
      ]
     },
     "execution_count": 6,
     "metadata": {},
     "output_type": "execute_result"
    }
   ],
   "source": [
    "#Drop uneccessary column, rename columns\n",
    "obgynreal = obgynreal.drop('FIPS', axis=1)\n",
    "obgynreal.columns =['Year', 'State', 'OBGYN', 'Population']\n",
    "\n",
    "# Rate is per 100,000 population, so it is (OBGYN/Population)*100000\n",
    "obgynreal['Rate'] = (obgynreal['OBGYN']/obgynreal['Population'])*100000\n",
    "\n",
    "#Drop unecessary columns\n",
    "obgynreal = obgynreal.drop(['OBGYN', 'Population'], axis=1)\n",
    "\n",
    "#Extract and clean data for years 2014-2017\n",
    "obgyn_2014 = obgynreal[obgynreal['Year'] == 2014]\n",
    "obgyn_2015 = obgynreal[obgynreal['Year'] == 2015]\n",
    "obgyn_2016 = obgynreal[obgynreal['Year'] == 2016]\n",
    "obgyn_2017 = obgynreal[obgynreal['Year'] == 2017]\n",
    "\n",
    "obgyn_2014 = obgyn_2014.drop('Year', axis=1)\n",
    "obgyn_2014.columns = ['State', 2014]\n",
    "\n",
    "obgyn_2015 = obgyn_2015.drop('Year', axis=1)\n",
    "obgyn_2015.columns = ['State', 2015]\n",
    "\n",
    "obgyn_2016 = obgyn_2016.drop('Year', axis=1)\n",
    "obgyn_2016.columns = ['State', 2016]\n",
    "\n",
    "obgyn_2017 = obgyn_2017.drop('Year', axis=1)\n",
    "obgyn_2017.columns = ['State', 2017]\n",
    "\n",
    "#Merge all tables into one final table\n",
    "obgyn_mid = pd.merge(obgyn_2014, obgyn_2015, on='State')\n",
    "obgyn_mid2 = pd.merge(obgyn_mid, obgyn_2016, on='State')\n",
    "\n",
    "obgyn = pd.merge(obgyn_mid2, obgyn_2017, on='State')\n",
    "\n",
    "#Dropping DoC because it is not a state\n",
    "obgyn.drop(8, inplace=True)\n",
    "obgyn.reset_index(drop=True)\n",
    "\n",
    "obgyn.head()"
   ]
  },
  {
   "cell_type": "markdown",
   "metadata": {},
   "source": [
    "### Combining our datasets together"
   ]
  },
  {
   "cell_type": "code",
   "execution_count": 7,
   "metadata": {},
   "outputs": [
    {
     "data": {
      "text/html": [
       "<div>\n",
       "<style scoped>\n",
       "    .dataframe tbody tr th:only-of-type {\n",
       "        vertical-align: middle;\n",
       "    }\n",
       "\n",
       "    .dataframe tbody tr th {\n",
       "        vertical-align: top;\n",
       "    }\n",
       "\n",
       "    .dataframe thead th {\n",
       "        text-align: right;\n",
       "    }\n",
       "</style>\n",
       "<table border=\"1\" class=\"dataframe\">\n",
       "  <thead>\n",
       "    <tr style=\"text-align: right;\">\n",
       "      <th></th>\n",
       "      <th>Region and State</th>\n",
       "      <th>No. 2014</th>\n",
       "      <th>No. 2016</th>\n",
       "      <th>No. 2017</th>\n",
       "      <th>Rate 2014</th>\n",
       "      <th>Rate 2016</th>\n",
       "      <th>Rate 2017</th>\n",
       "      <th>% change 2014-2017</th>\n",
       "      <th>No. of clinics 2014</th>\n",
       "      <th>No. of clinics 2017</th>\n",
       "      <th>...</th>\n",
       "      <th>Prop Num of Clinics Decline/Increase</th>\n",
       "      <th>Median Income 2014</th>\n",
       "      <th>Median Income 2016</th>\n",
       "      <th>Median Income 2017</th>\n",
       "      <th>OBGYN Rate 2014</th>\n",
       "      <th>OBGYN Rate 2016</th>\n",
       "      <th>OBGYN Rate 2017</th>\n",
       "      <th>Ratio of Women in Gov 2014</th>\n",
       "      <th>Ratio of Women in Gov 2016</th>\n",
       "      <th>Ratio of Women in Gov 2017</th>\n",
       "    </tr>\n",
       "  </thead>\n",
       "  <tbody>\n",
       "    <tr>\n",
       "      <th>0</th>\n",
       "      <td>Connecticut</td>\n",
       "      <td>13140.0</td>\n",
       "      <td>12210.0</td>\n",
       "      <td>11910.0</td>\n",
       "      <td>19.2</td>\n",
       "      <td>18.1</td>\n",
       "      <td>17.7</td>\n",
       "      <td>-8</td>\n",
       "      <td>25</td>\n",
       "      <td>26</td>\n",
       "      <td>...</td>\n",
       "      <td>NaN</td>\n",
       "      <td>70100.0</td>\n",
       "      <td>82900.0</td>\n",
       "      <td>82000.0</td>\n",
       "      <td>19.518016</td>\n",
       "      <td>19.376745</td>\n",
       "      <td>19.062568</td>\n",
       "      <td>0.288770</td>\n",
       "      <td>0.272727</td>\n",
       "      <td>0.272727</td>\n",
       "    </tr>\n",
       "    <tr>\n",
       "      <th>1</th>\n",
       "      <td>Maine</td>\n",
       "      <td>2220.0</td>\n",
       "      <td>2060.0</td>\n",
       "      <td>2040.0</td>\n",
       "      <td>9.5</td>\n",
       "      <td>8.9</td>\n",
       "      <td>8.8</td>\n",
       "      <td>-7</td>\n",
       "      <td>4</td>\n",
       "      <td>16</td>\n",
       "      <td>...</td>\n",
       "      <td>increase</td>\n",
       "      <td>49500.0</td>\n",
       "      <td>59900.0</td>\n",
       "      <td>62200.0</td>\n",
       "      <td>11.277441</td>\n",
       "      <td>10.965250</td>\n",
       "      <td>10.779193</td>\n",
       "      <td>0.290323</td>\n",
       "      <td>0.344086</td>\n",
       "      <td>0.344086</td>\n",
       "    </tr>\n",
       "    <tr>\n",
       "      <th>2</th>\n",
       "      <td>Massachusetts</td>\n",
       "      <td>21020.0</td>\n",
       "      <td>19200.0</td>\n",
       "      <td>18590.0</td>\n",
       "      <td>15.3</td>\n",
       "      <td>14.0</td>\n",
       "      <td>13.5</td>\n",
       "      <td>-12</td>\n",
       "      <td>14</td>\n",
       "      <td>19</td>\n",
       "      <td>...</td>\n",
       "      <td>increase</td>\n",
       "      <td>69200.0</td>\n",
       "      <td>85000.0</td>\n",
       "      <td>85500.0</td>\n",
       "      <td>15.121398</td>\n",
       "      <td>15.047464</td>\n",
       "      <td>14.490178</td>\n",
       "      <td>0.250000</td>\n",
       "      <td>0.260000</td>\n",
       "      <td>0.260000</td>\n",
       "    </tr>\n",
       "    <tr>\n",
       "      <th>3</th>\n",
       "      <td>New Hampshire</td>\n",
       "      <td>2540.0</td>\n",
       "      <td>2310.0</td>\n",
       "      <td>2210.0</td>\n",
       "      <td>10.4</td>\n",
       "      <td>9.6</td>\n",
       "      <td>9.2</td>\n",
       "      <td>-12</td>\n",
       "      <td>4</td>\n",
       "      <td>4</td>\n",
       "      <td>...</td>\n",
       "      <td>NaN</td>\n",
       "      <td>66600.0</td>\n",
       "      <td>80100.0</td>\n",
       "      <td>81100.0</td>\n",
       "      <td>13.566343</td>\n",
       "      <td>13.560135</td>\n",
       "      <td>13.032518</td>\n",
       "      <td>0.287736</td>\n",
       "      <td>0.287736</td>\n",
       "      <td>0.287736</td>\n",
       "    </tr>\n",
       "    <tr>\n",
       "      <th>4</th>\n",
       "      <td>New Jersey</td>\n",
       "      <td>44460.0</td>\n",
       "      <td>48300.0</td>\n",
       "      <td>48110.0</td>\n",
       "      <td>25.8</td>\n",
       "      <td>28.2</td>\n",
       "      <td>28.0</td>\n",
       "      <td>9</td>\n",
       "      <td>41</td>\n",
       "      <td>41</td>\n",
       "      <td>...</td>\n",
       "      <td>NaN</td>\n",
       "      <td>72000.0</td>\n",
       "      <td>85900.0</td>\n",
       "      <td>88500.0</td>\n",
       "      <td>15.170882</td>\n",
       "      <td>14.489401</td>\n",
       "      <td>14.068955</td>\n",
       "      <td>0.300000</td>\n",
       "      <td>0.216667</td>\n",
       "      <td>0.300000</td>\n",
       "    </tr>\n",
       "  </tbody>\n",
       "</table>\n",
       "<p>5 rows × 24 columns</p>\n",
       "</div>"
      ],
      "text/plain": [
       "  Region and State  No. 2014  No. 2016  No. 2017  Rate 2014  Rate 2016  \\\n",
       "0      Connecticut   13140.0   12210.0   11910.0       19.2       18.1   \n",
       "1            Maine    2220.0    2060.0    2040.0        9.5        8.9   \n",
       "2    Massachusetts   21020.0   19200.0   18590.0       15.3       14.0   \n",
       "3    New Hampshire    2540.0    2310.0    2210.0       10.4        9.6   \n",
       "4       New Jersey   44460.0   48300.0   48110.0       25.8       28.2   \n",
       "\n",
       "   Rate 2017  % change 2014-2017  No. of clinics 2014  No. of clinics 2017  \\\n",
       "0       17.7                  -8                   25                   26   \n",
       "1        8.8                  -7                    4                   16   \n",
       "2       13.5                 -12                   14                   19   \n",
       "3        9.2                 -12                    4                    4   \n",
       "4       28.0                   9                   41                   41   \n",
       "\n",
       "   ...  Prop Num of Clinics Decline/Increase  Median Income 2014  \\\n",
       "0  ...                                   NaN             70100.0   \n",
       "1  ...                              increase             49500.0   \n",
       "2  ...                              increase             69200.0   \n",
       "3  ...                                   NaN             66600.0   \n",
       "4  ...                                   NaN             72000.0   \n",
       "\n",
       "   Median Income 2016  Median Income 2017 OBGYN Rate 2014  OBGYN Rate 2016  \\\n",
       "0             82900.0             82000.0       19.518016        19.376745   \n",
       "1             59900.0             62200.0       11.277441        10.965250   \n",
       "2             85000.0             85500.0       15.121398        15.047464   \n",
       "3             80100.0             81100.0       13.566343        13.560135   \n",
       "4             85900.0             88500.0       15.170882        14.489401   \n",
       "\n",
       "   OBGYN Rate 2017  Ratio of Women in Gov 2014  Ratio of Women in Gov 2016  \\\n",
       "0        19.062568                    0.288770                    0.272727   \n",
       "1        10.779193                    0.290323                    0.344086   \n",
       "2        14.490178                    0.250000                    0.260000   \n",
       "3        13.032518                    0.287736                    0.287736   \n",
       "4        14.068955                    0.300000                    0.216667   \n",
       "\n",
       "   Ratio of Women in Gov 2017  \n",
       "0                    0.272727  \n",
       "1                    0.344086  \n",
       "2                    0.260000  \n",
       "3                    0.287736  \n",
       "4                    0.300000  \n",
       "\n",
       "[5 rows x 24 columns]"
      ]
     },
     "execution_count": 7,
     "metadata": {},
     "output_type": "execute_result"
    }
   ],
   "source": [
    "# Merging aisau 2 and 4 together\n",
    "aisau_merged_24 = aisau2.merge(aisau4.drop(columns = \"% change 2014-2017\"),\n",
    "                            left_on = \"Region and State\", right_on = \"Region and state\").drop(columns = \"Region and state\")\n",
    "\n",
    "descriptor_decrease = '10 states with proportionately largest declines in number of clinics'\n",
    "descriptor_increase = '10 states with proportionately largest increases in number of clinics'\n",
    "\n",
    "# Merging aisau 2, 4, and 5 together\n",
    "aisau_merged_245 = aisau_merged_24.merge(aisau5[[\"Location\",\"No. of clinics % change\", \"Total no. of new restrictions in effect 2014–2017\",\n",
    "                           \"Prop Num of Clinics Decline/Increase\"]], left_on = \"Region and State\", right_on = \"Location\", how = \"left\"\n",
    "                  ).drop(columns = \"Location\")\n",
    "\n",
    "# Making it more clear if the proportional number of clinics is in the top ten decrease or increase\n",
    "aisau_merged_245[\"Prop Num of Clinics Decline/Increase\"] = aisau_merged_245[\"Prop Num of Clinics Decline/Increase\"].apply(\n",
    "    lambda x: \"increase\" if x == descriptor_increase else \"decrease\" if x == descriptor_decrease else x)\n",
    "\n",
    "# Isolate the columns we care about\n",
    "mhis1_columns = mhis.copy()[[\"State\", \"2014\"]]\n",
    "\n",
    "#Make their names more understandable\n",
    "mhis1_columns.columns = [\"State\", \"Median Income 2014\"]\n",
    "\n",
    "#Merge aisau245 and mhis' table 1 together\n",
    "aisau245_mhis1 = aisau_merged_245.merge(mhis1_columns, left_on = \"Region and State\", right_on = \"State\").drop(columns = \"State\")\n",
    "\n",
    "# Isolate the columns we care about\n",
    "mhis2_columns = mhis2.copy()[[\"State\", \"2016\", \"2017\"]]\n",
    "\n",
    "#Make their names more understandable\n",
    "mhis2_columns.columns = [\"State\", \"Median Income 2016\", \"Median Income 2017\"]\n",
    "\n",
    "#Merge aisau245 and mhis' table 1 together\n",
    "aisau245_mhis12 = aisau245_mhis1.merge(mhis2_columns, left_on = \"Region and State\", right_on = \"State\").drop(columns = \"State\")\n",
    "\n",
    "# Rename the columns for clarity\n",
    "obgyn.columns = [\"State\", \"OBGYN Rate 2014\", \"OBGYN Rate 2015\", \"OBGYN Rate 2016\", \"OBGYN Rate 2017\"]\n",
    "\n",
    "# Merge obgyn with the other tables\n",
    "aisau_mhis_obgyn = aisau245_mhis12.merge(obgyn[[\"State\", \"OBGYN Rate 2014\", \"OBGYN Rate 2016\", \"OBGYN Rate 2017\"]], left_on = \"Region and State\",\n",
    "                      right_on = \"State\").drop(columns = \"State\")\n",
    "aisau_mhis_obgyn.head()\n",
    "\n",
    "# Rename the columns for clarity\n",
    "merged_gov.columns = [\"State\", \"Ratio of Women in Gov 2014\", \"Ratio of Women in Gov 2015\", \"Ratio of Women in Gov 2016\",\"Ratio of Women in Gov 2017\"]\n",
    "\n",
    "# Merge the government ratios with the other tables\n",
    "df = aisau_mhis_obgyn.merge(merged_gov[[\"State\", \"Ratio of Women in Gov 2014\", \"Ratio of Women in Gov 2016\", \"Ratio of Women in Gov 2017\"]],\n",
    "                       left_on = \"Region and State\", right_on = \"State\").drop(columns = \"State\")\n",
    "df = df.reset_index(drop = True)\n",
    "\n",
    "# Our final dataset\n",
    "df.head()"
   ]
  },
  {
   "cell_type": "code",
   "execution_count": 8,
   "metadata": {},
   "outputs": [
    {
     "data": {
      "text/plain": [
       "Index(['Region and State', 'No. 2014', 'No. 2016', 'No. 2017', 'Rate 2014',\n",
       "       'Rate 2016', 'Rate 2017', '% change 2014-2017', 'No. of clinics 2014',\n",
       "       'No. of clinics 2017', '% of counties without a clinic, 2017',\n",
       "       '% of women in counties with no clinic, 2017',\n",
       "       'No. of clinics % change',\n",
       "       'Total no. of new restrictions in effect 2014–2017',\n",
       "       'Prop Num of Clinics Decline/Increase', 'Median Income 2014',\n",
       "       'Median Income 2016', 'Median Income 2017', 'OBGYN Rate 2014',\n",
       "       'OBGYN Rate 2016', 'OBGYN Rate 2017', 'Ratio of Women in Gov 2014',\n",
       "       'Ratio of Women in Gov 2016', 'Ratio of Women in Gov 2017'],\n",
       "      dtype='object')"
      ]
     },
     "execution_count": 8,
     "metadata": {},
     "output_type": "execute_result"
    }
   ],
   "source": [
    "# All of the column inside of our final DataFrame\n",
    "df.columns"
   ]
  },
  {
   "cell_type": "code",
   "execution_count": 9,
   "metadata": {},
   "outputs": [],
   "source": [
    "# Isolating the columns coressponding to which year\n",
    "    # Note that we do not have the Number of clinics in 2016\n",
    "columns_2014 = ['Region and State', 'No. 2014', 'Rate 2014','No. of clinics 2014','Median Income 2014','OBGYN Rate 2014','Ratio of Women in Gov 2014']\n",
    "columns_2016 = ['Region and State', 'No. 2016','Rate 2016','Median Income 2016','OBGYN Rate 2016','Ratio of Women in Gov 2016']\n",
    "columns_2017 = ['Region and State', 'No. 2017', 'Rate 2017','No. of clinics 2017','Median Income 2017','OBGYN Rate 2017','Ratio of Women in Gov 2017']\n",
    "\n",
    "# Isolating the years\n",
    "df_2014 = df[columns_2014]\n",
    "df_2016 = df[columns_2016]\n",
    "df_2017 = df[columns_2017]"
   ]
  },
  {
   "cell_type": "markdown",
   "metadata": {},
   "source": [
    "# Results\n",
    "\n",
    "## Exploratory Data Analysis\n",
    "\n",
    "Carry out whatever EDA you need to for your project.  Because every project will be different we can't really give you much of a template at this point. But please make sure you describe the what and why in text here as well as providing interpretation of results and context.\n",
    "\n",
    "- Prof says to do about 5 (can do more)"
   ]
  },
  {
   "cell_type": "markdown",
   "metadata": {},
   "source": [
    "### Scatter plots\n",
    "\n",
    "We want to see if there is a linear relationship between the independent variables and the dependent variable. In our case the Abortion Rate: `Rate 2014`, `Rate 2016`, and `Rate 2017` are our dependent variables. Our independent variables are `Ratio of Women in Gov`, `Median Income`, and `OBGYN Rate`."
   ]
  },
  {
   "cell_type": "code",
   "execution_count": 14,
   "metadata": {},
   "outputs": [],
   "source": [
    "import matplotlib.pyplot as plt"
   ]
  },
  {
   "cell_type": "code",
   "execution_count": 32,
   "metadata": {},
   "outputs": [
    {
     "data": {
      "image/png": "[encoded data removed]",
      "text/plain": [
       "<Figure size 800x600 with 1 Axes>"
      ]
     },
     "metadata": {},
     "output_type": "display_data"
    }
   ],
   "source": [
    "plt.figure(figsize=(8, 6))\n",
    "\n",
    "# Plot Median Income and Abortion Rate\n",
    "plt.scatter(df['Median Income 2014'], df[\"Rate 2014\"], color='#fc8d59', label='2014')\n",
    "plt.scatter(df['Median Income 2016'], df[\"Rate 2016\"], color='gold', label='2016')\n",
    "plt.scatter(df['Median Income 2017'], df[\"Rate 2017\"], color='#91cf60', label='2017')\n",
    "plt.xlabel('Median Income')\n",
    "plt.ylabel('Abortion Rate')\n",
    "plt.legend()\n",
    "plt.show()\n",
    "\n",
    "# Looks about linear"
   ]
  },
  {
   "cell_type": "code",
   "execution_count": 33,
   "metadata": {},
   "outputs": [
    {
     "data": {
      "image/png": "[encoded data removed]",
      "text/plain": [
       "<Figure size 800x600 with 1 Axes>"
      ]
     },
     "metadata": {},
     "output_type": "display_data"
    }
   ],
   "source": [
    "plt.figure(figsize=(8, 6))\n",
    "\n",
    "# Plot OBGYN Rate and Abortion Rate\n",
    "plt.scatter(df['OBGYN Rate 2014'], df[\"Rate 2014\"], color='#fc8d59', label='2014')\n",
    "plt.scatter(df['OBGYN Rate 2016'], df[\"Rate 2016\"], color='gold', label='2016')\n",
    "plt.scatter(df['OBGYN Rate 2017'], df[\"Rate 2017\"], color='#91cf60', label='2017')\n",
    "plt.xlabel('Median Income')\n",
    "plt.ylabel('Abortion Rate')\n",
    "plt.legend()\n",
    "plt.show()\n",
    "\n",
    "# Also looks about linear"
   ]
  },
  {
   "cell_type": "code",
   "execution_count": 34,
   "metadata": {},
   "outputs": [
    {
     "data": {
      "image/png": "[encoded data removed]",
      "text/plain": [
       "<Figure size 800x600 with 1 Axes>"
      ]
     },
     "metadata": {},
     "output_type": "display_data"
    }
   ],
   "source": [
    "plt.figure(figsize=(8, 6))\n",
    "\n",
    "# Plot OBGYN Rate and Abortion Rate\n",
    "plt.scatter(df['Ratio of Women in Gov 2014'], df[\"Rate 2014\"], color='#fc8d59', label='2014')\n",
    "plt.scatter(df['Ratio of Women in Gov 2016'], df[\"Rate 2016\"], color='gold', label='2016')\n",
    "plt.scatter(df['Ratio of Women in Gov 2017'], df[\"Rate 2017\"], color='#91cf60', label='2017')\n",
    "plt.xlabel('Median Income')\n",
    "plt.ylabel('Abortion Rate')\n",
    "plt.legend()\n",
    "plt.show()\n",
    "\n",
    "# Not quite linear"
   ]
  },
  {
   "cell_type": "markdown",
   "metadata": {},
   "source": [
    "## First Analysis You Did - Give it a better title\n",
    "\n",
    "Some more words and stuff.  Remember notebooks work best if you interleave the code that generates a result with properly annotate figures and text that puts these results into context."
   ]
  },
  {
   "cell_type": "code",
   "execution_count": 10,
   "metadata": {},
   "outputs": [],
   "source": [
    "## YOUR CODE HERE\n",
    "## FEEL FREE TO ADD MULTIPLE CELLS PER SECTION"
   ]
  },
  {
   "cell_type": "markdown",
   "metadata": {},
   "source": [
    "## Second Analysis You Did - Give it a better title\n",
    "\n",
    "Some more words and stuff.  Remember notebooks work best if you interleave the code that generates a result with properly annotate figures and text that puts these results into context."
   ]
  },
  {
   "cell_type": "code",
   "execution_count": 11,
   "metadata": {},
   "outputs": [],
   "source": [
    "## YOUR CODE HERE\n",
    "## FEEL FREE TO ADD MULTIPLE CELLS PER SECTION"
   ]
  },
  {
   "cell_type": "markdown",
   "metadata": {},
   "source": [
    "## ETC AD NASEUM\n",
    "\n",
    "Some more words and stuff.  Remember notebooks work best if you interleave the code that generates a result with properly annotate figures and text that puts these results into context."
   ]
  },
  {
   "cell_type": "code",
   "execution_count": 12,
   "metadata": {},
   "outputs": [],
   "source": [
    "## YOUR CODE HERE\n",
    "## FEEL FREE TO ADD MULTIPLE CELLS PER SECTION"
   ]
  },
  {
   "cell_type": "markdown",
   "metadata": {},
   "source": [
    "# Ethics & Privacy"
   ]
  },
  {
   "cell_type": "markdown",
   "metadata": {},
   "source": [
    "### RETHINK, did we do anything that means we have to update this?"
   ]
  },
  {
   "cell_type": "markdown",
   "metadata": {},
   "source": [
    "In all of the datasets we have utilized, we have accessed these specific ones from public institutions or have already been labeled public-use datasets. Therefore, the subjects used in the research have already consented and answered all, if any, anonymity agreements or anything else necessary to protect their privacy. For the intent of use in this project, there are no additional steps for us to take to further participants’ privacies.\n",
    "Beyond privacy concerns, we must consider the reliability of our data. If we are considering abortion rates, we must consider the possibility of underreporting and illegal abortions. Additionally it is possible that political agendas or compromises in data collecting infrastructure causing unreliable data. We will do the best we can to find the most complete and reliable data, while still considering the possibilities of bias or possible underreporting. "
   ]
  },
  {
   "cell_type": "markdown",
   "metadata": {},
   "source": [
    "# Discusison and Conclusion\n",
    "\n",
    "Wrap it all up here.  Somewhere between 3 and 10 paragraphs roughly.  A good time to refer back to your Background section and review how this work extended the previous stuff. \n",
    "\n",
    "\n",
    "# Team Contributions\n",
    "\n",
    "Speficy who did what.  This should be pretty granular, perhaps bullet points, no more than a few sentences per person."
   ]
  }
 ],
 "metadata": {
  "kernelspec": {
   "display_name": "Python 3 (ipykernel)",
   "language": "python",
   "name": "python3"
  },
  "language_info": {
   "codemirror_mode": {
    "name": "ipython",
    "version": 3
   },
   "file_extension": ".py",
   "mimetype": "text/x-python",
   "name": "python",
   "nbconvert_exporter": "python",
   "pygments_lexer": "ipython3",
   "version": "3.11.5"
  }
 },
 "nbformat": 4,
 "nbformat_minor": 4
}
