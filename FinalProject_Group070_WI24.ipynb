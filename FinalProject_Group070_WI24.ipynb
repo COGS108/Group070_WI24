{
 "cells": [
  {
   "cell_type": "markdown",
   "metadata": {},
   "source": [
    "# COGS 108 - Final Project (change this to your project's title)\n",
    "\n",
    "# Permissions\n",
    "\n",
    "Place an `X` in the appropriate bracket below to specify if you would like your group's project to be made available to the public. (Note that student names will be included (but PIDs will be scraped from any groups who include their PIDs).\n",
    "\n",
    "* [  ] YES - make available\n",
    "* [  ] NO - keep private\n",
    "\n",
    "# Names\n",
    "\n",
    "- Deena Pederson\n",
    "- Vedika Harnathka\n",
    "- Paola Sanchez\n",
    "- Anne Pham\n",
    "- Zoe Ludena\n",
    "\n",
    "# Abstract\n",
    "\n",
    "Please write one to four paragraphs that describe a very brief overview of why you did this, how you did, and the major findings and conclusions."
   ]
  },
  {
   "cell_type": "markdown",
   "metadata": {},
   "source": [
    "# Research Question"
   ]
  },
  {
   "cell_type": "markdown",
   "metadata": {},
   "source": [
    "How have abortion rates changed in response to changes in various factors - such as the representation of female politicians, access to obstetric and gynecological (OB/GYN) care, and income levels - in the USA from 2014-2017? How will these factors help us predict future abortion rates in the foreseeable future?"
   ]
  },
  {
   "cell_type": "markdown",
   "metadata": {},
   "source": [
    "## Background and Prior Work"
   ]
  },
  {
   "cell_type": "markdown",
   "metadata": {},
   "source": [
    "\n",
    "To be more specific in our research, the definition in which we are abiding by the term “women in governing bodies” are women who are in the respective current state legislature. Throughout our data we will look at all U.S. territories excluding Guam, U.S. Virgin Islands, and the District of Columbia. However, we will be using 3 states as markers and general comparisons to the data: 1) having the highest percentage of women in their state legislature, 2) having the lowest percentage of women in their state legislature, and 3) having the median percentage of women in their state legislature. While proceeding with our research, if we have the time and data to do so, we would love to delve deeper into any possible outliers within the states.\n",
    "\n",
    "One of the first considerations to be made is which states have higher female representation and which have less. We can note that in all 50 states males are over represented while females are underrepresented.[^1] This data splits the measures into two separate categories; state legislatures. Overall Vermont, Maine, and Rhode Island notably have the smallest disparities, while North Dakota, South Dakota, and Nebraska have the highest.\n",
    "\n",
    "A study done by the National Partnership for Women & Families[^2] states with a higher representation of female legislators are more likely to adopt abortion protection policies. This study considers 2 categories of representation in legislation: states where women make up more than a third of the members, and states where women make up less than a third of members. They found that of the prior, 84% of these states have policies that support abortion access while the former only has 15%. They also consider how the ethnic diversity in these women may also correlate.\n",
    "\n",
    "Subsequently, female health is a very general statement, therefore we decided to focus on OB/GYN access. We believe that this may yield some type of correlation between abortion rates. We believe that there will be some type of existing correlation between this accessibility and abortion rates. Additionally, another factor that we must consider are average income rates. In the article, *Rural-urban differences in access to hospital obstetric and neonatal care: how far is the closest one?*, their general conclusion is that: “Women in communities that are already socioeconomically disadvantaged face increasing and substantial travel distances to access perinatal care.[^3] (Hung et al.)\n",
    "\n",
    "[^1]: Wolf, C. (2022, August 25). [Best States for Gender Equality: Representation and Power](https://www.usnews.com/news/best-states/articles/best-states-for-gender-equality-representation-power#:~:text=Vermont%2C%20Maine%20and%20Maryland%20have,women%20compared%20to%2038.1%25%20men)\n",
    "\n",
    "[^2]: Lack of Representation by Women in State Legislatures Threatens Abortion Access. (n.d.). National Partnership for Women & Families. Retrieved February 12, 2024, from [source](https://nationalpartnership.org/news_post/lack-of-representation-women-state-legislatures-threatens-abortion-access/#:~:text=Of%20the%2024%20states%20and)\n",
    "\n",
    "[^3]: Hung, P., Casey, M. M., Kozhimannil, K. B., Karaca-Mandic, P., & Moscovice, I. S. (2018). [Rural-urban differences in access to hospital obstetric and neonatal care: how far is the closest one?](https://doi.org/10.1038/s41372-018-0063-5)"
   ]
  },
  {
   "cell_type": "markdown",
   "metadata": {},
   "source": [
    "# Hypothesis\n"
   ]
  },
  {
   "cell_type": "markdown",
   "metadata": {},
   "source": [
    "Proportionately higher representation of females in state government, lower income level, and higher concentration of OBGYN  correlates to states with higher rates of abortion.\n",
    "We think that with higher representation and advocacy from women in governmental positions of power, this will be reflected through policies allowing for increased access to abortion. \n",
    "Additionally, areas with lower income may have financial burdens not suitable for raising a child, as well as limited access to affordable healthcare and contraceptives. Finally, a higher concentration of OBGYN will correlate to higher access to abortion services and healthcare professionals. "
   ]
  },
  {
   "cell_type": "markdown",
   "metadata": {},
   "source": [
    "# Data"
   ]
  },
  {
   "cell_type": "markdown",
   "metadata": {},
   "source": [
    "**Dataset #1: Abortion Incidence**\n",
    "\n",
    "\n",
    "Link: https://www.guttmacher.org/report/abortion-incidence-service-availability-us-2017 \n",
    "\n",
    "\n",
    "Table 1 contains the number of reported abortions, abortion rate, and abortion ratio in the United States from the years 2000-2017. To clean this table we removed the brackets and commas so that the No. of abortions (in 000’s), Rate, and Ratio could be converted to floats. \n",
    "- `aisau1` Number of Observations: 18\n",
    "- `aisau1` Number of Variables: 4\n",
    "\n",
    "Table 2 contains the number of reported abortions and abortion rate in 2014, 2016, and 2017 by region and state. There is also a percentage change from 2014 to 2017. The only cleaning required for this dataset was removing the commas in the data. \n",
    "- `aisau2` Number of Observations: 56\n",
    "- `aisau2` Number of Variables: 8\n",
    "\n",
    "Table 3 provides information about the number and percentage of abortion providers by type and caseload for the years 2014 and 2017. We cleaned this data by removing the commas from the 'Facilities No. 2014', 'Facilities No. 2017', 'Abortions No. 2014',  and 'Abortions No. 2017' columns.\n",
    "- `aisau3` Number of Observations: 10\n",
    "- `aisau3` Number of Variables: 9\n",
    "\n",
    "Table 4 holds the total number of abortion clinics, the percentage of counties without a clinic, and percentage of women living in these counties, by state and region in the years 2014 and 2017. This dataset did not require any further cleaning since all the values were integers.\n",
    "- `aisau4` Number of Observations: 56\n",
    "- `aisau4` Number of Variables: 6\n",
    "\n",
    "Table 5 provides information about the number of abortion clinics in 2014 and 2017 and the percentage change between these years. Additionally, it contains the abortion rate in 2014 and 2017 and the change between these years. It is focused on the states with the proportionately largest decrease in number of clinics and increase in number of clinics. 'Abortion rate 2014', 'Abortion rate 2017' were cleaned by removing commas. \n",
    "- `aisau5` Number of Observations: 21\n",
    "- `aisau5` Number of Variables: 9\n",
    "\n",
    "Table 6 contains the number of medication abortions, among facilities offering only early medication abortions. We removed the commas and switched the objects to floats.  \n",
    "- `aisau6` Number of Observations: 8\n",
    "- `aisau6` Number of Variables: 4\n",
    "\n",
    "Some of the notable variables in this dataset include the abortion rate by state and region, as well as the number of abortion providers by time and region."
   ]
  },
  {
   "cell_type": "markdown",
   "metadata": {},
   "source": [
    "**Dataset #2: Median Household Income by State**\n",
    "- Link: https://nces.ed.gov/programs/digest/d16/tables/dt16_102.30.asp\n",
    "- Number of Observations: 52\n",
    "- `mhis` (1990-2015) Number of Variables: 17\n",
    "- `mhis2`  (2015-2021) Number of Variables: 19\n",
    "\n",
    "This dataset contains information about the median household income in the United States as a whole, as well as broken down by individual states. It contains data for the years 1990- 2015, and 2015-2021 (excluding 2020) with the median for each year as well as the standard error for each year. To clean this dataset, we needed to remove the dollar signs (present in doubles $$) as well as the parentheses to convert appropriate variables to floats. Some of the key information we will utilize from this dataset is from the years 2014-2017 since that is when our first dataset is focused on."
   ]
  },
  {
   "cell_type": "markdown",
   "metadata": {},
   "source": [
    "**Dataset #3: History of Women in the US Congress**\n",
    "\n",
    "- Link: https://cawp.rutgers.edu/facts/levels-office/congress/history-women-us-congress\n",
    "- `congress` Number of Observations: 54\n",
    "- `congress` Number of Variables: 6\n",
    "\n",
    "This dataset provides information on the number of women in the senate, women in the house, and total women in congress over 2 year terms. The information provided was an object with the number of women in each of these categories and then in parentheses specified if these were made up of democrats or republicans. We cleaned this data by splitting each of these 3 data points into 3 more subcategories to identify the number of democrat, republican, and total women in the Senate, House, and Congress."
   ]
  },
  {
   "cell_type": "markdown",
   "metadata": {},
   "source": [
    "**Dataset #4: OB/GYN Rate Per State, 2019-2021**\n",
    "\n",
    "- Link: https://data.hrsa.gov/topics/health-workforce/ahrf\n",
    "- `obgyn1` Number of Observations: 60\n",
    "- `obgyn1` Number of Variables: 5\n",
    "- `obgyn2` Number of Observations: 60\n",
    "- `obgyn2` Number of Variables: 5\n",
    "- `obgyn3` Number of Observations: 60\n",
    "- `obgyn3` Number of Variables: 5\n",
    "\n",
    "This dataset provides information on the rate of OB/GYNs per state from 2019 to 2021. This rate is per 100,000 population, from the HRSA (Health Resources and Services Organization). The data from each year was downloaded as a separate csv file, cleaned to include only the state name and the rate for that year, and then merged into one dataset with all three years.\n",
    "\n",
    "*Note*: The years are not consistent with the rest of the data currently, but we have requested the source for data for years 2014-2017. The data will look very similar so the cleaning/merging should look exactly the same as it does right now."
   ]
  },
  {
   "cell_type": "markdown",
   "metadata": {},
   "source": [
    "# WHAT DATA ARE WE ACTUALLY USING? LET'S ONLY EXPLAIN THOSE ^^^\n",
    "\n",
    "And only include the code for those below"
   ]
  },
  {
   "cell_type": "code",
   "execution_count": null,
   "metadata": {},
   "outputs": [],
   "source": []
  },
  {
   "cell_type": "markdown",
   "metadata": {},
   "source": [
    "## Dataset #1 (use name instead of number here)"
   ]
  },
  {
   "cell_type": "code",
   "execution_count": null,
   "metadata": {},
   "outputs": [],
   "source": [
    "## YOUR CODE TO LOAD/CLEAN/TIDY/WRANGLE THE DATA GOES HERE\n",
    "## FEEL FREE TO ADD MULTIPLE CELLS PER SECTION "
   ]
  },
  {
   "cell_type": "markdown",
   "metadata": {},
   "source": [
    "## Dataset #2 (if you have more than one, use name instead of number here)"
   ]
  },
  {
   "cell_type": "code",
   "execution_count": null,
   "metadata": {},
   "outputs": [],
   "source": [
    "## YOUR CODE TO LOAD/CLEAN/TIDY/WRANGLE THE DATA GOES HERE\n",
    "## FEEL FREE TO ADD MULTIPLE CELLS PER SECTION "
   ]
  },
  {
   "cell_type": "markdown",
   "metadata": {},
   "source": [
    "# Results\n",
    "\n",
    "## Exploratory Data Analysis\n",
    "\n",
    "Carry out whatever EDA you need to for your project.  Because every project will be different we can't really give you much of a template at this point. But please make sure you describe the what and why in text here as well as providing interpretation of results and context.\n",
    "\n",
    "- Prof says to do about 5 (can do more)"
   ]
  },
  {
   "cell_type": "markdown",
   "metadata": {},
   "source": [
    "## First Analysis You Did - Give it a better title\n",
    "\n",
    "Some more words and stuff.  Remember notebooks work best if you interleave the code that generates a result with properly annotate figures and text that puts these results into context."
   ]
  },
  {
   "cell_type": "code",
   "execution_count": null,
   "metadata": {},
   "outputs": [],
   "source": [
    "## YOUR CODE HERE\n",
    "## FEEL FREE TO ADD MULTIPLE CELLS PER SECTION"
   ]
  },
  {
   "cell_type": "markdown",
   "metadata": {},
   "source": [
    "## Second Analysis You Did - Give it a better title\n",
    "\n",
    "Some more words and stuff.  Remember notebooks work best if you interleave the code that generates a result with properly annotate figures and text that puts these results into context."
   ]
  },
  {
   "cell_type": "code",
   "execution_count": null,
   "metadata": {},
   "outputs": [],
   "source": [
    "## YOUR CODE HERE\n",
    "## FEEL FREE TO ADD MULTIPLE CELLS PER SECTION"
   ]
  },
  {
   "cell_type": "markdown",
   "metadata": {},
   "source": [
    "## ETC AD NASEUM\n",
    "\n",
    "Some more words and stuff.  Remember notebooks work best if you interleave the code that generates a result with properly annotate figures and text that puts these results into context."
   ]
  },
  {
   "cell_type": "code",
   "execution_count": null,
   "metadata": {},
   "outputs": [],
   "source": [
    "## YOUR CODE HERE\n",
    "## FEEL FREE TO ADD MULTIPLE CELLS PER SECTION"
   ]
  },
  {
   "cell_type": "markdown",
   "metadata": {},
   "source": [
    "# Ethics & Privacy"
   ]
  },
  {
   "cell_type": "markdown",
   "metadata": {},
   "source": [
    "In all of the datasets we have utilized, we have accessed these specific ones from public institutions or have already been labeled public-use datasets. Therefore, the subjects used in the research have already consented and answered all, if any, anonymity agreements or anything else necessary to protect their privacy. For the intent of use in this project, there are no additional steps for us to take to further participants’ privacies.\n",
    "Beyond privacy concerns, we must consider the reliability of our data. If we are considering abortion rates, we must consider the possibility of underreporting and illegal abortions. Additionally it is possible that political agendas or compromises in data collecting infrastructure causing unreliable data. We will do the best we can to find the most complete and reliable data, while still considering the possibilities of bias or possible underreporting. "
   ]
  },
  {
   "cell_type": "markdown",
   "metadata": {},
   "source": [
    "# Discusison and Conclusion\n",
    "\n",
    "Wrap it all up here.  Somewhere between 3 and 10 paragraphs roughly.  A good time to refer back to your Background section and review how this work extended the previous stuff. \n",
    "\n",
    "\n",
    "# Team Contributions\n",
    "\n",
    "Speficy who did what.  This should be pretty granular, perhaps bullet points, no more than a few sentences per person."
   ]
  }
 ],
 "metadata": {
  "kernelspec": {
   "display_name": "Python 3 (ipykernel)",
   "language": "python",
   "name": "python3"
  },
  "language_info": {
   "codemirror_mode": {
    "name": "ipython",
    "version": 3
   },
   "file_extension": ".py",
   "mimetype": "text/x-python",
   "name": "python",
   "nbconvert_exporter": "python",
   "pygments_lexer": "ipython3",
   "version": "3.11.5"
  }
 },
 "nbformat": 4,
 "nbformat_minor": 4
}
